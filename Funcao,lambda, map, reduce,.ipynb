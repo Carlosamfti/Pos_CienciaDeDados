{
 "cells": [
  {
   "cell_type": "code",
   "execution_count": 1,
   "id": "622398b9-e133-48e2-850f-74b37b198450",
   "metadata": {},
   "outputs": [],
   "source": [
    "def func_01 (a):\n",
    "    \"\"\"\n",
    "    Essé é o documentation string (docstring) da função\n",
    "    Simplesmente imprime o valor passado por parâmetro\n",
    "\n",
    "    \"\"\"\n",
    "    print(a)"
   ]
  },
  {
   "cell_type": "code",
   "execution_count": 3,
   "id": "94e50129-1dbb-4dfc-b9b8-f0bf2eb96022",
   "metadata": {},
   "outputs": [
    {
     "name": "stdout",
     "output_type": "stream",
     "text": [
      "6\n"
     ]
    }
   ],
   "source": [
    "func_01(6)"
   ]
  },
  {
   "cell_type": "code",
   "execution_count": 131,
   "id": "f5c0f767-2d36-4250-9d2f-bc5b3f1ef0b7",
   "metadata": {},
   "outputs": [
    {
     "name": "stdout",
     "output_type": "stream",
     "text": [
      "Python\n"
     ]
    }
   ],
   "source": [
    "func_01(\"Python\")"
   ]
  },
  {
   "cell_type": "code",
   "execution_count": 133,
   "id": "1c11a68a-0c42-4b8c-a379-6958fe3c9b86",
   "metadata": {},
   "outputs": [],
   "source": [
    "def inc(num):\n",
    "    \"\"\"\n",
    "    Exemplo de função com  retorno de valor\n",
    "    \"\"\"\n",
    "    return num +1"
   ]
  },
  {
   "cell_type": "code",
   "execution_count": 135,
   "id": "fc121a03-7166-4ad4-b2a4-6e774552b452",
   "metadata": {},
   "outputs": [
    {
     "data": {
      "text/plain": [
       "5"
      ]
     },
     "execution_count": 135,
     "metadata": {},
     "output_type": "execute_result"
    }
   ],
   "source": [
    "inc (4)"
   ]
  },
  {
   "cell_type": "code",
   "execution_count": 139,
   "id": "a359df6d-b70c-44b7-9e40-21bc4ab51b24",
   "metadata": {},
   "outputs": [],
   "source": [
    "def raiz (r,num):\n",
    "    \"\"\" Calula raizes através da operaçaõ de potência\n",
    "    \"\"\"\n",
    "    return num ** (1/r)\n",
    "    "
   ]
  },
  {
   "cell_type": "code",
   "execution_count": 141,
   "id": "414de864-6f1e-47aa-8313-6212d7d7ef4f",
   "metadata": {},
   "outputs": [
    {
     "data": {
      "text/plain": [
       "1.189207115002721"
      ]
     },
     "execution_count": 141,
     "metadata": {},
     "output_type": "execute_result"
    }
   ],
   "source": [
    "raiz(4,2)"
   ]
  },
  {
   "cell_type": "code",
   "execution_count": 143,
   "id": "be86ef47-1e54-47af-a21d-da3dc9ddba27",
   "metadata": {},
   "outputs": [
    {
     "data": {
      "text/plain": [
       "2.0"
      ]
     },
     "execution_count": 143,
     "metadata": {},
     "output_type": "execute_result"
    }
   ],
   "source": [
    "raiz(2,4)"
   ]
  },
  {
   "cell_type": "code",
   "execution_count": 145,
   "id": "88ceb03d-271b-4fac-9662-11632bfaecd3",
   "metadata": {},
   "outputs": [
    {
     "data": {
      "text/plain": [
       "4.0"
      ]
     },
     "execution_count": 145,
     "metadata": {},
     "output_type": "execute_result"
    }
   ],
   "source": [
    "raiz (2,16)"
   ]
  },
  {
   "cell_type": "code",
   "execution_count": 147,
   "id": "89e666fb-7e50-4549-9e40-7f37304dfbb4",
   "metadata": {},
   "outputs": [
    {
     "data": {
      "text/plain": [
       "2.5198420997897464"
      ]
     },
     "execution_count": 147,
     "metadata": {},
     "output_type": "execute_result"
    }
   ],
   "source": [
    "raiz (num = 16 , r = 3)"
   ]
  },
  {
   "cell_type": "code",
   "execution_count": 169,
   "id": "078afc29-9bd7-4b71-8f4e-e9002e8fa323",
   "metadata": {},
   "outputs": [],
   "source": [
    "def raiz (num, r = 2): #Passando o parâmetro raiz por default\n",
    "    \"\"\"\n",
    "    \"\"\"\n",
    "    return num ** (1/r)"
   ]
  },
  {
   "cell_type": "code",
   "execution_count": 173,
   "id": "860a910f-61f8-4af4-b2be-8bf38085e9b6",
   "metadata": {},
   "outputs": [
    {
     "data": {
      "text/plain": [
       "2.0"
      ]
     },
     "execution_count": 173,
     "metadata": {},
     "output_type": "execute_result"
    }
   ],
   "source": [
    "b = raiz(4)\n",
    "b"
   ]
  },
  {
   "cell_type": "code",
   "execution_count": 151,
   "id": "fb6fea44-9a86-4e69-8c1d-caaefd7245f6",
   "metadata": {},
   "outputs": [
    {
     "data": {
      "text/plain": [
       "2.0"
      ]
     },
     "execution_count": 151,
     "metadata": {},
     "output_type": "execute_result"
    }
   ],
   "source": [
    "raiz (4)"
   ]
  },
  {
   "cell_type": "code",
   "execution_count": 153,
   "id": "54e38336-143e-436f-853f-6b9bdd5e9ecf",
   "metadata": {},
   "outputs": [
    {
     "data": {
      "text/plain": [
       "4.0"
      ]
     },
     "execution_count": 153,
     "metadata": {},
     "output_type": "execute_result"
    }
   ],
   "source": [
    "raiz(16)"
   ]
  },
  {
   "cell_type": "code",
   "execution_count": 155,
   "id": "b535cf98-e6c8-4e8f-8be3-a307fa6c8b2d",
   "metadata": {},
   "outputs": [
    {
     "data": {
      "text/plain": [
       "2.0"
      ]
     },
     "execution_count": 155,
     "metadata": {},
     "output_type": "execute_result"
    }
   ],
   "source": [
    "raiz(16,4)"
   ]
  },
  {
   "cell_type": "code",
   "execution_count": 159,
   "id": "df12be9b-8cf8-4da6-9063-d99099bd9058",
   "metadata": {},
   "outputs": [],
   "source": [
    "def soma(*nums): # O asterisco determina os parâmetros arbitrários  (mantidos em uma tupla) fornecidos ao chamar a função\n",
    "    \"\"\"\n",
    "    \"\"\"\n",
    "\n",
    "    soma = 0\n",
    "    for num in nums: # Iteração sobre a tupla, sendo que cada valor é inserido na variável num, sendo somada pela variável soma\n",
    "        soma += num\n",
    "    return soma"
   ]
  },
  {
   "cell_type": "code",
   "execution_count": 17,
   "id": "6dd36b99-50d2-4820-96b1-645c37b9f9b9",
   "metadata": {},
   "outputs": [],
   "source": [
    "def media(*nums): # O asterisco determina os parâmetros arbitrários  (mantidos em uma tupla) fornecidos ao chamar a função\n",
    "    \"\"\"\n",
    "    \"\"\"\n",
    "\n",
    "    soma = 0\n",
    "    count = 0\n",
    "    for num in nums: # Iteração sobre a tupla, sendo que cada valor é inserido na variável num, sendo somada pela variável soma\n",
    "        soma += num\n",
    "        count += 1\n",
    "        print(soma)\n",
    "    return soma / count"
   ]
  },
  {
   "cell_type": "code",
   "execution_count": 7,
   "id": "2d32093d-c6a5-4f83-8c6a-9f4aaa952533",
   "metadata": {},
   "outputs": [],
   "source": [
    "def quadrado_numeros(*nums): \n",
    "    \"\"\"\n",
    "    \"\"\"\n",
    "    soma = 0\n",
    "    for num in nums: # Iteração sobre a tupla, sendo que cada valor é inserido na variável num, sendo somada pela variável soma\n",
    "        print(num ** 2)\n",
    "        soma += num ** 2\n",
    "    return soma"
   ]
  },
  {
   "cell_type": "code",
   "execution_count": 9,
   "id": "6eb7d4bc-3f63-4573-912b-445eb7fa42aa",
   "metadata": {},
   "outputs": [
    {
     "name": "stdout",
     "output_type": "stream",
     "text": [
      "16\n",
      "4\n"
     ]
    },
    {
     "data": {
      "text/plain": [
       "20"
      ]
     },
     "execution_count": 9,
     "metadata": {},
     "output_type": "execute_result"
    }
   ],
   "source": [
    "quadrado_numeros (4,2)"
   ]
  },
  {
   "cell_type": "code",
   "execution_count": 5,
   "id": "cdca48e0-31a0-4a02-8f57-fa86c35bcbc3",
   "metadata": {},
   "outputs": [],
   "source": [
    "def quadrado_numeros(*nums): \n",
    "    \"\"\"\n",
    "    \"\"\"\n",
    "    soma = 0\n",
    "    for num in nums: # Iteração sobre a tupla, sendo que cada valor é inserido na variável num, sendo somada pela variável soma\n",
    "        print(num ** 2)\n",
    "        soma += num ** 2\n",
    "    return soma"
   ]
  },
  {
   "cell_type": "code",
   "execution_count": 163,
   "id": "032148fc-9781-4a77-bb26-f103c561c8ae",
   "metadata": {},
   "outputs": [],
   "source": [
    "def potencia (num, pot):\n",
    "    result = num ** pot\n",
    "    return result"
   ]
  },
  {
   "cell_type": "code",
   "execution_count": 165,
   "id": "bfde26a0-cc43-4c55-bb73-5214064165fa",
   "metadata": {},
   "outputs": [],
   "source": [
    "a = potencia (3,5)"
   ]
  },
  {
   "cell_type": "code",
   "execution_count": 167,
   "id": "f0359474-f5ad-4d94-9232-4da30eaf2cb6",
   "metadata": {},
   "outputs": [
    {
     "data": {
      "text/plain": [
       "243"
      ]
     },
     "execution_count": 167,
     "metadata": {},
     "output_type": "execute_result"
    }
   ],
   "source": [
    "a\n"
   ]
  },
  {
   "cell_type": "code",
   "execution_count": 175,
   "id": "bc4bd305-bfca-4489-8538-1f2f7c96d3ef",
   "metadata": {},
   "outputs": [],
   "source": [
    "def potencia (num, pot):\n",
    "     return num ** pot"
   ]
  },
  {
   "cell_type": "code",
   "execution_count": 177,
   "id": "56cdfa8c-70bf-4565-8f56-24158fb0d614",
   "metadata": {},
   "outputs": [],
   "source": [
    "b = potencia(2,5)"
   ]
  },
  {
   "cell_type": "code",
   "execution_count": 179,
   "id": "72b1bfc4-06a7-4663-97e8-ea1051625377",
   "metadata": {},
   "outputs": [
    {
     "data": {
      "text/plain": [
       "32"
      ]
     },
     "execution_count": 179,
     "metadata": {},
     "output_type": "execute_result"
    }
   ],
   "source": [
    "b"
   ]
  },
  {
   "cell_type": "code",
   "execution_count": 181,
   "id": "53930447-31b4-4e74-ab9b-1aff6203fd5b",
   "metadata": {},
   "outputs": [],
   "source": [
    "def potencia (num, pot): return num ** pot"
   ]
  },
  {
   "cell_type": "code",
   "execution_count": 183,
   "id": "c67e5d34-bf66-4b8a-a614-1785d1cec237",
   "metadata": {},
   "outputs": [
    {
     "data": {
      "text/plain": [
       "<function __main__.<lambda>(num, pot)>"
      ]
     },
     "execution_count": 183,
     "metadata": {},
     "output_type": "execute_result"
    }
   ],
   "source": [
    "lambda num,pot:num ** pot"
   ]
  },
  {
   "cell_type": "code",
   "execution_count": 185,
   "id": "dde5db6d-3f2a-4e9a-8c69-299eab35e4da",
   "metadata": {},
   "outputs": [],
   "source": [
    "lambda_pot = lambda num, pot: num**pot # Atribuição a uma variável para uso posterior"
   ]
  },
  {
   "cell_type": "code",
   "execution_count": 187,
   "id": "35770a4a-37fe-4d78-9ed1-e8e5069e5c2f",
   "metadata": {},
   "outputs": [
    {
     "data": {
      "text/plain": [
       "16"
      ]
     },
     "execution_count": 187,
     "metadata": {},
     "output_type": "execute_result"
    }
   ],
   "source": [
    "lambda_pot(4,2)"
   ]
  },
  {
   "cell_type": "code",
   "execution_count": 189,
   "id": "ed55ef07-8cb5-4537-b8f4-9d9799f65857",
   "metadata": {},
   "outputs": [],
   "source": [
    "par = lambda num: num % 2 == 0"
   ]
  },
  {
   "cell_type": "code",
   "execution_count": 191,
   "id": "1ee426be-4ae0-42fe-a391-e1b7a1c51c57",
   "metadata": {},
   "outputs": [
    {
     "data": {
      "text/plain": [
       "False"
      ]
     },
     "execution_count": 191,
     "metadata": {},
     "output_type": "execute_result"
    }
   ],
   "source": [
    "par(3)"
   ]
  },
  {
   "cell_type": "code",
   "execution_count": 193,
   "id": "6293e49b-621e-4c18-94d5-50d018317d8c",
   "metadata": {},
   "outputs": [],
   "source": [
    "first = lambda x : x[0]"
   ]
  },
  {
   "cell_type": "code",
   "execution_count": 195,
   "id": "9ee1d607-d45e-471d-b061-fed01ba74f71",
   "metadata": {},
   "outputs": [
    {
     "data": {
      "text/plain": [
       "'H'"
      ]
     },
     "execution_count": 195,
     "metadata": {},
     "output_type": "execute_result"
    }
   ],
   "source": [
    "first (\"Hello\")"
   ]
  },
  {
   "cell_type": "code",
   "execution_count": 203,
   "id": "5fee8489-04f1-44e7-9967-eeec76da15d3",
   "metadata": {},
   "outputs": [
    {
     "data": {
      "text/plain": [
       "1"
      ]
     },
     "execution_count": 203,
     "metadata": {},
     "output_type": "execute_result"
    }
   ],
   "source": [
    "first ([1,2,3,4])"
   ]
  },
  {
   "cell_type": "code",
   "execution_count": 205,
   "id": "df99f5bf-b362-45aa-a46e-21542bcc266c",
   "metadata": {},
   "outputs": [],
   "source": [
    "inverte = lambda x : x[::-1]"
   ]
  },
  {
   "cell_type": "code",
   "execution_count": 207,
   "id": "c116af6e-3507-4f90-977f-08d92581592a",
   "metadata": {},
   "outputs": [
    {
     "data": {
      "text/plain": [
       "'elgnuj eht ot emocleW'"
      ]
     },
     "execution_count": 207,
     "metadata": {},
     "output_type": "execute_result"
    }
   ],
   "source": [
    "inverte(\"Welcome to the jungle\")"
   ]
  },
  {
   "cell_type": "code",
   "execution_count": 209,
   "id": "afeb56d6-4d1f-47f7-a2ca-235c944b411a",
   "metadata": {},
   "outputs": [],
   "source": [
    "def fahrenheit(c): #É possível criar uma função para conversão de uma lista de temperaturas\n",
    "    return (9/5) *c + 32"
   ]
  },
  {
   "cell_type": "code",
   "execution_count": 211,
   "id": "185ce41a-439e-480e-9497-c7ea6cdaa0ef",
   "metadata": {},
   "outputs": [],
   "source": [
    "temp_Celsius = [9,22,38,-10,15,27]"
   ]
  },
  {
   "cell_type": "code",
   "execution_count": 269,
   "id": "145a710f-7e4a-4902-9f10-0953b082e007",
   "metadata": {},
   "outputs": [
    {
     "name": "stdout",
     "output_type": "stream",
     "text": [
      "9 ºC    48.2 ºF\n",
      "22 ºC    71.6 ºF\n",
      "38 ºC    100.4 ºF\n",
      "-10 ºC    14.0 ºF\n",
      "15 ºC    59.0 ºF\n",
      "27 ºC    80.6 ºF\n"
     ]
    }
   ],
   "source": [
    "for temp in temp_Celsius:\n",
    "    print(f\"{temp} ºC\" '    ' f\"{fahrenheit(temp)} ºF\")  "
   ]
  },
  {
   "cell_type": "code",
   "execution_count": 277,
   "id": "29763405-744c-4187-912d-020f238c970c",
   "metadata": {},
   "outputs": [],
   "source": [
    "temp_F = []\n",
    "for temp in temp_Celsius:\n",
    "    temp_F += [fahrenheit (temp)]"
   ]
  },
  {
   "cell_type": "code",
   "execution_count": 279,
   "id": "e1c3eca5-b79c-4299-af30-bac6fcf2c4ce",
   "metadata": {},
   "outputs": [
    {
     "data": {
      "text/plain": [
       "[48.2, 71.6, 100.4, 14.0, 59.0, 80.6]"
      ]
     },
     "execution_count": 279,
     "metadata": {},
     "output_type": "execute_result"
    }
   ],
   "source": [
    "temp_F"
   ]
  },
  {
   "cell_type": "code",
   "execution_count": 287,
   "id": "d2ec3df8-0f67-4771-82d1-ca1519302278",
   "metadata": {},
   "outputs": [],
   "source": [
    "temp_F2 = list(map(fahrenheit,temp_Celsius)) # Neste caso através da função map é possível percorrer os elementos da lista\n",
    "                                              # de temperaturas em celsis,convertendo cada uma e abastecendo a lista tempo_F\n",
    "                                            # sem a necessidade de for para percorrer a lista em Celsius\n",
    "\n",
    "\n",
    "\n",
    "\n",
    "\n"
   ]
  },
  {
   "cell_type": "code",
   "execution_count": 289,
   "id": "8e798b39-c38c-401d-95fd-cad5aef25575",
   "metadata": {},
   "outputs": [
    {
     "data": {
      "text/plain": [
       "[48.2, 71.6, 100.4, 14.0, 59.0, 80.6]"
      ]
     },
     "execution_count": 289,
     "metadata": {},
     "output_type": "execute_result"
    }
   ],
   "source": [
    "temp_F2"
   ]
  },
  {
   "cell_type": "code",
   "execution_count": 293,
   "id": "e502571e-fb99-42b7-b887-7dc9b38632ea",
   "metadata": {},
   "outputs": [],
   "source": [
    "temp_F3 = list (map(lambda c:(9/5) * c + 32, temp_Celsius)) #Utiliza-se uma função anonima definida no ato do MAP"
   ]
  },
  {
   "cell_type": "code",
   "execution_count": 295,
   "id": "4f2d03a0-431d-4a52-9b13-c0d26cec6103",
   "metadata": {},
   "outputs": [
    {
     "data": {
      "text/plain": [
       "[48.2, 71.6, 100.4, 14.0, 59.0, 80.6]"
      ]
     },
     "execution_count": 295,
     "metadata": {},
     "output_type": "execute_result"
    }
   ],
   "source": [
    "temp_F3"
   ]
  },
  {
   "cell_type": "code",
   "execution_count": 297,
   "id": "226cd9b8-6700-4f16-8e8e-92a4238c51e5",
   "metadata": {},
   "outputs": [],
   "source": [
    "from functools import reduce"
   ]
  },
  {
   "cell_type": "code",
   "execution_count": 299,
   "id": "2ac540bb-bdd2-46e6-997a-2d2ab991ff31",
   "metadata": {},
   "outputs": [],
   "source": [
    "numeros =  [4,2,7,1,5,9]"
   ]
  },
  {
   "cell_type": "code",
   "execution_count": 305,
   "id": "370341c0-3ad0-4aad-b0cf-beb6e00fac2c",
   "metadata": {},
   "outputs": [],
   "source": [
    "def soma (n1,n2):\n",
    "   \"\"\"\n",
    "   Retorna a soma entre os 2 números recebidos por parâmetro\n",
    "   \"\"\"\n",
    "   return n1 + n2"
   ]
  },
  {
   "cell_type": "code",
   "execution_count": 323,
   "id": "d6520859-4460-49c1-b36f-455a7f795727",
   "metadata": {},
   "outputs": [
    {
     "name": "stdout",
     "output_type": "stream",
     "text": [
      "28\n"
     ]
    }
   ],
   "source": [
    "print(reduce(soma,numeros)) # O reduce itera sobre os numeros, somando-os dois a dois"
   ]
  },
  {
   "cell_type": "code",
   "execution_count": 325,
   "id": "706de839-767b-4e31-8e60-bf207e077ca4",
   "metadata": {},
   "outputs": [
    {
     "name": "stdout",
     "output_type": "stream",
     "text": [
      "28\n"
     ]
    }
   ],
   "source": [
    "print (reduce (lambda n1, n2 : n1 + n2, numeros ))"
   ]
  },
  {
   "cell_type": "code",
   "execution_count": 329,
   "id": "00f77365-ed8e-4d2e-8856-9854cb93e597",
   "metadata": {},
   "outputs": [],
   "source": [
    "def menor(n1,n2):\n",
    "    \"\"\"\n",
    "    Retornar o menor entre os 2 números recebidos por paràmetro\n",
    "    \"\"\"\n",
    "    if n1 < n2:\n",
    "        return n1\n",
    "    else:\n",
    "        return n2"
   ]
  },
  {
   "cell_type": "code",
   "execution_count": 331,
   "id": "32b3b8ed-aa99-4874-98c3-f953b3dd7e16",
   "metadata": {},
   "outputs": [
    {
     "name": "stdout",
     "output_type": "stream",
     "text": [
      "1\n"
     ]
    }
   ],
   "source": [
    "print ( reduce(menor, numeros))"
   ]
  },
  {
   "cell_type": "code",
   "execution_count": 335,
   "id": "ce71e60a-b1a1-4b28-9862-db6bb712d2ac",
   "metadata": {},
   "outputs": [
    {
     "name": "stdout",
     "output_type": "stream",
     "text": [
      "9\n"
     ]
    }
   ],
   "source": [
    "print (reduce(lambda n1,n2: n1 if n1 > n2 else n2, numeros))"
   ]
  },
  {
   "cell_type": "code",
   "execution_count": 339,
   "id": "176144b0-5a2f-46a5-8a59-7c00c402eb45",
   "metadata": {},
   "outputs": [],
   "source": [
    "def impar (num):\n",
    "    if num % 2 != 0:\n",
    "        return True\n",
    "    else:\n",
    "        return False"
   ]
  },
  {
   "cell_type": "code",
   "execution_count": 341,
   "id": "fc14a73d-b768-4162-aaf8-f4f5c457058e",
   "metadata": {},
   "outputs": [],
   "source": [
    "numeros = [4,2,7,1,5,9]"
   ]
  },
  {
   "cell_type": "code",
   "execution_count": 353,
   "id": "2ab9f225-75ab-4fb9-82b8-653ac14d782a",
   "metadata": {},
   "outputs": [],
   "source": [
    "impares = list(filter(impar,numeros))"
   ]
  },
  {
   "cell_type": "code",
   "execution_count": 355,
   "id": "62e46653-c9ec-4a9a-b0f1-611243dbdabc",
   "metadata": {},
   "outputs": [
    {
     "data": {
      "text/plain": [
       "[7, 1, 5, 9]"
      ]
     },
     "execution_count": 355,
     "metadata": {},
     "output_type": "execute_result"
    }
   ],
   "source": [
    "impares"
   ]
  },
  {
   "cell_type": "code",
   "execution_count": 357,
   "id": "874a6cf5-03e3-4341-b6f5-b5f3107735b3",
   "metadata": {},
   "outputs": [],
   "source": [
    "pares = list (filter(lambda num: num%2 == 0, numeros)) "
   ]
  },
  {
   "cell_type": "code",
   "execution_count": 359,
   "id": "2c5d34ef-b65b-43de-a443-a3ba18ee1671",
   "metadata": {},
   "outputs": [
    {
     "data": {
      "text/plain": [
       "[4, 2]"
      ]
     },
     "execution_count": 359,
     "metadata": {},
     "output_type": "execute_result"
    }
   ],
   "source": [
    "pares"
   ]
  },
  {
   "cell_type": "code",
   "execution_count": 387,
   "id": "abe66ff5-d9d3-4ab4-af9a-f7552487fb56",
   "metadata": {},
   "outputs": [
    {
     "data": {
      "text/plain": [
       "[('raul', '1458abcr'), ('bia', '78965rte'), ('josé', '589uty')]"
      ]
     },
     "execution_count": 387,
     "metadata": {},
     "output_type": "execute_result"
    }
   ],
   "source": [
    "usuarios = [\"raul\", \"bia\", \"josé\"]\n",
    "senhas = [\"1458abcr\",\"78965rte\",\"589uty\"]\n",
    "zipped  = list (zip(usuarios,senhas))\n",
    "zipped\n",
    "\n",
    "    \n"
   ]
  },
  {
   "cell_type": "code",
   "execution_count": 403,
   "id": "69da0f1c-e854-4896-bc52-20f9c4cabf6d",
   "metadata": {},
   "outputs": [
    {
     "name": "stdin",
     "output_type": "stream",
     "text": [
      "Informe o nome do usuário bia\n",
      "Informe a senha 78965rte\n"
     ]
    },
    {
     "name": "stdout",
     "output_type": "stream",
     "text": [
      "Usuário logado\n"
     ]
    }
   ],
   "source": [
    "usuario = input(\"Informe o nome do usuário\")\n",
    "senha = input (\"Informe a senha\")\n",
    "logado = False\n",
    "for us,sen in zipped:\n",
    "   if usuario == us and senha == sen: \n",
    "        logado = True \n",
    "if logado == True:\n",
    "    print(\"Usuário logado\")\n",
    "else:\n",
    "    print(\"Usuário inexistente\")\n"
   ]
  },
  {
   "cell_type": "code",
   "execution_count": null,
   "id": "98000a77-0761-465a-8b00-68ffb919424c",
   "metadata": {},
   "outputs": [],
   "source": []
  }
 ],
 "metadata": {
  "kernelspec": {
   "display_name": "Python [conda env:base] *",
   "language": "python",
   "name": "conda-base-py"
  },
  "language_info": {
   "codemirror_mode": {
    "name": "ipython",
    "version": 3
   },
   "file_extension": ".py",
   "mimetype": "text/x-python",
   "name": "python",
   "nbconvert_exporter": "python",
   "pygments_lexer": "ipython3",
   "version": "3.12.7"
  }
 },
 "nbformat": 4,
 "nbformat_minor": 5
}
