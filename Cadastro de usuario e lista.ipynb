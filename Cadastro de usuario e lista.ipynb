{
 "cells": [
  {
   "cell_type": "code",
   "execution_count": 1,
   "id": "e331be0b-8025-4aaa-b51b-95cc2f44463f",
   "metadata": {},
   "outputs": [],
   "source": [
    "lista  = list()"
   ]
  },
  {
   "cell_type": "code",
   "execution_count": 3,
   "id": "10a80bc0-5ebc-4764-a003-09e3275ad034",
   "metadata": {},
   "outputs": [
    {
     "data": {
      "text/plain": [
       "list"
      ]
     },
     "execution_count": 3,
     "metadata": {},
     "output_type": "execute_result"
    }
   ],
   "source": [
    "type(lista)"
   ]
  },
  {
   "cell_type": "code",
   "execution_count": 5,
   "id": "d16809b8-9c23-44c2-b6ee-ddb8d7b851a8",
   "metadata": {},
   "outputs": [
    {
     "data": {
      "text/plain": [
       "[]"
      ]
     },
     "execution_count": 5,
     "metadata": {},
     "output_type": "execute_result"
    }
   ],
   "source": [
    "lista"
   ]
  },
  {
   "cell_type": "code",
   "execution_count": 55,
   "id": "3216eae1-3fbe-4982-90dd-2412401106f3",
   "metadata": {},
   "outputs": [
    {
     "data": {
      "text/plain": [
       "[]"
      ]
     },
     "execution_count": 55,
     "metadata": {},
     "output_type": "execute_result"
    }
   ],
   "source": [
    "lista = [0,0,0,0,0,0,0,0]\n",
    "lista.clear()\n",
    "lista"
   ]
  },
  {
   "cell_type": "code",
   "execution_count": 103,
   "id": "411aab36-1929-4102-8cb0-8cffb4ec2c1b",
   "metadata": {},
   "outputs": [
    {
     "name": "stdin",
     "output_type": "stream",
     "text": [
      "O programa dará acesso a lista: Deseja continuar? sim\n"
     ]
    },
    {
     "name": "stdout",
     "output_type": "stream",
     "text": [
      "Insira o valor para que seja alocado na lista:\n"
     ]
    },
    {
     "name": "stdin",
     "output_type": "stream",
     "text": [
      " 10\n",
      " 5\n",
      " 6\n",
      " 8\n",
      " 10\n",
      " 2\n",
      " 6\n"
     ]
    }
   ],
   "source": [
    "continua = input(\"O programa dará acesso a lista: Deseja continuar?\")\n",
    "if (continua.lower() == \"sim\"): # continua.lower(). Atenderá a condição indendente de como for digitado\n",
    "    print(\"Insira o valor para que seja alocado na lista:\")\n",
    "    lista = [int(input ()) for c in range(7)]\n",
    "else:\n",
    "    print(\"Você decidiu abortar o acesso à lista\")\n",
    "    \n",
    "    \n"
   ]
  },
  {
   "cell_type": "code",
   "execution_count": 105,
   "id": "796f0ce6-66ce-4417-9b82-e2d457f497dc",
   "metadata": {},
   "outputs": [
    {
     "data": {
      "text/plain": [
       "[10, 5, 6, 8, 10, 2, 6]"
      ]
     },
     "execution_count": 105,
     "metadata": {},
     "output_type": "execute_result"
    }
   ],
   "source": [
    "lista"
   ]
  },
  {
   "cell_type": "code",
   "execution_count": 9,
   "id": "495a5f4e-4698-415f-aed6-afac2a327096",
   "metadata": {},
   "outputs": [
    {
     "ename": "KeyboardInterrupt",
     "evalue": "Interrupted by user",
     "output_type": "error",
     "traceback": [
      "\u001b[1;31m---------------------------------------------------------------------------\u001b[0m",
      "\u001b[1;31mKeyboardInterrupt\u001b[0m                         Traceback (most recent call last)",
      "Cell \u001b[1;32mIn[9], line 1\u001b[0m\n\u001b[1;32m----> 1\u001b[0m continua \u001b[38;5;241m=\u001b[39m \u001b[38;5;28minput\u001b[39m(\u001b[38;5;124m\"\u001b[39m\u001b[38;5;124mO programa dará acesso a lista: Deseja continuar?\u001b[39m\u001b[38;5;124m\"\u001b[39m)\n\u001b[0;32m      2\u001b[0m \u001b[38;5;28;01mif\u001b[39;00m (continua\u001b[38;5;241m.\u001b[39mlower() \u001b[38;5;241m==\u001b[39m \u001b[38;5;124m\"\u001b[39m\u001b[38;5;124msim\u001b[39m\u001b[38;5;124m\"\u001b[39m): \u001b[38;5;66;03m# continua.lower(). Atenderá a condição indendente de como for digitado\u001b[39;00m\n\u001b[0;32m      3\u001b[0m     \u001b[38;5;28;01mfor\u001b[39;00m c \u001b[38;5;129;01min\u001b[39;00m \u001b[38;5;28mrange\u001b[39m (\u001b[38;5;241m0\u001b[39m,\u001b[38;5;241m8\u001b[39m):\n",
      "File \u001b[1;32m~\\anaconda3\\Lib\\site-packages\\ipykernel\\kernelbase.py:1262\u001b[0m, in \u001b[0;36mKernel.raw_input\u001b[1;34m(self, prompt)\u001b[0m\n\u001b[0;32m   1260\u001b[0m     msg \u001b[38;5;241m=\u001b[39m \u001b[38;5;124m\"\u001b[39m\u001b[38;5;124mraw_input was called, but this frontend does not support input requests.\u001b[39m\u001b[38;5;124m\"\u001b[39m\n\u001b[0;32m   1261\u001b[0m     \u001b[38;5;28;01mraise\u001b[39;00m StdinNotImplementedError(msg)\n\u001b[1;32m-> 1262\u001b[0m \u001b[38;5;28;01mreturn\u001b[39;00m \u001b[38;5;28mself\u001b[39m\u001b[38;5;241m.\u001b[39m_input_request(\n\u001b[0;32m   1263\u001b[0m     \u001b[38;5;28mstr\u001b[39m(prompt),\n\u001b[0;32m   1264\u001b[0m     \u001b[38;5;28mself\u001b[39m\u001b[38;5;241m.\u001b[39m_parent_ident[\u001b[38;5;124m\"\u001b[39m\u001b[38;5;124mshell\u001b[39m\u001b[38;5;124m\"\u001b[39m],\n\u001b[0;32m   1265\u001b[0m     \u001b[38;5;28mself\u001b[39m\u001b[38;5;241m.\u001b[39mget_parent(\u001b[38;5;124m\"\u001b[39m\u001b[38;5;124mshell\u001b[39m\u001b[38;5;124m\"\u001b[39m),\n\u001b[0;32m   1266\u001b[0m     password\u001b[38;5;241m=\u001b[39m\u001b[38;5;28;01mFalse\u001b[39;00m,\n\u001b[0;32m   1267\u001b[0m )\n",
      "File \u001b[1;32m~\\anaconda3\\Lib\\site-packages\\ipykernel\\kernelbase.py:1305\u001b[0m, in \u001b[0;36mKernel._input_request\u001b[1;34m(self, prompt, ident, parent, password)\u001b[0m\n\u001b[0;32m   1302\u001b[0m \u001b[38;5;28;01mexcept\u001b[39;00m \u001b[38;5;167;01mKeyboardInterrupt\u001b[39;00m:\n\u001b[0;32m   1303\u001b[0m     \u001b[38;5;66;03m# re-raise KeyboardInterrupt, to truncate traceback\u001b[39;00m\n\u001b[0;32m   1304\u001b[0m     msg \u001b[38;5;241m=\u001b[39m \u001b[38;5;124m\"\u001b[39m\u001b[38;5;124mInterrupted by user\u001b[39m\u001b[38;5;124m\"\u001b[39m\n\u001b[1;32m-> 1305\u001b[0m     \u001b[38;5;28;01mraise\u001b[39;00m \u001b[38;5;167;01mKeyboardInterrupt\u001b[39;00m(msg) \u001b[38;5;28;01mfrom\u001b[39;00m \u001b[38;5;28;01mNone\u001b[39;00m\n\u001b[0;32m   1306\u001b[0m \u001b[38;5;28;01mexcept\u001b[39;00m \u001b[38;5;167;01mException\u001b[39;00m:\n\u001b[0;32m   1307\u001b[0m     \u001b[38;5;28mself\u001b[39m\u001b[38;5;241m.\u001b[39mlog\u001b[38;5;241m.\u001b[39mwarning(\u001b[38;5;124m\"\u001b[39m\u001b[38;5;124mInvalid Message:\u001b[39m\u001b[38;5;124m\"\u001b[39m, exc_info\u001b[38;5;241m=\u001b[39m\u001b[38;5;28;01mTrue\u001b[39;00m)\n",
      "\u001b[1;31mKeyboardInterrupt\u001b[0m: Interrupted by user"
     ]
    }
   ],
   "source": [
    "continua = input(\"O programa dará acesso a lista: Deseja continuar?\")\n",
    "if (continua.lower() == \"sim\"): # continua.lower(). Atenderá a condição indendente de como for digitado\n",
    "    for c in range (0,8):\n",
    "        print(\"Insira o valor na posição {} da lista\".format(c))\n",
    "        lista.append (int(input()))\n",
    "else:\n",
    "    print(\"Você decidiu abortar o acesso à lista\")"
   ]
  },
  {
   "cell_type": "code",
   "execution_count": 113,
   "id": "53e7d51c-3ecc-461f-a3f5-4809c36b08fe",
   "metadata": {},
   "outputs": [
    {
     "data": {
      "text/plain": [
       "[10, 5, 6, 8, 10, 2, 6, 10, 5, 6, 7, 2, 2, 2, 2]"
      ]
     },
     "execution_count": 113,
     "metadata": {},
     "output_type": "execute_result"
    }
   ],
   "source": [
    "lista"
   ]
  },
  {
   "cell_type": "code",
   "execution_count": 127,
   "id": "8dfb40bb-474c-4dfa-8789-13b1d59697b2",
   "metadata": {},
   "outputs": [],
   "source": [
    "dic_usuarios = {}"
   ]
  },
  {
   "cell_type": "code",
   "execution_count": 129,
   "id": "13822c8d-a735-475f-ac8d-3312cb991d67",
   "metadata": {},
   "outputs": [
    {
     "data": {
      "text/plain": [
       "{}"
      ]
     },
     "execution_count": 129,
     "metadata": {},
     "output_type": "execute_result"
    }
   ],
   "source": [
    "dic_usuarios\n",
    "    "
   ]
  },
  {
   "cell_type": "code",
   "execution_count": 9,
   "id": "c465ee53-1299-4148-a31e-b666d7d1fb13",
   "metadata": {},
   "outputs": [],
   "source": [
    "dic_usuaríos = {\"Elizabeth\":{\"senha\":\"eliza@beth123\"},\"Eduardo\" :{\"senha\" :\"dudu_123\"}}"
   ]
  },
  {
   "cell_type": "code",
   "execution_count": 49,
   "id": "1aa60962-4e15-482d-84fd-37f9ec3637a5",
   "metadata": {},
   "outputs": [
    {
     "data": {
      "text/plain": [
       "{'Elizabeth': {'senha': 'eliza@beth123'}, 'Eduardo': {'senha': 'dudu_123'}}"
      ]
     },
     "execution_count": 49,
     "metadata": {},
     "output_type": "execute_result"
    }
   ],
   "source": [
    "dic_usuaríos"
   ]
  },
  {
   "cell_type": "code",
   "execution_count": 21,
   "id": "d1440400-7a0b-4cdf-9bcf-9610fa388fd7",
   "metadata": {},
   "outputs": [],
   "source": [
    "# Dicionário de usuários\n",
    "usuario =  {}\n"
   ]
  },
  {
   "cell_type": "code",
   "execution_count": 85,
   "id": "5ef2ab3e-929b-4976-a90f-2388f4c2fe54",
   "metadata": {},
   "outputs": [
    {
     "data": {
      "text/plain": [
       "{'291084ca': {'nome': 'Carlos', 'senha': '291084789654lko#$'},\n",
       " '291084carly': {'nome': 'Carla', 'senha': '123456fg'}}"
      ]
     },
     "execution_count": 85,
     "metadata": {},
     "output_type": "execute_result"
    }
   ],
   "source": [
    "usuario"
   ]
  },
  {
   "cell_type": "code",
   "execution_count": 103,
   "id": "4ee59508-72a0-4ef6-b22c-37234708d696",
   "metadata": {},
   "outputs": [],
   "source": [
    "# Função Cadastro\n",
    "def cadastro():\n",
    "    id_usuario = input(\"Digite o ID do usuário:\")\n",
    "    nome= input(\"Informe o nome do usuário:\")\n",
    "    senha= input(\"Informe uma senha com pelo menos 5 caracteres:\")\n",
    "    if len(senha) > 5 :\n",
    "        usuario[id_usuario] = {\"nome\":nome,\"senha\":senha}\n",
    "        print(f\"O usuário {nome} foi cadastrado com sucesso no sistema\")\n",
    "    else:\n",
    "        print(\"A senha não atende os pré-requisitos\")  "
   ]
  },
  {
   "cell_type": "code",
   "execution_count": 53,
   "id": "de5773bc-7c21-490c-9628-dbee30bd9328",
   "metadata": {},
   "outputs": [],
   "source": [
    "#Função login\n",
    "def login() :\n",
    "    login = input(\"Informe o ID do usuário\")\n",
    "    if login in usuario:\n",
    "        print(\"Usuário encontrado\")\n",
    "        senha_login = input(\"Informe a senha\")\n",
    "        if usuario[login][\"senha\"] == senha_login:\n",
    "            print(\"Usuário logado\")\n",
    "        else:\n",
    "            print(\"Senha inválida\")\n",
    "    else:\n",
    "        print(\"Usuário não encontrado ou incorreto\")\n"
   ]
  },
  {
   "cell_type": "code",
   "execution_count": 119,
   "id": "5298e427-b868-4ac2-a41b-1c83511364c0",
   "metadata": {},
   "outputs": [
    {
     "name": "stdout",
     "output_type": "stream",
     "text": [
      "Escolha a opção desejada:\n",
      "\n",
      "Login (1)\n",
      "\n",
      "Cadastro(2)\n",
      "\n",
      "Alteração de senha(3)\n",
      "\n",
      "Exibir usuários cadastrados(4)\n"
     ]
    },
    {
     "name": "stdin",
     "output_type": "stream",
     "text": [
      " 4\n"
     ]
    },
    {
     "name": "stdout",
     "output_type": "stream",
     "text": [
      "ID: 291084ca\n",
      "Nome: Carlos\n",
      "ID: 291084carly\n",
      "Nome: Carla\n"
     ]
    }
   ],
   "source": [
    "#Menu Principal\n",
    "\n",
    "print(\"Escolha a opção desejada:\")\n",
    "print(\"\\nLogin (1)\")\n",
    "print(\"\\nCadastro(2)\")\n",
    "print(\"\\nAlteração de senha(3)\")\n",
    "print(\"\\nExibir usuários cadastrados(4)\")\n",
    "\n",
    "menu = int(input())\n",
    "\n",
    "if (menu == 1) ^ (menu == 2) ^ (menu == 3) ^ (menu == 4):\n",
    "    if menu == 1:\n",
    "        login()\n",
    "    elif menu == 2:\n",
    "        cadastro()\n",
    "    elif menu == 3:\n",
    "        nova_senha()\n",
    "    elif menu == 4:\n",
    "        exibir_usuarios()\n",
    "else:\n",
    "    print(\"Opção inválida\")\n"
   ]
  },
  {
   "cell_type": "code",
   "execution_count": 67,
   "id": "6de862ca-9c6b-48eb-9e4c-e0d22bda9a59",
   "metadata": {},
   "outputs": [],
   "source": [
    "#Função Nova senha\n",
    "def nova_senha():\n",
    "    login = input(\"Digite o ID do usuário\")\n",
    "    if login in usuario :\n",
    "        print(\"Usuário encontrado.....\")\n",
    "        validar_senha = input(\"Digite a senha\")\n",
    "        if usuario[login][\"senha\"] == validar_senha :\n",
    "            nova_senha = input(\"Digite sua nova senha(Mínimo 5 caracteres)\")\n",
    "            if nova_senha != usuario[login][\"senha\"]:\n",
    "                if len(nova_senha) > 5 :\n",
    "                    usuario[login][\"senha\"] = nova_senha\n",
    "                    print(\"Senha redefinida\")\n",
    "                else:\n",
    "                    print(\"A senha não atende os pré-requisitos\")\n",
    "            else:\n",
    "                print(\"A nova senha não pode ser igual a anterior\")    \n",
    "        else:\n",
    "            print(\"Senha inválida\")\n",
    "    else:\n",
    "        print(\"Usuário inválido ou não cadastrado\")\n",
    "    "
   ]
  },
  {
   "cell_type": "code",
   "execution_count": 117,
   "id": "04c574f2-e40f-4cd1-a285-9b1ee9e564a1",
   "metadata": {},
   "outputs": [],
   "source": [
    "#Função Exibir Usuários\n",
    "def exibir_usuarios():\n",
    "    if usuario:\n",
    "        for id_usuario, dados in usuario.items():\n",
    "            print(f\"ID: {id_usuario}\")\n",
    "            print(f\"Nome: {dados['nome']}\")\n",
    "    else:\n",
    "        print(\"Não há usuário cadastrado\")\n"
   ]
  },
  {
   "cell_type": "code",
   "execution_count": null,
   "id": "2561df87-9554-405f-bcc8-4e9809081c8b",
   "metadata": {},
   "outputs": [],
   "source": []
  }
 ],
 "metadata": {
  "kernelspec": {
   "display_name": "Python [conda env:base] *",
   "language": "python",
   "name": "conda-base-py"
  },
  "language_info": {
   "codemirror_mode": {
    "name": "ipython",
    "version": 3
   },
   "file_extension": ".py",
   "mimetype": "text/x-python",
   "name": "python",
   "nbconvert_exporter": "python",
   "pygments_lexer": "ipython3",
   "version": "3.12.7"
  }
 },
 "nbformat": 4,
 "nbformat_minor": 5
}
