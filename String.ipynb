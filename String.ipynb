{
 "cells": [
  {
   "cell_type": "code",
   "execution_count": 60,
   "id": "9f7b7d10-58b5-44d5-8db5-850a11d9a2d0",
   "metadata": {},
   "outputs": [
    {
     "data": {
      "text/plain": [
       "'Hello World'"
      ]
     },
     "execution_count": 60,
     "metadata": {},
     "output_type": "execute_result"
    }
   ],
   "source": [
    "\"Hello World\""
   ]
  },
  {
   "cell_type": "code",
   "execution_count": 58,
   "id": "1f4667dc-7896-4b73-85f6-2f15f76ea17c",
   "metadata": {},
   "outputs": [
    {
     "data": {
      "text/plain": [
       "'Hello World'"
      ]
     },
     "execution_count": 58,
     "metadata": {},
     "output_type": "execute_result"
    }
   ],
   "source": [
    "'Hello World'"
   ]
  },
  {
   "cell_type": "code",
   "execution_count": 62,
   "id": "77a28aa3-f466-469e-8b88-3e45c1dae457",
   "metadata": {},
   "outputs": [
    {
     "data": {
      "text/plain": [
       "'Ele é \"bonito\"...rsrsrs'"
      ]
     },
     "execution_count": 62,
     "metadata": {},
     "output_type": "execute_result"
    }
   ],
   "source": [
    "'Ele é \"bonito\"...rsrsrs'"
   ]
  },
  {
   "cell_type": "code",
   "execution_count": 64,
   "id": "7c1a719f-65eb-46f6-864b-986421232573",
   "metadata": {},
   "outputs": [
    {
     "data": {
      "text/plain": [
       "\"I'm a teacher\""
      ]
     },
     "execution_count": 64,
     "metadata": {},
     "output_type": "execute_result"
    }
   ],
   "source": [
    "\"I'm a teacher\""
   ]
  },
  {
   "cell_type": "code",
   "execution_count": 66,
   "id": "631a6d3f-9809-4048-bda1-1e213d834235",
   "metadata": {},
   "outputs": [],
   "source": [
    "nome = \"Joaquim\""
   ]
  },
  {
   "cell_type": "code",
   "execution_count": 68,
   "id": "3f395723-d484-4ed7-8266-b7e19782c2ba",
   "metadata": {},
   "outputs": [
    {
     "data": {
      "text/plain": [
       "'Joaquim'"
      ]
     },
     "execution_count": 68,
     "metadata": {},
     "output_type": "execute_result"
    }
   ],
   "source": [
    "nome"
   ]
  },
  {
   "cell_type": "code",
   "execution_count": 72,
   "id": "8918858f-5d73-4bbb-b248-5710a0aa04f5",
   "metadata": {},
   "outputs": [
    {
     "name": "stdout",
     "output_type": "stream",
     "text": [
      "Joaquim\n"
     ]
    }
   ],
   "source": [
    "print(nome)"
   ]
  },
  {
   "cell_type": "code",
   "execution_count": 74,
   "id": "e4d1d74a-69f8-49bc-a053-c0c806d58812",
   "metadata": {},
   "outputs": [
    {
     "data": {
      "text/plain": [
       "str"
      ]
     },
     "execution_count": 74,
     "metadata": {},
     "output_type": "execute_result"
    }
   ],
   "source": [
    "type(nome)"
   ]
  },
  {
   "cell_type": "code",
   "execution_count": 76,
   "id": "8c1dba48-1fb9-4521-8fcf-5d9b12a6ffcd",
   "metadata": {},
   "outputs": [
    {
     "data": {
      "text/plain": [
       "7"
      ]
     },
     "execution_count": 76,
     "metadata": {},
     "output_type": "execute_result"
    }
   ],
   "source": [
    "len(nome)"
   ]
  },
  {
   "cell_type": "code",
   "execution_count": 78,
   "id": "48fb4bb8-03e1-4bd7-b97d-aa3174e9c1ce",
   "metadata": {},
   "outputs": [
    {
     "name": "stdout",
     "output_type": "stream",
     "text": [
      "J\n"
     ]
    }
   ],
   "source": [
    "print(nome[0])"
   ]
  },
  {
   "cell_type": "code",
   "execution_count": 80,
   "id": "11fa601a-c78d-456d-9139-b0fd457f08f3",
   "metadata": {},
   "outputs": [],
   "source": [
    "s = \"Python\""
   ]
  },
  {
   "cell_type": "code",
   "execution_count": 82,
   "id": "5bfa011e-6321-4b44-be2b-4dfda2c0fc8d",
   "metadata": {},
   "outputs": [
    {
     "name": "stdout",
     "output_type": "stream",
     "text": [
      "P\n",
      "y\n",
      "t\n",
      "h\n",
      "o\n",
      "n\n"
     ]
    }
   ],
   "source": [
    "print(s[0])\n",
    "print(s[1])\n",
    "print(s[2])\n",
    "print(s[3])\n",
    "print(s[4])\n",
    "print(s[5])"
   ]
  },
  {
   "cell_type": "code",
   "execution_count": 84,
   "id": "9350649d-d9f2-4616-9f91-796b84d74ee5",
   "metadata": {},
   "outputs": [
    {
     "name": "stdout",
     "output_type": "stream",
     "text": [
      "P\n",
      "y\n",
      "t\n",
      "h\n",
      "o\n",
      "n\n"
     ]
    }
   ],
   "source": [
    "print(s[-6])\n",
    "print(s[-5])\n",
    "print(s[-4])\n",
    "print(s[-3])\n",
    "print(s[-2])\n",
    "print(s[-1])"
   ]
  },
  {
   "cell_type": "code",
   "execution_count": 88,
   "id": "344c8ff9-618c-4122-a9dc-e883ad9c5ce3",
   "metadata": {},
   "outputs": [
    {
     "data": {
      "text/plain": [
       "'n'"
      ]
     },
     "execution_count": 88,
     "metadata": {},
     "output_type": "execute_result"
    }
   ],
   "source": [
    "s[5]"
   ]
  },
  {
   "cell_type": "code",
   "execution_count": 90,
   "id": "78742432-41c7-4dd7-81ec-62748aca2abd",
   "metadata": {},
   "outputs": [
    {
     "data": {
      "text/plain": [
       "'n'"
      ]
     },
     "execution_count": 90,
     "metadata": {},
     "output_type": "execute_result"
    }
   ],
   "source": [
    "s[len(s)-1]"
   ]
  },
  {
   "cell_type": "code",
   "execution_count": 92,
   "id": "9077ed53-e7bf-460c-a8b3-6500b1a988fc",
   "metadata": {},
   "outputs": [
    {
     "data": {
      "text/plain": [
       "'n'"
      ]
     },
     "execution_count": 92,
     "metadata": {},
     "output_type": "execute_result"
    }
   ],
   "source": [
    "s[-1]"
   ]
  },
  {
   "cell_type": "code",
   "execution_count": 94,
   "id": "fb56d5f6-314b-482e-ac58-eb5a89a934fa",
   "metadata": {},
   "outputs": [],
   "source": [
    "s = \"Jupyter Notebook\""
   ]
  },
  {
   "cell_type": "code",
   "execution_count": 96,
   "id": "f1bba3cb-3469-448a-800b-f995dee45ecf",
   "metadata": {},
   "outputs": [
    {
     "data": {
      "text/plain": [
       "'Jupyter'"
      ]
     },
     "execution_count": 96,
     "metadata": {},
     "output_type": "execute_result"
    }
   ],
   "source": [
    "s[0:7] #Acessando o índice 0 a 7-1 (6)"
   ]
  },
  {
   "cell_type": "code",
   "execution_count": 98,
   "id": "5cff5adf-7652-46ba-8975-6d8715b29ef1",
   "metadata": {},
   "outputs": [
    {
     "data": {
      "text/plain": [
       "'Jupyter'"
      ]
     },
     "execution_count": 98,
     "metadata": {},
     "output_type": "execute_result"
    }
   ],
   "source": [
    "s[-16:-9] #Acessando o índice -16 a -9-1"
   ]
  },
  {
   "cell_type": "code",
   "execution_count": 100,
   "id": "dc724257-642f-4933-83eb-92d3863a26de",
   "metadata": {},
   "outputs": [
    {
     "data": {
      "text/plain": [
       "'Jupyter'"
      ]
     },
     "execution_count": 100,
     "metadata": {},
     "output_type": "execute_result"
    }
   ],
   "source": [
    "s[:7] #Acessando o índice 0 a 7-1"
   ]
  },
  {
   "cell_type": "code",
   "execution_count": 102,
   "id": "3ad75eb8-6eb7-4b32-9d43-ff0515982fec",
   "metadata": {},
   "outputs": [
    {
     "data": {
      "text/plain": [
       "'Jupyter'"
      ]
     },
     "execution_count": 102,
     "metadata": {},
     "output_type": "execute_result"
    }
   ],
   "source": [
    "s[:-9] #Acessando o índice -16 a -9-1"
   ]
  },
  {
   "cell_type": "code",
   "execution_count": 104,
   "id": "e7529fc6-277a-45f2-a7aa-ca1cf1da4f84",
   "metadata": {},
   "outputs": [
    {
     "data": {
      "text/plain": [
       "'Notebook'"
      ]
     },
     "execution_count": 104,
     "metadata": {},
     "output_type": "execute_result"
    }
   ],
   "source": [
    "s[8:16] #Acessando o índice 8 a 15"
   ]
  },
  {
   "cell_type": "code",
   "execution_count": 116,
   "id": "8f156916-20e0-4df5-8acc-55b16073c73d",
   "metadata": {},
   "outputs": [
    {
     "data": {
      "text/plain": [
       "'Notebook'"
      ]
     },
     "execution_count": 116,
     "metadata": {},
     "output_type": "execute_result"
    }
   ],
   "source": [
    "s[-8:]"
   ]
  },
  {
   "cell_type": "code",
   "execution_count": 110,
   "id": "965d1390-53f1-4a20-ae3f-b4ac72fc14f2",
   "metadata": {},
   "outputs": [
    {
     "data": {
      "text/plain": [
       "'Notebook'"
      ]
     },
     "execution_count": 110,
     "metadata": {},
     "output_type": "execute_result"
    }
   ],
   "source": [
    "s[8:]"
   ]
  },
  {
   "cell_type": "code",
   "execution_count": 118,
   "id": "9dfbf677-e494-435e-a4ab-74968dd28b3c",
   "metadata": {},
   "outputs": [
    {
     "data": {
      "text/plain": [
       "'Jptr'"
      ]
     },
     "execution_count": 118,
     "metadata": {},
     "output_type": "execute_result"
    }
   ],
   "source": [
    "s[0:7:2] # Acessando posições não contínuas e imprimindo"
   ]
  },
  {
   "cell_type": "code",
   "execution_count": 120,
   "id": "ab3982d5-16e7-4e65-8795-5b49ebd6bf04",
   "metadata": {},
   "outputs": [
    {
     "data": {
      "text/plain": [
       "'Jyrobk'"
      ]
     },
     "execution_count": 120,
     "metadata": {},
     "output_type": "execute_result"
    }
   ],
   "source": [
    "s[0:16:3] # Acessando posições não contínuas e imprimindo"
   ]
  },
  {
   "cell_type": "code",
   "execution_count": 122,
   "id": "a5178c9e-529c-4df4-84c0-fe88f0b0bf57",
   "metadata": {},
   "outputs": [
    {
     "data": {
      "text/plain": [
       "'Jyrobk'"
      ]
     },
     "execution_count": 122,
     "metadata": {},
     "output_type": "execute_result"
    }
   ],
   "source": [
    "s[::3]"
   ]
  },
  {
   "cell_type": "code",
   "execution_count": 124,
   "id": "7d038089-8683-4c63-9c31-5dd676f91ff6",
   "metadata": {},
   "outputs": [
    {
     "data": {
      "text/plain": [
       "'koobetoN retypuJ'"
      ]
     },
     "execution_count": 124,
     "metadata": {},
     "output_type": "execute_result"
    }
   ],
   "source": [
    "s[-1::-1]"
   ]
  },
  {
   "cell_type": "code",
   "execution_count": 126,
   "id": "cc347522-a379-4dbb-9c60-9a0331d3f3a9",
   "metadata": {},
   "outputs": [
    {
     "data": {
      "text/plain": [
       "'otrp'"
      ]
     },
     "execution_count": 126,
     "metadata": {},
     "output_type": "execute_result"
    }
   ],
   "source": [
    "s[-2::-4] # Começo no -2 até o final com incremento de -4. \n",
    "# Vale ressaltar que o índice recebe três argumentos, sendo os primeiros as posições final e inicial e o último o incremento"
   ]
  },
  {
   "cell_type": "code",
   "execution_count": 138,
   "id": "4eefcc94-39d7-4adb-b728-0a219395cb40",
   "metadata": {},
   "outputs": [
    {
     "name": "stdout",
     "output_type": "stream",
     "text": [
      "P\n",
      "Py\n",
      "Pyt\n",
      "Pyth\n",
      "Pytho\n",
      "Python\n"
     ]
    }
   ],
   "source": [
    "p = \"Python\"\n",
    "print(p[:1])\n",
    "print(p[:2])\n",
    "print(p[:3])\n",
    "print(p[:4])\n",
    "print(p[:5])\n",
    "print(p[:6])"
   ]
  },
  {
   "cell_type": "code",
   "execution_count": 166,
   "id": "5cfea2ce-c962-46bc-b772-a40b3fdaf388",
   "metadata": {},
   "outputs": [
    {
     "name": "stdout",
     "output_type": "stream",
     "text": [
      "P\n",
      "Py\n",
      "Pyt\n",
      "Pyth\n",
      "Pytho\n",
      "Python\n",
      "Python\n"
     ]
    }
   ],
   "source": [
    "print(p[0:1])\n",
    "print(p[0:2])\n",
    "print(p[0:3])\n",
    "print(p[0:4])\n",
    "print(p[0:5])\n",
    "print(p[0:6])\n",
    "print(p[0:])"
   ]
  },
  {
   "cell_type": "code",
   "execution_count": 168,
   "id": "a2c821bf-3d14-438e-9ce5-c504bae88e83",
   "metadata": {},
   "outputs": [
    {
     "name": "stdout",
     "output_type": "stream",
     "text": [
      "Python\n",
      "ython\n",
      "thon\n",
      "hon\n",
      "on\n",
      "n\n"
     ]
    }
   ],
   "source": [
    "print(p[0:])\n",
    "print(p[1:])\n",
    "print(p[2:])\n",
    "print(p[3:])\n",
    "print(p[4:])\n",
    "print(p[5:])\n"
   ]
  },
  {
   "cell_type": "code",
   "execution_count": 88,
   "id": "de443933-9c4c-48c3-982a-f9e316cfb363",
   "metadata": {},
   "outputs": [],
   "source": [
    "t = \"Paralelepipedo\"\n",
    "t1 = \"Paral\""
   ]
  },
  {
   "cell_type": "code",
   "execution_count": 100,
   "id": "40cc3380-8fbf-4dda-a0b0-e8185a610a5b",
   "metadata": {},
   "outputs": [
    {
     "name": "stdout",
     "output_type": "stream",
     "text": [
      "O substring Paral está contido na string Paralelepipedo => True\n",
      "O substring Paral não está contido na string Paralelepipedo => False\n"
     ]
    }
   ],
   "source": [
    "print(\"O substring {} está contido na string {} => {}\". format(t1,t,t1 in t))\n",
    "print(\"O substring {} não está contido na string {} => {}\". format(t1,t,t1 not in t))"
   ]
  },
  {
   "cell_type": "code",
   "execution_count": 190,
   "id": "e3050def-6e2c-483b-8536-fa744d232edc",
   "metadata": {},
   "outputs": [
    {
     "data": {
      "text/plain": [
       "'ppllrP'"
      ]
     },
     "execution_count": 190,
     "metadata": {},
     "output_type": "execute_result"
    }
   ],
   "source": [
    "t[-4::-2]"
   ]
  },
  {
   "cell_type": "code",
   "execution_count": 196,
   "id": "2d694e3f-03cf-4095-aa44-6d2d76854a1b",
   "metadata": {},
   "outputs": [
    {
     "data": {
      "text/plain": [
       "'Paralelepipedo'"
      ]
     },
     "execution_count": 196,
     "metadata": {},
     "output_type": "execute_result"
    }
   ],
   "source": [
    "t[0::]"
   ]
  },
  {
   "cell_type": "code",
   "execution_count": 86,
   "id": "98fee1f8-c4a3-470a-b94a-a6759e46f6b4",
   "metadata": {},
   "outputs": [
    {
     "data": {
      "text/plain": [
       "'Paral'"
      ]
     },
     "execution_count": 86,
     "metadata": {},
     "output_type": "execute_result"
    }
   ],
   "source": [
    "t[-14:-9:1]"
   ]
  },
  {
   "cell_type": "code",
   "execution_count": 230,
   "id": "6b220afc-af6d-43c2-802c-439aecd60f90",
   "metadata": {},
   "outputs": [
    {
     "data": {
      "text/plain": [
       "'Paralelepipedo'"
      ]
     },
     "execution_count": 230,
     "metadata": {},
     "output_type": "execute_result"
    }
   ],
   "source": [
    "t[0:14:]"
   ]
  },
  {
   "cell_type": "code",
   "execution_count": 242,
   "id": "fdfc7d74-0f57-49ba-97ee-c5396aac5356",
   "metadata": {},
   "outputs": [],
   "source": [
    "novastring = p + t"
   ]
  },
  {
   "cell_type": "code",
   "execution_count": 244,
   "id": "c772f8bb-4452-41bf-9347-f9e49f15e668",
   "metadata": {},
   "outputs": [
    {
     "data": {
      "text/plain": [
       "'PythonParalelepipedo'"
      ]
     },
     "execution_count": 244,
     "metadata": {},
     "output_type": "execute_result"
    }
   ],
   "source": [
    "novastring "
   ]
  },
  {
   "cell_type": "code",
   "execution_count": 246,
   "id": "89d79350-e3f7-4d2a-b1a3-f9c8c5c781e9",
   "metadata": {},
   "outputs": [],
   "source": [
    "novastring2 = novastring * 10"
   ]
  },
  {
   "cell_type": "code",
   "execution_count": 248,
   "id": "a8ec10d5-4066-4080-b6d6-8e3a57d8698b",
   "metadata": {},
   "outputs": [
    {
     "data": {
      "text/plain": [
       "'PythonParalelepipedoPythonParalelepipedoPythonParalelepipedoPythonParalelepipedoPythonParalelepipedoPythonParalelepipedoPythonParalelepipedoPythonParalelepipedoPythonParalelepipedoPythonParalelepipedo'"
      ]
     },
     "execution_count": 248,
     "metadata": {},
     "output_type": "execute_result"
    }
   ],
   "source": [
    "novastring2"
   ]
  },
  {
   "cell_type": "code",
   "execution_count": 288,
   "id": "8922c865-6d59-446f-a05c-a3452075080f",
   "metadata": {},
   "outputs": [
    {
     "name": "stdout",
     "output_type": "stream",
     "text": [
      "A\n",
      "linguagem\n",
      "siamed é nohtyP megaugnil A\n",
      "A linguagem Python é demais.Sensacional !!!\n",
      "PythonPythonPython\n",
      "O substring Python está contido em A linguagem Python é demais => True\n",
      "O substring Python não está contido em 'A linguagem Python é demais' => True\n"
     ]
    }
   ],
   "source": [
    "s = \"A linguagem Python é demais\"\n",
    "s1 = \"Python\"\n",
    "print(s[0])\n",
    "print(s[2:11]) #Atenção ao intervalo 2 a 18. A contagem é sempre um índice a mais para pegar o anterior\n",
    "print(s[::-1])\n",
    "s2 = s + \".Sensacional !!!\"\n",
    "print(s2)\n",
    "s3 = s1 *3\n",
    "print(s3)\n",
    "print(\"O substring {} está contido em {} => {}\".format(s1,s,s1 in s))\n",
    "print(\"O substring {} não está contido em '{}' => {}\".format(s1,s,s1 in s))"
   ]
  },
  {
   "cell_type": "code",
   "execution_count": 290,
   "id": "4b0e4e08-a252-4b9a-8cfd-7dfcdd161c50",
   "metadata": {},
   "outputs": [
    {
     "ename": "TypeError",
     "evalue": "'str' object does not support item assignment",
     "output_type": "error",
     "traceback": [
      "\u001b[1;31m---------------------------------------------------------------------------\u001b[0m",
      "\u001b[1;31mTypeError\u001b[0m                                 Traceback (most recent call last)",
      "Cell \u001b[1;32mIn[290], line 2\u001b[0m\n\u001b[0;32m      1\u001b[0m imutavel \u001b[38;5;241m=\u001b[39m \u001b[38;5;124m\"\u001b[39m\u001b[38;5;124mPythoM\u001b[39m\u001b[38;5;124m\"\u001b[39m\n\u001b[1;32m----> 2\u001b[0m imutavel[\u001b[38;5;241m5\u001b[39m] \u001b[38;5;241m=\u001b[39m \u001b[38;5;124m\"\u001b[39m\u001b[38;5;124mn\u001b[39m\u001b[38;5;124m\"\u001b[39m\n",
      "\u001b[1;31mTypeError\u001b[0m: 'str' object does not support item assignment"
     ]
    }
   ],
   "source": [
    "imutavel = \"PythoM\"\n",
    "imutavel[5] = \"n\"   #O String é imutável"
   ]
  },
  {
   "cell_type": "code",
   "execution_count": 292,
   "id": "2906bc29-c4e0-4663-99bb-d729d8944d1c",
   "metadata": {},
   "outputs": [
    {
     "data": {
      "text/plain": [
       "'Pythom'"
      ]
     },
     "execution_count": 292,
     "metadata": {},
     "output_type": "execute_result"
    }
   ],
   "source": [
    "imutavel.capitalize()"
   ]
  },
  {
   "cell_type": "code",
   "execution_count": 148,
   "id": "4391b6f4-f1e6-4f84-b88d-5aa65ae813cf",
   "metadata": {},
   "outputs": [],
   "source": [
    "s = \"ABcde\"\n",
    "s1 = s.upper() "
   ]
  },
  {
   "cell_type": "code",
   "execution_count": 150,
   "id": "c6b29a01-b2bc-4d5e-ba73-615cae7b6eb2",
   "metadata": {},
   "outputs": [
    {
     "data": {
      "text/plain": [
       "'ABCDE'"
      ]
     },
     "execution_count": 150,
     "metadata": {},
     "output_type": "execute_result"
    }
   ],
   "source": [
    "s1"
   ]
  },
  {
   "cell_type": "code",
   "execution_count": 152,
   "id": "d8e172c6-7299-4d46-b3d2-f7d6b60fdd82",
   "metadata": {},
   "outputs": [],
   "source": [
    "s2 = s.lower()"
   ]
  },
  {
   "cell_type": "code",
   "execution_count": 154,
   "id": "e94f54d8-6add-4b51-bcbf-1dbf0847d6ba",
   "metadata": {},
   "outputs": [
    {
     "data": {
      "text/plain": [
       "'abcde'"
      ]
     },
     "execution_count": 154,
     "metadata": {},
     "output_type": "execute_result"
    }
   ],
   "source": [
    "s2"
   ]
  },
  {
   "cell_type": "code",
   "execution_count": 156,
   "id": "dd8242b3-8119-4257-896c-2d712f3a7999",
   "metadata": {},
   "outputs": [],
   "source": [
    "s2 = s.upper()"
   ]
  },
  {
   "cell_type": "code",
   "execution_count": 158,
   "id": "bea654ce-9fdd-433b-8715-db7736f24dd5",
   "metadata": {},
   "outputs": [
    {
     "data": {
      "text/plain": [
       "'ABCDE'"
      ]
     },
     "execution_count": 158,
     "metadata": {},
     "output_type": "execute_result"
    }
   ],
   "source": [
    "s2"
   ]
  },
  {
   "cell_type": "code",
   "execution_count": 238,
   "id": "2978dc74-2ddc-48b5-986b-03d2ea5c99d5",
   "metadata": {},
   "outputs": [],
   "source": [
    "s = \"PYTHON\""
   ]
  },
  {
   "cell_type": "code",
   "execution_count": 254,
   "id": "7c7d3e4e-3ad1-44ac-827b-da63b700c2cf",
   "metadata": {},
   "outputs": [
    {
     "data": {
      "text/plain": [
       "'                      PYTHON                      '"
      ]
     },
     "execution_count": 254,
     "metadata": {},
     "output_type": "execute_result"
    }
   ],
   "source": [
    "s4 = s.center(50)\n",
    "s4"
   ]
  },
  {
   "cell_type": "code",
   "execution_count": 248,
   "id": "3099a952-147d-4e7d-86a6-5eb125694e86",
   "metadata": {},
   "outputs": [],
   "source": [
    "s2 = s.center(50,\"#\")"
   ]
  },
  {
   "cell_type": "code",
   "execution_count": 250,
   "id": "be1166b4-a4ba-404b-aa85-cc107bf3574b",
   "metadata": {},
   "outputs": [
    {
     "data": {
      "text/plain": [
       "'######################PYTHON######################'"
      ]
     },
     "execution_count": 250,
     "metadata": {},
     "output_type": "execute_result"
    }
   ],
   "source": [
    "s2"
   ]
  },
  {
   "cell_type": "code",
   "execution_count": 328,
   "id": "bd3a8889-3f86-4919-b850-6ddac84b6fd9",
   "metadata": {},
   "outputs": [
    {
     "data": {
      "text/plain": [
       "3"
      ]
     },
     "execution_count": 328,
     "metadata": {},
     "output_type": "execute_result"
    }
   ],
   "source": [
    "s.count(\"P\")"
   ]
  },
  {
   "cell_type": "code",
   "execution_count": 332,
   "id": "7ea8b473-54e7-43b6-ad88-5bbc13b98634",
   "metadata": {},
   "outputs": [],
   "source": [
    "r = \"Мы слишком много\""
   ]
  },
  {
   "cell_type": "code",
   "execution_count": 336,
   "id": "6c86a449-1116-462b-ab46-cabfd4d1cf7a",
   "metadata": {},
   "outputs": [],
   "source": [
    "s = r.encode()"
   ]
  },
  {
   "cell_type": "code",
   "execution_count": 338,
   "id": "cea4b231-4d19-4e56-bebf-e5f50a0c2294",
   "metadata": {},
   "outputs": [
    {
     "data": {
      "text/plain": [
       "b'\\xd0\\x9c\\xd1\\x8b \\xd1\\x81\\xd0\\xbb\\xd0\\xb8\\xd1\\x88\\xd0\\xba\\xd0\\xbe\\xd0\\xbc \\xd0\\xbc\\xd0\\xbd\\xd0\\xbe\\xd0\\xb3\\xd0\\xbe'"
      ]
     },
     "execution_count": 338,
     "metadata": {},
     "output_type": "execute_result"
    }
   ],
   "source": [
    "s"
   ]
  },
  {
   "cell_type": "code",
   "execution_count": 352,
   "id": "6fdad562-9cc7-4291-b077-84afb6a155cf",
   "metadata": {},
   "outputs": [
    {
     "data": {
      "text/plain": [
       "False"
      ]
     },
     "execution_count": 352,
     "metadata": {},
     "output_type": "execute_result"
    }
   ],
   "source": [
    "s3.startswith(\"AB C\")"
   ]
  },
  {
   "cell_type": "code",
   "execution_count": 362,
   "id": "efd0690b-1bba-4224-8533-e4cb21bf489a",
   "metadata": {},
   "outputs": [
    {
     "data": {
      "text/plain": [
       "True"
      ]
     },
     "execution_count": 362,
     "metadata": {},
     "output_type": "execute_result"
    }
   ],
   "source": [
    "s3.endswith(\"DEF\",1)"
   ]
  },
  {
   "cell_type": "code",
   "execution_count": 364,
   "id": "403ca2c6-4335-4390-b1cb-593082eae0f7",
   "metadata": {},
   "outputs": [
    {
     "data": {
      "text/plain": [
       "b'\\xd0\\x9c\\xd1\\x8b \\xd1\\x81\\xd0\\xbb\\xd0\\xb8\\xd1\\x88\\xd0\\xba\\xd0\\xbe\\xd0\\xbc \\xd0\\xbc\\xd0\\xbd\\xd0\\xbe\\xd0\\xb3\\xd0\\xbe'"
      ]
     },
     "execution_count": 364,
     "metadata": {},
     "output_type": "execute_result"
    }
   ],
   "source": [
    "s"
   ]
  },
  {
   "cell_type": "code",
   "execution_count": 256,
   "id": "d7b5b08c-daa7-4f4a-ad9a-432ffe030b7b",
   "metadata": {},
   "outputs": [],
   "source": [
    "d = \"Linguagem Python\""
   ]
  },
  {
   "cell_type": "code",
   "execution_count": 273,
   "id": "1faed7a5-886b-45f6-b817-002dd341dd91",
   "metadata": {},
   "outputs": [],
   "source": [
    "e = d[0:6]"
   ]
  },
  {
   "cell_type": "code",
   "execution_count": 275,
   "id": "3dec7201-0724-422d-b811-f719c8102d79",
   "metadata": {},
   "outputs": [
    {
     "data": {
      "text/plain": [
       "False"
      ]
     },
     "execution_count": 275,
     "metadata": {},
     "output_type": "execute_result"
    }
   ],
   "source": [
    "e.endswith(d)"
   ]
  },
  {
   "cell_type": "code",
   "execution_count": 277,
   "id": "e054e159-8302-48b7-867e-7cd5a5fe1659",
   "metadata": {},
   "outputs": [
    {
     "data": {
      "text/plain": [
       "True"
      ]
     },
     "execution_count": 277,
     "metadata": {},
     "output_type": "execute_result"
    }
   ],
   "source": [
    "d.startswith(e)"
   ]
  },
  {
   "cell_type": "code",
   "execution_count": 279,
   "id": "a034b193-ab36-4deb-ac29-08dbc4ee5e65",
   "metadata": {},
   "outputs": [
    {
     "data": {
      "text/plain": [
       "True"
      ]
     },
     "execution_count": 279,
     "metadata": {},
     "output_type": "execute_result"
    }
   ],
   "source": [
    "d.startswith(\"Lingua\")"
   ]
  },
  {
   "cell_type": "code",
   "execution_count": 287,
   "id": "b1c847a0-b1b8-4f30-a14d-2841e5fa0e9b",
   "metadata": {},
   "outputs": [
    {
     "data": {
      "text/plain": [
       "1"
      ]
     },
     "execution_count": 287,
     "metadata": {},
     "output_type": "execute_result"
    }
   ],
   "source": [
    "d.count(\"L\")"
   ]
  },
  {
   "cell_type": "code",
   "execution_count": 289,
   "id": "887c106e-9bc2-446e-834a-4ec367a655cd",
   "metadata": {},
   "outputs": [
    {
     "name": "stdout",
     "output_type": "stream",
     "text": [
      "col1\tcol2\tcol3\n"
     ]
    }
   ],
   "source": [
    "s  = \"col1\\tcol2\\tcol3\"\n",
    "print(s)"
   ]
  },
  {
   "cell_type": "code",
   "execution_count": 293,
   "id": "1073aed1-6015-4ca1-97b0-7ff5c45afc8a",
   "metadata": {},
   "outputs": [],
   "source": [
    "s1 = s.expandtabs()"
   ]
  },
  {
   "cell_type": "code",
   "execution_count": 299,
   "id": "d0681748-03b0-4faa-ba78-868d81c8b586",
   "metadata": {},
   "outputs": [
    {
     "name": "stdout",
     "output_type": "stream",
     "text": [
      "col1    col2    col3\n"
     ]
    }
   ],
   "source": [
    "print(s1)"
   ]
  },
  {
   "cell_type": "code",
   "execution_count": 301,
   "id": "18759627-0eef-4c84-9fde-3ee2b1f98e89",
   "metadata": {},
   "outputs": [
    {
     "name": "stdout",
     "output_type": "stream",
     "text": [
      "Tabsize = 5 col1 col2 col3\n",
      "Tabsize = 6 col1  col2  col3\n",
      "Tabsize = 7 col1   col2   col3\n",
      "Tabsize = 8 col1    col2    col3\n",
      "Tabsize = 9 col1     col2     col3\n",
      "Tabsize = 10 col1      col2      col3\n"
     ]
    }
   ],
   "source": [
    "print(\"Tabsize = 5\", s.expandtabs(5))\n",
    "print(\"Tabsize = 6\", s.expandtabs(6))\n",
    "print(\"Tabsize = 7\", s.expandtabs(7))\n",
    "print(\"Tabsize = 8\", s.expandtabs())\n",
    "print(\"Tabsize = 9\", s.expandtabs(9))\n",
    "print(\"Tabsize = 10\", s.expandtabs(10))  # Varia-se a tabulação da coluna de acordo com o parâmetro passado em expandtabs\n"
   ]
  },
  {
   "cell_type": "code",
   "execution_count": 303,
   "id": "eb6bcbeb-5c7b-4311-9603-5587553ae92f",
   "metadata": {},
   "outputs": [
    {
     "data": {
      "text/plain": [
       "12"
      ]
     },
     "execution_count": 303,
     "metadata": {},
     "output_type": "execute_result"
    }
   ],
   "source": [
    "s = \"A linguagem Python é demais! Python é sensacional\"\n",
    "s.find(\"Python\")   #Primeira ocorrência para Phyton"
   ]
  },
  {
   "cell_type": "code",
   "execution_count": 307,
   "id": "ed0b907e-36a5-46ef-8ed9-fae1ee5b8d6a",
   "metadata": {},
   "outputs": [
    {
     "data": {
      "text/plain": [
       "29"
      ]
     },
     "execution_count": 307,
     "metadata": {},
     "output_type": "execute_result"
    }
   ],
   "source": [
    "s.rfind(\"Python\") #Última ocorrência para Phyton"
   ]
  },
  {
   "cell_type": "code",
   "execution_count": 309,
   "id": "275e5e0f-e914-4a56-8a35-14ac95d81033",
   "metadata": {},
   "outputs": [
    {
     "data": {
      "text/plain": [
       "12"
      ]
     },
     "execution_count": 309,
     "metadata": {},
     "output_type": "execute_result"
    }
   ],
   "source": [
    "s.index(\"Python\")   #Primeira ocorrência para Phyton"
   ]
  },
  {
   "cell_type": "code",
   "execution_count": 311,
   "id": "3b161b56-938c-45f0-86c1-7267dbde5ea1",
   "metadata": {},
   "outputs": [
    {
     "data": {
      "text/plain": [
       "29"
      ]
     },
     "execution_count": 311,
     "metadata": {},
     "output_type": "execute_result"
    }
   ],
   "source": [
    "s.rindex(\"Python\")"
   ]
  },
  {
   "cell_type": "code",
   "execution_count": 313,
   "id": "0c4d3840-31b8-4c7f-9cfc-cdd05999da7a",
   "metadata": {},
   "outputs": [
    {
     "data": {
      "text/plain": [
       "-1"
      ]
     },
     "execution_count": 313,
     "metadata": {},
     "output_type": "execute_result"
    }
   ],
   "source": [
    "s.find(\"python\")"
   ]
  },
  {
   "cell_type": "code",
   "execution_count": 315,
   "id": "41c06e51-5dc2-47bc-a68d-88205bdf6843",
   "metadata": {},
   "outputs": [
    {
     "data": {
      "text/plain": [
       "-1"
      ]
     },
     "execution_count": 315,
     "metadata": {},
     "output_type": "execute_result"
    }
   ],
   "source": [
    "s.rfind(\"python\")"
   ]
  },
  {
   "cell_type": "code",
   "execution_count": 317,
   "id": "abb0c097-b090-4e4a-9366-3ac6faa5eb12",
   "metadata": {},
   "outputs": [
    {
     "ename": "ValueError",
     "evalue": "substring not found",
     "output_type": "error",
     "traceback": [
      "\u001b[1;31m---------------------------------------------------------------------------\u001b[0m",
      "\u001b[1;31mValueError\u001b[0m                                Traceback (most recent call last)",
      "Cell \u001b[1;32mIn[317], line 1\u001b[0m\n\u001b[1;32m----> 1\u001b[0m s\u001b[38;5;241m.\u001b[39mindex(\u001b[38;5;124m\"\u001b[39m\u001b[38;5;124mpython\u001b[39m\u001b[38;5;124m\"\u001b[39m)\n",
      "\u001b[1;31mValueError\u001b[0m: substring not found"
     ]
    }
   ],
   "source": [
    "s.index(\"python\")"
   ]
  },
  {
   "cell_type": "code",
   "execution_count": 319,
   "id": "9c156ce4-1082-4bb6-adc8-2112cfb1c8ec",
   "metadata": {},
   "outputs": [
    {
     "ename": "ValueError",
     "evalue": "substring not found",
     "output_type": "error",
     "traceback": [
      "\u001b[1;31m---------------------------------------------------------------------------\u001b[0m",
      "\u001b[1;31mValueError\u001b[0m                                Traceback (most recent call last)",
      "Cell \u001b[1;32mIn[319], line 1\u001b[0m\n\u001b[1;32m----> 1\u001b[0m s\u001b[38;5;241m.\u001b[39mrindex(\u001b[38;5;124m\"\u001b[39m\u001b[38;5;124mpython\u001b[39m\u001b[38;5;124m\"\u001b[39m)\n",
      "\u001b[1;31mValueError\u001b[0m: substring not found"
     ]
    }
   ],
   "source": [
    "s.rindex(\"python\")"
   ]
  },
  {
   "cell_type": "code",
   "execution_count": 321,
   "id": "e8c565d5-aaaf-469d-a02d-417ea19d7208",
   "metadata": {},
   "outputs": [
    {
     "data": {
      "text/plain": [
       "12"
      ]
     },
     "execution_count": 321,
     "metadata": {},
     "output_type": "execute_result"
    }
   ],
   "source": [
    "s.find(\"Python\",11) #Procurar um substring a partir da posição informada"
   ]
  },
  {
   "cell_type": "code",
   "execution_count": 323,
   "id": "09113d40-40bb-4cc1-8646-9712210cc61f",
   "metadata": {},
   "outputs": [
    {
     "data": {
      "text/plain": [
       "29"
      ]
     },
     "execution_count": 323,
     "metadata": {},
     "output_type": "execute_result"
    }
   ],
   "source": [
    "s.find(\"Python\",13)"
   ]
  },
  {
   "cell_type": "code",
   "execution_count": 339,
   "id": "b73ca193-2ce2-450d-b9cf-215dc4a3534d",
   "metadata": {},
   "outputs": [
    {
     "data": {
      "text/plain": [
       "29"
      ]
     },
     "execution_count": 339,
     "metadata": {},
     "output_type": "execute_result"
    }
   ],
   "source": [
    "s.find(\"Python\",13,35) #Encontrar uma substring no intervalo de 13 a 35"
   ]
  },
  {
   "cell_type": "code",
   "execution_count": 403,
   "id": "bb54278c-fd8e-4d52-99f4-cc8c03a1f9ab",
   "metadata": {},
   "outputs": [
    {
     "name": "stdout",
     "output_type": "stream",
     "text": [
      "Meu nome é Pedro e tenho 16 anos.\n",
      "para reforçar, Minha idade é 16 e meu nome é Pedro \n"
     ]
    }
   ],
   "source": [
    "nome = \"Pedro\"\n",
    "nome2 = \"Pedro Alencar\"\n",
    "nome3 = \"Pedro2\"\n",
    "idade = 16\n",
    "print(\"Meu nome é {0} e tenho {1} anos.\\npara reforçar, Minha idade é {1} e meu nome é {0} \".format(nome,idade))"
   ]
  },
  {
   "cell_type": "code",
   "execution_count": 383,
   "id": "a4e5c875-ff4b-4eee-b09d-b1e156cf955d",
   "metadata": {},
   "outputs": [
    {
     "name": "stdout",
     "output_type": "stream",
     "text": [
      "Meu nome é Afonso e tenho 50 anos \n"
     ]
    }
   ],
   "source": [
    "print(\"Meu nome é {name} e tenho {age} anos \".format(age = 50,name = \"Afonso\"))"
   ]
  },
  {
   "cell_type": "code",
   "execution_count": 399,
   "id": "6cf5189c-00e8-41da-b0c9-300d7c9e3555",
   "metadata": {},
   "outputs": [
    {
     "data": {
      "text/plain": [
       "True"
      ]
     },
     "execution_count": 399,
     "metadata": {},
     "output_type": "execute_result"
    }
   ],
   "source": [
    "nome.isalnum()"
   ]
  },
  {
   "cell_type": "code",
   "execution_count": 387,
   "id": "0ad5a76b-3323-41f1-aa89-81b241cd709a",
   "metadata": {},
   "outputs": [
    {
     "data": {
      "text/plain": [
       "False"
      ]
     },
     "execution_count": 387,
     "metadata": {},
     "output_type": "execute_result"
    }
   ],
   "source": [
    "nome2.isalnum() \"Falso devido ao espaço\""
   ]
  },
  {
   "cell_type": "code",
   "execution_count": 391,
   "id": "43bbcf23-80c4-4010-bda9-630df4d78172",
   "metadata": {},
   "outputs": [
    {
     "data": {
      "text/plain": [
       "True"
      ]
     },
     "execution_count": 391,
     "metadata": {},
     "output_type": "execute_result"
    }
   ],
   "source": [
    "nome.isalpha()"
   ]
  },
  {
   "cell_type": "code",
   "execution_count": 397,
   "id": "8862436e-b662-4276-8d8d-0bb04caefcf6",
   "metadata": {},
   "outputs": [
    {
     "data": {
      "text/plain": [
       "False"
      ]
     },
     "execution_count": 397,
     "metadata": {},
     "output_type": "execute_result"
    }
   ],
   "source": [
    "nome2.isalpha() \"Falso devido ao espaço\""
   ]
  },
  {
   "cell_type": "code",
   "execution_count": 405,
   "id": "e1d88b22-0db8-432c-baa5-a552919d7f99",
   "metadata": {},
   "outputs": [
    {
     "data": {
      "text/plain": [
       "False"
      ]
     },
     "execution_count": 405,
     "metadata": {},
     "output_type": "execute_result"
    }
   ],
   "source": [
    "nome3.isalpha()"
   ]
  },
  {
   "cell_type": "code",
   "execution_count": 407,
   "id": "abd545f5-99c0-42ad-80ef-e1a463a9aef9",
   "metadata": {},
   "outputs": [
    {
     "data": {
      "text/plain": [
       "False"
      ]
     },
     "execution_count": 407,
     "metadata": {},
     "output_type": "execute_result"
    }
   ],
   "source": [
    "s = \"1srtl\"\n",
    "s.isidentifier()"
   ]
  },
  {
   "cell_type": "code",
   "execution_count": 409,
   "id": "041039a8-40ab-4559-a465-d7f6bed9d274",
   "metadata": {},
   "outputs": [
    {
     "data": {
      "text/plain": [
       "True"
      ]
     },
     "execution_count": 409,
     "metadata": {},
     "output_type": "execute_result"
    }
   ],
   "source": [
    "s2= \"srtl345\"\n",
    "s2.isidentifier()"
   ]
  },
  {
   "cell_type": "code",
   "execution_count": 417,
   "id": "8f8ec71a-455d-411b-ba69-2049a89865b2",
   "metadata": {},
   "outputs": [],
   "source": [
    "s3= \"srtl345 5\""
   ]
  },
  {
   "cell_type": "code",
   "execution_count": 419,
   "id": "314ccb57-423d-4506-90e3-52775245e59c",
   "metadata": {},
   "outputs": [
    {
     "data": {
      "text/plain": [
       "False"
      ]
     },
     "execution_count": 419,
     "metadata": {},
     "output_type": "execute_result"
    }
   ],
   "source": [
    "s3.isidentifier()"
   ]
  },
  {
   "cell_type": "code",
   "execution_count": 421,
   "id": "5ff5b984-bd72-48a7-b175-2ec0d8b55408",
   "metadata": {},
   "outputs": [
    {
     "data": {
      "text/plain": [
       "'Pedro'"
      ]
     },
     "execution_count": 421,
     "metadata": {},
     "output_type": "execute_result"
    }
   ],
   "source": [
    "nome"
   ]
  },
  {
   "cell_type": "code",
   "execution_count": 423,
   "id": "85cbd2b1-0a1d-425c-98e5-fc7c924c93c1",
   "metadata": {},
   "outputs": [
    {
     "data": {
      "text/plain": [
       "False"
      ]
     },
     "execution_count": 423,
     "metadata": {},
     "output_type": "execute_result"
    }
   ],
   "source": [
    "nome.islower()"
   ]
  },
  {
   "cell_type": "code",
   "execution_count": 425,
   "id": "1fbbf730-6a09-48cf-a300-f44c9a91f21b",
   "metadata": {},
   "outputs": [
    {
     "data": {
      "text/plain": [
       "False"
      ]
     },
     "execution_count": 425,
     "metadata": {},
     "output_type": "execute_result"
    }
   ],
   "source": [
    "nome.isupper()"
   ]
  },
  {
   "cell_type": "code",
   "execution_count": 429,
   "id": "93dce9d6-1fff-4832-b5a5-c7a911dbd004",
   "metadata": {},
   "outputs": [
    {
     "data": {
      "text/plain": [
       "True"
      ]
     },
     "execution_count": 429,
     "metadata": {},
     "output_type": "execute_result"
    }
   ],
   "source": [
    "nome4 = \"isabela\"\n",
    "nome4.islower()"
   ]
  },
  {
   "cell_type": "code",
   "execution_count": 431,
   "id": "447f5a1c-059d-425d-a1d3-259e17b0d2c6",
   "metadata": {},
   "outputs": [
    {
     "data": {
      "text/plain": [
       "False"
      ]
     },
     "execution_count": 431,
     "metadata": {},
     "output_type": "execute_result"
    }
   ],
   "source": [
    "nome4.isupper()"
   ]
  },
  {
   "cell_type": "code",
   "execution_count": 433,
   "id": "bfc56b57-53db-487a-b8ce-705104c3e846",
   "metadata": {},
   "outputs": [
    {
     "data": {
      "text/plain": [
       "False"
      ]
     },
     "execution_count": 433,
     "metadata": {},
     "output_type": "execute_result"
    }
   ],
   "source": [
    "senha = \"minha senh@ é 1234\"\n",
    "senha.isupper()"
   ]
  },
  {
   "cell_type": "code",
   "execution_count": 435,
   "id": "e55f7985-bd6b-4dda-8d3f-11f7f79f730a",
   "metadata": {},
   "outputs": [
    {
     "data": {
      "text/plain": [
       "True"
      ]
     },
     "execution_count": 435,
     "metadata": {},
     "output_type": "execute_result"
    }
   ],
   "source": [
    "senha.islower()"
   ]
  },
  {
   "cell_type": "code",
   "execution_count": 439,
   "id": "f0dbb77b-019e-4925-9c0e-0d42294cdc75",
   "metadata": {},
   "outputs": [
    {
     "data": {
      "text/plain": [
       "False"
      ]
     },
     "execution_count": 439,
     "metadata": {},
     "output_type": "execute_result"
    }
   ],
   "source": [
    "s = \"col1\\tcol2\"\n",
    "s.isprintable()"
   ]
  },
  {
   "cell_type": "code",
   "execution_count": 445,
   "id": "78d5a098-242e-4e91-b40a-6086a165471a",
   "metadata": {},
   "outputs": [
    {
     "name": "stdout",
     "output_type": "stream",
     "text": [
      "col1    col2\n"
     ]
    },
    {
     "data": {
      "text/plain": [
       "True"
      ]
     },
     "execution_count": 445,
     "metadata": {},
     "output_type": "execute_result"
    }
   ],
   "source": [
    "s1 = s.expandtabs()\n",
    "print(s1)\n",
    "s1.isprintable()"
   ]
  },
  {
   "cell_type": "code",
   "execution_count": 447,
   "id": "eecab89b-33f3-4982-9703-76aa0affb897",
   "metadata": {},
   "outputs": [
    {
     "data": {
      "text/plain": [
       "'col1\\tcol2'"
      ]
     },
     "execution_count": 447,
     "metadata": {},
     "output_type": "execute_result"
    }
   ],
   "source": [
    "s"
   ]
  },
  {
   "cell_type": "code",
   "execution_count": 449,
   "id": "cbfc8f95-c8e0-4df4-a909-7427b18e22ab",
   "metadata": {},
   "outputs": [
    {
     "name": "stdout",
     "output_type": "stream",
     "text": [
      "col1\tcol2\n"
     ]
    }
   ],
   "source": [
    "print(s)"
   ]
  },
  {
   "cell_type": "code",
   "execution_count": 461,
   "id": "b96a92b2-5c73-4ff6-b6b8-0a07378f8651",
   "metadata": {},
   "outputs": [
    {
     "data": {
      "text/plain": [
       "False"
      ]
     },
     "execution_count": 461,
     "metadata": {},
     "output_type": "execute_result"
    }
   ],
   "source": [
    "s2 = \"linha1\\nlinha2\"\n",
    "s2.isprintable()"
   ]
  },
  {
   "cell_type": "code",
   "execution_count": 463,
   "id": "990ca1e2-764a-4d73-b43c-aa5f9ba31dfe",
   "metadata": {},
   "outputs": [
    {
     "data": {
      "text/plain": [
       "False"
      ]
     },
     "execution_count": 463,
     "metadata": {},
     "output_type": "execute_result"
    }
   ],
   "source": [
    "s1 = \"A B\"\n",
    "s1[0].isspace()"
   ]
  },
  {
   "cell_type": "code",
   "execution_count": 465,
   "id": "ffcc55a8-f4b4-4248-88ea-24043ca6c34a",
   "metadata": {},
   "outputs": [
    {
     "data": {
      "text/plain": [
       "True"
      ]
     },
     "execution_count": 465,
     "metadata": {},
     "output_type": "execute_result"
    }
   ],
   "source": [
    "s1[1].isspace()"
   ]
  },
  {
   "cell_type": "code",
   "execution_count": 467,
   "id": "f1591f83-412f-4224-a15c-426039c19cfe",
   "metadata": {},
   "outputs": [
    {
     "data": {
      "text/plain": [
       "False"
      ]
     },
     "execution_count": 467,
     "metadata": {},
     "output_type": "execute_result"
    }
   ],
   "source": [
    "s1[2].isspace()"
   ]
  },
  {
   "cell_type": "code",
   "execution_count": 495,
   "id": "8a30a4c4-2596-4abc-b6a9-a9d988bba59f",
   "metadata": {},
   "outputs": [
    {
     "name": "stdout",
     "output_type": "stream",
     "text": [
      "True\n",
      "False\n",
      "False\n",
      "False\n"
     ]
    }
   ],
   "source": [
    "titulo = \"A Linguagem Python\"\n",
    "titulo2 = \"A linguagem Python\"\n",
    "titulo3 = \"A LInguagem Python\"\n",
    "titulo4 = \"A Linguagem PythoN\"\n",
    "print(titulo.istitle())\n",
    "print(titulo2.istitle())\n",
    "print(titulo3.istitle())\n",
    "print(titulo3.istitle())"
   ]
  },
  {
   "cell_type": "code",
   "execution_count": 499,
   "id": "c73acdd8-f3d7-4b30-acff-dca8d05527d4",
   "metadata": {},
   "outputs": [
    {
     "data": {
      "text/plain": [
       "'A Linguagem Python       '"
      ]
     },
     "execution_count": 499,
     "metadata": {},
     "output_type": "execute_result"
    }
   ],
   "source": [
    "titulo.ljust(25)"
   ]
  },
  {
   "cell_type": "code",
   "execution_count": 501,
   "id": "1f2e163f-6ef8-4734-887c-b3def210aff5",
   "metadata": {},
   "outputs": [
    {
     "data": {
      "text/plain": [
       "'       A Linguagem Python'"
      ]
     },
     "execution_count": 501,
     "metadata": {},
     "output_type": "execute_result"
    }
   ],
   "source": [
    "titulo.rjust(25)"
   ]
  },
  {
   "cell_type": "code",
   "execution_count": 507,
   "id": "ea6ac6d1-9a66-408e-b9fb-5115fa64f999",
   "metadata": {},
   "outputs": [
    {
     "data": {
      "text/plain": [
       "'>>>>>>>A Linguagem Python'"
      ]
     },
     "execution_count": 507,
     "metadata": {},
     "output_type": "execute_result"
    }
   ],
   "source": [
    "titulo.rjust(25,\">\")"
   ]
  },
  {
   "cell_type": "code",
   "execution_count": 534,
   "id": "789553d8-480c-4d9c-8f28-65740ff59997",
   "metadata": {},
   "outputs": [
    {
     "data": {
      "text/plain": [
       "'ABC  '"
      ]
     },
     "execution_count": 534,
     "metadata": {},
     "output_type": "execute_result"
    }
   ],
   "source": [
    "s = \"        ABC  \"\n",
    "s1 = s.lstrip()\n",
    "s1"
   ]
  },
  {
   "cell_type": "code",
   "execution_count": 528,
   "id": "cefa5406-95ed-499b-af06-c648379cb979",
   "metadata": {},
   "outputs": [],
   "source": [
    "s2 = s.rstrip()"
   ]
  },
  {
   "cell_type": "code",
   "execution_count": 530,
   "id": "409388d0-194e-4589-9ac1-ec227b0ba603",
   "metadata": {},
   "outputs": [
    {
     "data": {
      "text/plain": [
       "'        ABC'"
      ]
     },
     "execution_count": 530,
     "metadata": {},
     "output_type": "execute_result"
    }
   ],
   "source": [
    "s2"
   ]
  },
  {
   "cell_type": "code",
   "execution_count": 536,
   "id": "309bdc95-7a98-43e8-8913-38e0c391cb60",
   "metadata": {},
   "outputs": [
    {
     "data": {
      "text/plain": [
       "'ABC'"
      ]
     },
     "execution_count": 536,
     "metadata": {},
     "output_type": "execute_result"
    }
   ],
   "source": [
    "s3 = s.strip()\n",
    "s3"
   ]
  },
  {
   "cell_type": "code",
   "execution_count": 546,
   "id": "8c7384d8-0099-4117-8f68-86a9992720b1",
   "metadata": {},
   "outputs": [],
   "source": [
    "link = \"https://www.python.org/\"\n",
    "s4 = link.lstrip(\"hpst:/\")"
   ]
  },
  {
   "cell_type": "code",
   "execution_count": 548,
   "id": "5c3e5949-7bc8-46c0-a98d-38fa46fba654",
   "metadata": {},
   "outputs": [
    {
     "data": {
      "text/plain": [
       "'www.python.org/'"
      ]
     },
     "execution_count": 548,
     "metadata": {},
     "output_type": "execute_result"
    }
   ],
   "source": [
    "s4"
   ]
  },
  {
   "cell_type": "code",
   "execution_count": 550,
   "id": "50584c65-56e0-4977-b63d-91f0554f31d8",
   "metadata": {},
   "outputs": [
    {
     "data": {
      "text/plain": [
       "'https://www.python.org'"
      ]
     },
     "execution_count": 550,
     "metadata": {},
     "output_type": "execute_result"
    }
   ],
   "source": [
    "s5 = link.rstrip(\"hpst:/\")\n",
    "s5"
   ]
  },
  {
   "cell_type": "code",
   "execution_count": 552,
   "id": "62350a09-3073-4863-ae86-b0afee804bf5",
   "metadata": {},
   "outputs": [],
   "source": [
    "s6 = link.strip(\"hpst:/\")"
   ]
  },
  {
   "cell_type": "code",
   "execution_count": 554,
   "id": "6975fc83-c1c3-4bfc-b463-6a3071746a63",
   "metadata": {},
   "outputs": [
    {
     "data": {
      "text/plain": [
       "'www.python.org'"
      ]
     },
     "execution_count": 554,
     "metadata": {},
     "output_type": "execute_result"
    }
   ],
   "source": [
    "s6"
   ]
  },
  {
   "cell_type": "code",
   "execution_count": 556,
   "id": "42fc7943-fb72-451e-b208-7e8f3e4e8061",
   "metadata": {},
   "outputs": [],
   "source": [
    "email = \"pessoa@dominio.com.br\""
   ]
  },
  {
   "cell_type": "code",
   "execution_count": 558,
   "id": "9e1106b1-73f1-4802-8835-1fc5abe1c570",
   "metadata": {},
   "outputs": [],
   "source": [
    "t1 = email.partition(\"@\")"
   ]
  },
  {
   "cell_type": "code",
   "execution_count": 560,
   "id": "e05d5898-d841-4485-9dec-425ed765a518",
   "metadata": {},
   "outputs": [
    {
     "data": {
      "text/plain": [
       "('pessoa', '@', 'dominio.com.br')"
      ]
     },
     "execution_count": 560,
     "metadata": {},
     "output_type": "execute_result"
    }
   ],
   "source": [
    "t1"
   ]
  },
  {
   "cell_type": "code",
   "execution_count": 562,
   "id": "6000b09e-f44a-4ea6-a1fa-44eddb6705ad",
   "metadata": {},
   "outputs": [
    {
     "data": {
      "text/plain": [
       "tuple"
      ]
     },
     "execution_count": 562,
     "metadata": {},
     "output_type": "execute_result"
    }
   ],
   "source": [
    "type(t1)"
   ]
  },
  {
   "cell_type": "code",
   "execution_count": 578,
   "id": "e3a39de4-4e5c-4635-8e18-70d80710af04",
   "metadata": {},
   "outputs": [
    {
     "data": {
      "text/plain": [
       "('pessoa', '@', 'dominio.com.br')"
      ]
     },
     "execution_count": 578,
     "metadata": {},
     "output_type": "execute_result"
    }
   ],
   "source": [
    "t2 = email.rpartition(\"@\")\n",
    "t2"
   ]
  },
  {
   "cell_type": "code",
   "execution_count": 564,
   "id": "75808a8c-2fd4-4aac-a5a4-7eca8ae6c905",
   "metadata": {},
   "outputs": [
    {
     "data": {
      "text/plain": [
       "['pessoa', 'dominio.com.br']"
      ]
     },
     "execution_count": 564,
     "metadata": {},
     "output_type": "execute_result"
    }
   ],
   "source": [
    "l1 = email.split (\"@\")\n",
    "l1"
   ]
  },
  {
   "cell_type": "code",
   "execution_count": 566,
   "id": "a1b0f859-2762-486e-9f7d-aa25e72f965b",
   "metadata": {},
   "outputs": [
    {
     "data": {
      "text/plain": [
       "list"
      ]
     },
     "execution_count": 566,
     "metadata": {},
     "output_type": "execute_result"
    }
   ],
   "source": [
    "type(l1)"
   ]
  },
  {
   "cell_type": "code",
   "execution_count": 576,
   "id": "63e2e95f-c31c-4c0a-848a-42c6042f5cd4",
   "metadata": {},
   "outputs": [
    {
     "data": {
      "text/plain": [
       "['pessoa', 'dominio.com.br']"
      ]
     },
     "execution_count": 576,
     "metadata": {},
     "output_type": "execute_result"
    }
   ],
   "source": [
    "l2 = email.rsplit(\"@\")\n",
    "l2"
   ]
  },
  {
   "cell_type": "code",
   "execution_count": 580,
   "id": "2c197503-2ff9-4116-bcb0-c60bc851930d",
   "metadata": {},
   "outputs": [],
   "source": [
    "t2 = email.partition(\".\")"
   ]
  },
  {
   "cell_type": "code",
   "execution_count": 582,
   "id": "6f5703bc-d12a-461f-91f1-81fa8b9512c6",
   "metadata": {},
   "outputs": [
    {
     "data": {
      "text/plain": [
       "('pessoa@dominio', '.', 'com.br')"
      ]
     },
     "execution_count": 582,
     "metadata": {},
     "output_type": "execute_result"
    }
   ],
   "source": [
    "t2"
   ]
  },
  {
   "cell_type": "code",
   "execution_count": 584,
   "id": "9a89601f-89e8-4082-beaf-8b8dcabd64bd",
   "metadata": {},
   "outputs": [],
   "source": [
    "l3 = email.split(\".\")"
   ]
  },
  {
   "cell_type": "code",
   "execution_count": 586,
   "id": "3864b8ff-4a74-48e3-ad45-a81232c846cd",
   "metadata": {},
   "outputs": [
    {
     "data": {
      "text/plain": [
       "['pessoa@dominio', 'com', 'br']"
      ]
     },
     "execution_count": 586,
     "metadata": {},
     "output_type": "execute_result"
    }
   ],
   "source": [
    "l3"
   ]
  },
  {
   "cell_type": "code",
   "execution_count": 588,
   "id": "4b18e4d1-ab03-45af-b033-a129cc5a0332",
   "metadata": {},
   "outputs": [],
   "source": [
    "l4 = email.split(\".\")"
   ]
  },
  {
   "cell_type": "code",
   "execution_count": 590,
   "id": "c3a41f2a-02f5-4bec-a793-af2c5b25ad98",
   "metadata": {},
   "outputs": [
    {
     "data": {
      "text/plain": [
       "['pessoa@dominio', 'com', 'br']"
      ]
     },
     "execution_count": 590,
     "metadata": {},
     "output_type": "execute_result"
    }
   ],
   "source": [
    "l4"
   ]
  },
  {
   "cell_type": "code",
   "execution_count": 594,
   "id": "5d7bda89-6203-4764-9d12-01db8712a9a9",
   "metadata": {},
   "outputs": [
    {
     "data": {
      "text/plain": [
       "['pessoa@dominio', 'com.br']"
      ]
     },
     "execution_count": 594,
     "metadata": {},
     "output_type": "execute_result"
    }
   ],
   "source": [
    "l5 = email.split(\".\",1)\n",
    "l5"
   ]
  },
  {
   "cell_type": "code",
   "execution_count": 596,
   "id": "25c652e7-3897-4090-b6a1-6aa0158257f3",
   "metadata": {},
   "outputs": [],
   "source": [
    "l6 = email.rsplit(\".\",1)"
   ]
  },
  {
   "cell_type": "code",
   "execution_count": 598,
   "id": "2b2bb44e-ecec-4c39-a183-4af3a7b22210",
   "metadata": {},
   "outputs": [
    {
     "data": {
      "text/plain": [
       "['pessoa@dominio.com', 'br']"
      ]
     },
     "execution_count": 598,
     "metadata": {},
     "output_type": "execute_result"
    }
   ],
   "source": [
    "l6"
   ]
  },
  {
   "cell_type": "code",
   "execution_count": 602,
   "id": "aefbdc67-9836-4127-b8c1-efaa157964e7",
   "metadata": {},
   "outputs": [
    {
     "data": {
      "text/plain": [
       "('012', '.', '345.')"
      ]
     },
     "execution_count": 602,
     "metadata": {},
     "output_type": "execute_result"
    }
   ],
   "source": [
    "seq = \"012.345.\"\n",
    "t3 = seq.partition(\".\")  # Divide em 3 posições\n",
    "t3"
   ]
  },
  {
   "cell_type": "code",
   "execution_count": 606,
   "id": "52f0d56b-7ca7-49a6-bfdb-84e9422754be",
   "metadata": {},
   "outputs": [
    {
     "data": {
      "text/plain": [
       "('0', '.', '1.2')"
      ]
     },
     "execution_count": 606,
     "metadata": {},
     "output_type": "execute_result"
    }
   ],
   "source": [
    "seq2 = \"0.1.2\"\n",
    "t4 = seq2.partition(\".\")\n",
    "t4"
   ]
  },
  {
   "cell_type": "code",
   "execution_count": 608,
   "id": "585bc18b-a2f6-469d-a640-fdd4c0eaf297",
   "metadata": {},
   "outputs": [
    {
     "data": {
      "text/plain": [
       "['0', '1', '2']"
      ]
     },
     "execution_count": 608,
     "metadata": {},
     "output_type": "execute_result"
    }
   ],
   "source": [
    "l7 = seq2.split(\".\")\n",
    "l7"
   ]
  },
  {
   "cell_type": "code",
   "execution_count": 612,
   "id": "efb3fb20-916f-4eca-9342-48f72c8f3773",
   "metadata": {},
   "outputs": [
    {
     "data": {
      "text/plain": [
       "['0', '1.2']"
      ]
     },
     "execution_count": 612,
     "metadata": {},
     "output_type": "execute_result"
    }
   ],
   "source": [
    "l8 = seq2.split(\".\",1)\n",
    "l8"
   ]
  },
  {
   "cell_type": "code",
   "execution_count": 614,
   "id": "fbb8b4a9-867b-4e81-8039-56e8354a7dfe",
   "metadata": {},
   "outputs": [
    {
     "data": {
      "text/plain": [
       "['0.1', '2']"
      ]
     },
     "execution_count": 614,
     "metadata": {},
     "output_type": "execute_result"
    }
   ],
   "source": [
    "l9 = seq2.rsplit(\".\",1)\n",
    "l9"
   ]
  },
  {
   "cell_type": "code",
   "execution_count": 3,
   "id": "0ca5b357-d6e1-46e6-80e3-9c547ce6eb19",
   "metadata": {},
   "outputs": [],
   "source": [
    "s  = \"Esquerda\".ljust(20)"
   ]
  },
  {
   "cell_type": "code",
   "execution_count": 5,
   "id": "137a9114-3e74-4887-9f71-70456eec0b45",
   "metadata": {},
   "outputs": [
    {
     "data": {
      "text/plain": [
       "'Esquerda            '"
      ]
     },
     "execution_count": 5,
     "metadata": {},
     "output_type": "execute_result"
    }
   ],
   "source": [
    "s"
   ]
  },
  {
   "cell_type": "code",
   "execution_count": 7,
   "id": "dbaee962-3acb-4ab7-8e0e-abcf427b9ece",
   "metadata": {},
   "outputs": [],
   "source": [
    "d = s  = \"Direita\".rjust(20)"
   ]
  },
  {
   "cell_type": "code",
   "execution_count": 9,
   "id": "bf0b73b5-8076-4e13-9ba3-11b96cb32a95",
   "metadata": {},
   "outputs": [
    {
     "data": {
      "text/plain": [
       "'             Direita'"
      ]
     },
     "execution_count": 9,
     "metadata": {},
     "output_type": "execute_result"
    }
   ],
   "source": [
    "d"
   ]
  },
  {
   "cell_type": "code",
   "execution_count": 11,
   "id": "9d64f2b7-f21a-4c3f-ab96-d47c8fe7ef38",
   "metadata": {},
   "outputs": [],
   "source": [
    "msg = \"Minha Biblioteca favorita é numpy\""
   ]
  },
  {
   "cell_type": "code",
   "execution_count": 13,
   "id": "c77c3073-72b3-46b0-985b-0c119c9176f4",
   "metadata": {},
   "outputs": [],
   "source": [
    "msg2 = msg.replace(\"numpy\", \"pandas\")"
   ]
  },
  {
   "cell_type": "code",
   "execution_count": 15,
   "id": "4f38cc0d-bc72-4a4f-beec-ddf567aca54d",
   "metadata": {},
   "outputs": [
    {
     "data": {
      "text/plain": [
       "'Minha Biblioteca favorita é pandas'"
      ]
     },
     "execution_count": 15,
     "metadata": {},
     "output_type": "execute_result"
    }
   ],
   "source": [
    "msg2"
   ]
  },
  {
   "cell_type": "code",
   "execution_count": 22,
   "id": "fd97e6d5-b8c7-4f0c-b17c-109b37f0a050",
   "metadata": {},
   "outputs": [],
   "source": [
    "msg3 = \"Eu gosto de cães. Os cães são muito legais. Os cães são magníficos\"\n",
    "msg4 = msg3.replace(\"cães\", \"labradores\", 2)"
   ]
  },
  {
   "cell_type": "code",
   "execution_count": 25,
   "id": "e1183712-bef3-4261-ba97-4ab45c57c652",
   "metadata": {},
   "outputs": [
    {
     "data": {
      "text/plain": [
       "'Eu gosto de labradores. Os labradores são muito legais. Os cães são magníficos'"
      ]
     },
     "execution_count": 25,
     "metadata": {},
     "output_type": "execute_result"
    }
   ],
   "source": [
    "msg4"
   ]
  },
  {
   "cell_type": "code",
   "execution_count": 43,
   "id": "ec782073-2e43-4a8e-90ff-edd0f9d8e1d4",
   "metadata": {},
   "outputs": [
    {
     "name": "stdout",
     "output_type": "stream",
     "text": [
      "Essa é \n",
      "uma\n",
      "string\n",
      "\n",
      "com várias\n",
      "linhas\n"
     ]
    }
   ],
   "source": [
    "s = \"Essa é \\numa\\nstring\\n\\ncom várias\\nlinhas\"\n",
    "print(s)"
   ]
  },
  {
   "cell_type": "code",
   "execution_count": 45,
   "id": "6d156599-917c-4775-a85c-e125378a9acb",
   "metadata": {},
   "outputs": [],
   "source": [
    "linhas = s.splitlines()"
   ]
  },
  {
   "cell_type": "code",
   "execution_count": 47,
   "id": "3f835662-087f-4999-9c54-6ea7388190eb",
   "metadata": {},
   "outputs": [
    {
     "data": {
      "text/plain": [
       "['Essa é ', 'uma', 'string', '', 'com várias', 'linhas']"
      ]
     },
     "execution_count": 47,
     "metadata": {},
     "output_type": "execute_result"
    }
   ],
   "source": [
    "linhas"
   ]
  },
  {
   "cell_type": "code",
   "execution_count": 35,
   "id": "5d22e08a-d23b-4071-861b-28983898632c",
   "metadata": {},
   "outputs": [
    {
     "data": {
      "text/plain": [
       "list"
      ]
     },
     "execution_count": 35,
     "metadata": {},
     "output_type": "execute_result"
    }
   ],
   "source": [
    "type(linhas)"
   ]
  },
  {
   "cell_type": "code",
   "execution_count": 49,
   "id": "ab5bcaf4-1950-4194-ba01-4edb10cfe58f",
   "metadata": {},
   "outputs": [
    {
     "name": "stdout",
     "output_type": "stream",
     "text": [
      "MAIÚSCULO | minúsculo\n"
     ]
    }
   ],
   "source": [
    "s = \"MAIÚSCULO | minúsculo\"\n",
    "print(s)"
   ]
  },
  {
   "cell_type": "code",
   "execution_count": 51,
   "id": "71e4b95e-0d96-47c4-800c-45f1677a0981",
   "metadata": {},
   "outputs": [],
   "source": [
    "s2 = s.swapcase()"
   ]
  },
  {
   "cell_type": "code",
   "execution_count": 53,
   "id": "0b27bbc2-c23c-4e3a-a477-707d7bc20dfa",
   "metadata": {},
   "outputs": [
    {
     "name": "stdout",
     "output_type": "stream",
     "text": [
      "maiúsculo | MINÚSCULO\n"
     ]
    }
   ],
   "source": [
    "print(s2)"
   ]
  },
  {
   "cell_type": "code",
   "execution_count": 55,
   "id": "ca38bb18-c36d-4a2f-b9ef-2921fd20b470",
   "metadata": {},
   "outputs": [],
   "source": [
    "título = \"a linguagem python é um máximo\""
   ]
  },
  {
   "cell_type": "code",
   "execution_count": 57,
   "id": "f7658f98-d3c0-4341-94db-da75830d98f7",
   "metadata": {},
   "outputs": [],
   "source": [
    "título2 = título.title() "
   ]
  },
  {
   "cell_type": "code",
   "execution_count": 59,
   "id": "a8f87001-a202-4db5-961d-8363df9211e0",
   "metadata": {},
   "outputs": [
    {
     "name": "stdout",
     "output_type": "stream",
     "text": [
      "A Linguagem Python É Um Máximo\n"
     ]
    }
   ],
   "source": [
    "print(título2)"
   ]
  },
  {
   "cell_type": "code",
   "execution_count": 63,
   "id": "d7689592-a836-45a9-aec8-b83aa0e6d226",
   "metadata": {},
   "outputs": [],
   "source": [
    "cod_prod1 = \"123\".zfill(6)"
   ]
  },
  {
   "cell_type": "code",
   "execution_count": 65,
   "id": "0985d870-42eb-45ad-a882-645e43b2abee",
   "metadata": {},
   "outputs": [
    {
     "data": {
      "text/plain": [
       "'000123'"
      ]
     },
     "execution_count": 65,
     "metadata": {},
     "output_type": "execute_result"
    }
   ],
   "source": [
    "cod_prod1"
   ]
  },
  {
   "cell_type": "code",
   "execution_count": 67,
   "id": "62a56060-1bb8-424a-8f8b-174cd7b1ce9f",
   "metadata": {},
   "outputs": [],
   "source": [
    "cod_prod1 = \"123\".zfill(8)"
   ]
  },
  {
   "cell_type": "code",
   "execution_count": 69,
   "id": "3e01cdcd-74de-4348-99ec-fe7f244d00da",
   "metadata": {},
   "outputs": [
    {
     "data": {
      "text/plain": [
       "'00000123'"
      ]
     },
     "execution_count": 69,
     "metadata": {},
     "output_type": "execute_result"
    }
   ],
   "source": [
    "cod_prod1"
   ]
  },
  {
   "cell_type": "code",
   "execution_count": null,
   "id": "72710b20-53ee-492f-ba0b-aad8a813da6a",
   "metadata": {},
   "outputs": [],
   "source": []
  }
 ],
 "metadata": {
  "kernelspec": {
   "display_name": "Python [conda env:base] *",
   "language": "python",
   "name": "conda-base-py"
  },
  "language_info": {
   "codemirror_mode": {
    "name": "ipython",
    "version": 3
   },
   "file_extension": ".py",
   "mimetype": "text/x-python",
   "name": "python",
   "nbconvert_exporter": "python",
   "pygments_lexer": "ipython3",
   "version": "3.12.7"
  }
 },
 "nbformat": 4,
 "nbformat_minor": 5
}
