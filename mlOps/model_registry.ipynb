{
  "cells": [
    {
      "cell_type": "markdown",
      "metadata": {
        "id": "cL8iUNRkKnnN"
      },
      "source": [
        "## Instalando o MLflow"
      ]
    },
    {
      "cell_type": "code",
      "execution_count": null,
      "metadata": {
        "id": "8ZqLomD1JbEn"
      },
      "outputs": [
        {
          "ename": "",
          "evalue": "",
          "output_type": "error",
          "traceback": [
            "\u001b[1;31mRunning cells with 'mlops_env (Python 3.11.13)' requires the ipykernel package.\n",
            "\u001b[1;31m<a href='command:jupyter.createPythonEnvAndSelectController'>Create a Python Environment</a> with the required packages.\n",
            "\u001b[1;31mOr install 'ipykernel' using the command: 'conda install -n mlops_env ipykernel --update-deps --force-reinstall'"
          ]
        }
      ],
      "source": [
        "!pip install mlflow==2.2.2 -q"
      ]
    },
    {
      "cell_type": "markdown",
      "metadata": {
        "id": "jAnzWtfqKsfI"
      },
      "source": [
        "## import das bibliotecas"
      ]
    },
    {
      "cell_type": "code",
      "execution_count": null,
      "metadata": {
        "id": "MAn3URFmJihs"
      },
      "outputs": [
        {
          "ename": "",
          "evalue": "",
          "output_type": "error",
          "traceback": [
            "\u001b[1;31mRunning cells with 'mlops_env (Python 3.11.13)' requires the ipykernel package.\n",
            "\u001b[1;31m<a href='command:jupyter.createPythonEnvAndSelectController'>Create a Python Environment</a> with the required packages.\n",
            "\u001b[1;31mOr install 'ipykernel' using the command: 'conda install -n mlops_env ipykernel --update-deps --force-reinstall'"
          ]
        }
      ],
      "source": [
        "import os\n",
        "import mlflow\n",
        "import numpy as np"
      ]
    },
    {
      "cell_type": "markdown",
      "metadata": {
        "id": "PhBP5HFCKvYb"
      },
      "source": [
        "## Configurando o MLflow"
      ]
    },
    {
      "cell_type": "code",
      "execution_count": 1,
      "metadata": {
        "id": "Bu43IC6oJj1L"
      },
      "outputs": [
        {
          "ename": "NameError",
          "evalue": "name 'os' is not defined",
          "output_type": "error",
          "traceback": [
            "\u001b[1;31m---------------------------------------------------------------------------\u001b[0m",
            "\u001b[1;31mNameError\u001b[0m                                 Traceback (most recent call last)",
            "Cell \u001b[1;32mIn[1], line 4\u001b[0m\n\u001b[0;32m      2\u001b[0m MLFLOW_TRACKING_USERNAME \u001b[38;5;241m=\u001b[39m \u001b[38;5;124m'\u001b[39m\u001b[38;5;124m'\u001b[39m\n\u001b[0;32m      3\u001b[0m MLFLOW_TRACKING_PASSWORD \u001b[38;5;241m=\u001b[39m \u001b[38;5;124m'\u001b[39m\u001b[38;5;124m'\u001b[39m\n\u001b[1;32m----> 4\u001b[0m os\u001b[38;5;241m.\u001b[39menviron[\u001b[38;5;124m'\u001b[39m\u001b[38;5;124mMLFLOW_TRACKING_USERNAME\u001b[39m\u001b[38;5;124m'\u001b[39m] \u001b[38;5;241m=\u001b[39m \u001b[38;5;124m'\u001b[39m\u001b[38;5;124mrenansantosmendes\u001b[39m\u001b[38;5;124m'\u001b[39m\n\u001b[0;32m      5\u001b[0m os\u001b[38;5;241m.\u001b[39menviron[\u001b[38;5;124m'\u001b[39m\u001b[38;5;124mMLFLOW_TRACKING_PASSWORD\u001b[39m\u001b[38;5;124m'\u001b[39m] \u001b[38;5;241m=\u001b[39m \u001b[38;5;124m'\u001b[39m\u001b[38;5;124m6d730ef4a90b1caf28fbb01e5748f0874fda6077\u001b[39m\u001b[38;5;124m'\u001b[39m\n\u001b[0;32m      7\u001b[0m mlflow\u001b[38;5;241m.\u001b[39mset_tracking_uri(\u001b[38;5;124m'\u001b[39m\u001b[38;5;124mhttps://dagshub.com/renansantosmendes/puc_lectures_mlops.mlflow\u001b[39m\u001b[38;5;124m'\u001b[39m)\n",
            "\u001b[1;31mNameError\u001b[0m: name 'os' is not defined"
          ]
        }
      ],
      "source": [
        "MLFLOW_TRACKING_URI = ''\n",
        "MLFLOW_TRACKING_USERNAME = ''\n",
        "MLFLOW_TRACKING_PASSWORD = ''\n",
        "os.environ['MLFLOW_TRACKING_USERNAME'] = 'renansantosmendes'\n",
        "os.environ['MLFLOW_TRACKING_PASSWORD'] = '6d730ef4a90b1caf28fbb01e5748f0874fda6077'\n",
        "\n",
        "mlflow.set_tracking_uri('https://dagshub.com/renansantosmendes/puc_lectures_mlops.mlflow')"
      ]
    },
    {
      "cell_type": "markdown",
      "metadata": {
        "id": "dbFFAEaGK0lX"
      },
      "source": [
        "## Criando um client para comunicar com o registro no DagsHub"
      ]
    },
    {
      "cell_type": "code",
      "execution_count": null,
      "metadata": {
        "id": "wax9ipKjKShr"
      },
      "outputs": [],
      "source": [
        "client = mlflow.MlflowClient(tracking_uri=MLFLOW_TRACKING_URI)"
      ]
    },
    {
      "cell_type": "code",
      "execution_count": null,
      "metadata": {
        "id": "fWlu0lRiLp3u"
      },
      "outputs": [],
      "source": [
        "client"
      ]
    },
    {
      "cell_type": "markdown",
      "metadata": {
        "id": "m1NMo6kfLBtq"
      },
      "source": [
        "## Recebendo o modelo registrado e suas versões"
      ]
    },
    {
      "cell_type": "code",
      "execution_count": null,
      "metadata": {
        "id": "8oSsyfv0K6j5"
      },
      "outputs": [],
      "source": [
        "registered_model = client.get_registered_model('MODEL_NAME')"
      ]
    },
    {
      "cell_type": "code",
      "execution_count": null,
      "metadata": {
        "id": "e2DDK_6_LPi5"
      },
      "outputs": [],
      "source": [
        "registered_model.latest_versions"
      ]
    },
    {
      "cell_type": "markdown",
      "metadata": {
        "id": "DfBd2wRdLRPC"
      },
      "source": [
        "## Obtendo o id da execução do modelo"
      ]
    },
    {
      "cell_type": "code",
      "execution_count": null,
      "metadata": {
        "id": "HG-BzNlkK9oC"
      },
      "outputs": [],
      "source": [
        "run_id = registered_model.latest_versions[-1].run_id"
      ]
    },
    {
      "cell_type": "markdown",
      "metadata": {
        "id": "WORhnvgnLYrX"
      },
      "source": [
        "## Carregando o modelo"
      ]
    },
    {
      "cell_type": "code",
      "execution_count": null,
      "metadata": {
        "id": "xa1ZTR6OK_hg"
      },
      "outputs": [],
      "source": [
        "logged_model = f'runs:/{run_id}/model'\n",
        "loaded_model = mlflow.pyfunc.load_model(logged_model)"
      ]
    },
    {
      "cell_type": "markdown",
      "metadata": {
        "id": "IQBbf3xULc1A"
      },
      "source": [
        "## Fazendo uma predição com o modelo carregadO"
      ]
    },
    {
      "cell_type": "code",
      "execution_count": null,
      "metadata": {
        "id": "SwbDW9aLJziQ"
      },
      "outputs": [],
      "source": [
        "accelerations = 0\n",
        "fetal_movement = 0\n",
        "uterine_contractions = 0\n",
        "severe_decelerations = 0"
      ]
    },
    {
      "cell_type": "code",
      "execution_count": null,
      "metadata": {
        "id": "s-Ed15fsJv5k"
      },
      "outputs": [],
      "source": [
        "received_data = np.array([\n",
        "        accelerations,\n",
        "        fetal_movement,\n",
        "        uterine_contractions,\n",
        "        severe_decelerations,\n",
        "    ]).reshape(1, -1)"
      ]
    },
    {
      "cell_type": "code",
      "execution_count": null,
      "metadata": {
        "id": "Mpc1_Y57J_xV"
      },
      "outputs": [],
      "source": [
        "received_data"
      ]
    },
    {
      "cell_type": "code",
      "execution_count": null,
      "metadata": {
        "id": "lV6gcA8dJmX0"
      },
      "outputs": [],
      "source": [
        "loaded_model.predict(received_data)"
      ]
    },
    {
      "cell_type": "code",
      "execution_count": null,
      "metadata": {
        "id": "k3qYyLsyKDVb"
      },
      "outputs": [],
      "source": []
    }
  ],
  "metadata": {
    "colab": {
      "provenance": []
    },
    "kernelspec": {
      "display_name": "mlops_env",
      "language": "python",
      "name": "python3"
    },
    "language_info": {
      "codemirror_mode": {
        "name": "ipython",
        "version": 3
      },
      "file_extension": ".py",
      "mimetype": "text/x-python",
      "name": "python",
      "nbconvert_exporter": "python",
      "pygments_lexer": "ipython3",
      "version": "3.11.13"
    }
  },
  "nbformat": 4,
  "nbformat_minor": 0
}
