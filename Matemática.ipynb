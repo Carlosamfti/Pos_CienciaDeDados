{
 "cells": [
  {
   "cell_type": "code",
   "execution_count": 179,
   "id": "edc79bc0-e85c-4ba0-923b-b307bb967ee3",
   "metadata": {},
   "outputs": [
    {
     "name": "stdout",
     "output_type": "stream",
     "text": [
      "Para o raio 2, a área = 12.56636 e o comprimento = 12.56636\n"
     ]
    }
   ],
   "source": [
    "raio = 2\n",
    "area = 3.14159 * raio**2\n",
    "comprimento = 2 * 3.14159 * raio\n",
    "print ('Para o raio {}, a área = {} e o comprimento = {}'.format(raio,area,comprimento))"
   ]
  },
  {
   "cell_type": "code",
   "execution_count": 52,
   "id": "9e1be206-85d5-4712-90ad-e0967c853ad0",
   "metadata": {},
   "outputs": [
    {
     "name": "stdout",
     "output_type": "stream",
     "text": [
      "A distancia euclidiana entre os pontos (3,4) e 5,6) = 2.8284271247461903\n"
     ]
    }
   ],
   "source": [
    "x1 = 3\n",
    "y1 = 4\n",
    "x2 = 5\n",
    "y2 = 6\n",
    "\n",
    "Dist_euc = ((x1-x2)**2 + (y1-y2)**2) ** (1/2)\n",
    "print ('A distancia euclidiana entre os pontos ({},{}) e {},{}) = {}'.format(x1,y1,x2,y2,Dist_euc))\n",
    "\n",
    "#O INTERPRETADOR ESPERA O PARÊNTESES NO 1/2. CASO CONTRÁRIO, FARÁ A MULTIPLICAÇÃO\n"
   ]
  },
  {
   "cell_type": "code",
   "execution_count": 54,
   "id": "f693b16b-10c4-41f3-b002-892ace1c3866",
   "metadata": {},
   "outputs": [
    {
     "name": "stdout",
     "output_type": "stream",
     "text": [
      "x1  = 3.0 \n",
      "x2  = 2.0 \n"
     ]
    }
   ],
   "source": [
    "a = 1.0\n",
    "b = -5.0\n",
    "c = 6.0\n",
    "delta = b**2 - 4*a*c\n",
    "x1 = (-b + delta** (1/2)) / 2*a\n",
    "x2 = (-b - delta** (1/2)) / 2*a\n",
    "\n",
    "print('x1  = {} '.format(x1))\n",
    "print('x2  = {} '.format(x2))\n",
    "\n",
    "#O INTERPRETADOR ESPERA O PARÊNTESES NO 1/2. CASO CONTRÁRIO, FARÁ A MULTIPLICAÇÃO"
   ]
  },
  {
   "cell_type": "code",
   "execution_count": null,
   "id": "abc07977-bdd4-4dd0-94a2-b3b74c760d1a",
   "metadata": {},
   "outputs": [],
   "source": []
  }
 ],
 "metadata": {
  "kernelspec": {
   "display_name": "Python [conda env:base] *",
   "language": "python",
   "name": "conda-base-py"
  },
  "language_info": {
   "codemirror_mode": {
    "name": "ipython",
    "version": 3
   },
   "file_extension": ".py",
   "mimetype": "text/x-python",
   "name": "python",
   "nbconvert_exporter": "python",
   "pygments_lexer": "ipython3",
   "version": "3.12.7"
  }
 },
 "nbformat": 4,
 "nbformat_minor": 5
}
