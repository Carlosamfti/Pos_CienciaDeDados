{
 "cells": [
  {
   "cell_type": "code",
   "execution_count": 1,
   "id": "4a12a821-1c96-45f8-b2f2-cc7541c9479c",
   "metadata": {},
   "outputs": [
    {
     "data": {
      "text/plain": [
       "0"
      ]
     },
     "execution_count": 1,
     "metadata": {},
     "output_type": "execute_result"
    }
   ],
   "source": [
    "num = 12\n",
    "operacao = num % 2\n",
    "operacao"
   ]
  },
  {
   "cell_type": "code",
   "execution_count": 33,
   "id": "c1e5b775-3c7a-45cc-8dd8-49be0cb9f2a3",
   "metadata": {},
   "outputs": [
    {
     "name": "stdout",
     "output_type": "stream",
     "text": [
      "O valor da variável num é positivo e par\n"
     ]
    }
   ],
   "source": [
    "if (num >= 0) and (num % 2 == 0):\n",
    "    print(\"O valor da variável num é positivo e par\")"
   ]
  },
  {
   "cell_type": "code",
   "execution_count": 45,
   "id": "c1445438-1682-43c7-bad1-ed6c97849c7a",
   "metadata": {},
   "outputs": [
    {
     "name": "stdin",
     "output_type": "stream",
     "text": [
      "Digite seu peso:  91\n",
      "Digite sua altura:  1.80\n"
     ]
    },
    {
     "name": "stdout",
     "output_type": "stream",
     "text": [
      "Seu peso está acima do ideal. Seu IMC = 28.086419753086417.\n"
     ]
    }
   ],
   "source": [
    "peso = float(input(\"Digite seu peso: \"))\n",
    "altura = float(input(\"Digite sua altura: \"))\n",
    "imc = peso/altura**2\n",
    "if imc <20:\n",
    "    print(\"Seu peso está abaixo do ideal. Seu IMC = {}.\".format(imc))\n",
    "elif (imc >= 20) and (imc <= 25):\n",
    "    print(\"Seu peso está dentro da faixa ideal. Seu IMC = {}.\".format(imc))\n",
    "else:\n",
    "    print(\"Seu peso está acima do ideal. Seu IMC = {}.\".format(imc))\n",
    "\n",
    "        "
   ]
  },
  {
   "cell_type": "code",
   "execution_count": 144,
   "id": "a4213640-4c53-4fe4-9bb2-5c127b9cc291",
   "metadata": {},
   "outputs": [
    {
     "name": "stdin",
     "output_type": "stream",
     "text": [
      "Digite seu peso:  65\n",
      "Digite sua altura:  1.62\n"
     ]
    },
    {
     "name": "stdout",
     "output_type": "stream",
     "text": [
      "Você está dentro do peso normal. Seu IMC = 24.76756591982929.\n"
     ]
    }
   ],
   "source": [
    "peso2 = float(input(\"Digite seu peso: \"))\n",
    "altura2 = float(input(\"Digite sua altura: \"))\n",
    "imc2 = peso2/altura2**2\n",
    "\n",
    "if (imc2 < 17):\n",
    "    print(\"Você está muito abaixo do peso. Seu IMC = {}.\".format(imc2))\n",
    "elif (imc2 >= 17.00) and (imc2 < 18.5):\n",
    "    print(\"Você está abaixo do peso. Seu IMC = {}.\".format(imc2))\n",
    "elif (imc2 >= 18.50) and (imc2 < 25):\n",
    "    print(\"Você está dentro do peso normal. Seu IMC = {}.\".format(imc2))\n",
    "elif (imc2 >= 25.00) and (imc2 < 30):\n",
    "    print(\"Você está acima do peso. Seu IMC = {}.\".format(imc2))\n",
    "elif (imc2 >= 30.00) and (imc2 < 35):\n",
    "    print(\"Você está dentro da Obesidade I. Seu IMC = {}.\".format(imc2)) \n",
    "elif (imc2 >= 35.00) and (imc2 < 40):\n",
    "    print(\"Você está dentro da Obesidade II (severa). Seu IMC = {}.\".format(imc2))\n",
    "elif (imc >= 40.00):\n",
    "    print(\"Você está dentro da Obesidade III (mórbida). Seu IMC = {}.\".format(imc2)) \n",
    "\n",
    "# Uitlizando o Elif não é necessário recuo"
   ]
  },
  {
   "cell_type": "code",
   "execution_count": 142,
   "id": "7f624308-326f-4926-84de-a2b848eb16d6",
   "metadata": {},
   "outputs": [
    {
     "name": "stdin",
     "output_type": "stream",
     "text": [
      "Digite seu peso:  130\n",
      "Digite sua altura:  1.80\n"
     ]
    },
    {
     "name": "stdout",
     "output_type": "stream",
     "text": [
      "Você está dentro da Obesidade III (mórbida). Seu IMC = 40.123456790123456.\n"
     ]
    }
   ],
   "source": [
    "peso3 = float(input(\"Digite seu peso: \"))\n",
    "altura3 = float(input(\"Digite sua altura: \"))\n",
    "imc3 = peso3/altura3**2\n",
    "if imc3 < 17:\n",
    "    print(\"Você está muito abaixo do peso ideal. Seu IMC = {}.\".format(imc3))\n",
    "else: \n",
    "    if imc3 >= 17.00 and imc3 < 18.5:\n",
    "        print(\"Você está abaixo do peso ideal. Seu IMC = {}.\".format(imc3))\n",
    "    else: \n",
    "         if imc3 >= 18.5 and imc3 < 25:\n",
    "            print(\"Você está dentro do peso ideal. Seu IMC = {}.\".format(imc3))\n",
    "         else: \n",
    "             if imc3 >= 25 and imc3 < 30:\n",
    "                print(\"Você está acima do peso. Seu IMC = {}.\".format(imc))\n",
    "             else:    \n",
    "                 if imc3 >= 30 and imc3 < 35:\n",
    "                    print(\"Você está dentro da Obesidade I. Seu IMC = {}.\".format(imc3)) \n",
    "                 else:  \n",
    "                    if imc3 >= 35.00 and imc3 < 40:\n",
    "                         print(\"Você está dentro da Obesidade II (severa). Seu IMC = {}.\".format(imc3))\n",
    "                    else:\n",
    "                         print(\"Você está dentro da Obesidade III (mórbida). Seu IMC = {}.\".format(imc3))\n",
    "\n",
    "# A cada else é necessário um recuo\n",
    "       \n",
    "             "
   ]
  },
  {
   "cell_type": "code",
   "execution_count": 156,
   "id": "7f5f6bae-846c-4eda-ae95-0d8a4588cc0d",
   "metadata": {},
   "outputs": [
    {
     "name": "stdin",
     "output_type": "stream",
     "text": [
      "Digite o primeiro lado do triângulo 7\n",
      "Digite o segundo lado do triângulo 8\n",
      "Digite o terceiro lado do triângulo 4\n"
     ]
    },
    {
     "name": "stdout",
     "output_type": "stream",
     "text": [
      "As medidas A 7.0 cm, B 8.0 cm e C 4.0 cm formam um triângulo\n"
     ]
    }
   ],
   "source": [
    "lado1 = float(input(\"Digite o primeiro lado do triângulo\"))\n",
    "lado2 = float(input(\"Digite o segundo lado do triângulo\"))\n",
    "lado3 = float(input(\"Digite o terceiro lado do triângulo\"))\n",
    "\n",
    "if (lado1 + lado3 > lado2) and (lado2 + lado1 > lado3) and (lado3 + lado2 > lado1):\n",
    "              print(\"As medidas A {} cm, B {} cm e C {} cm formam um triângulo\".format(lado1,lado2,lado3))\n",
    "else:\n",
    "              print(\"As medidas A {} cm, B {} cm e C {} cm não formam um triângulo\".format(lado1, lado2, lado3))\n",
    "                                                      "
   ]
  },
  {
   "cell_type": "code",
   "execution_count": 168,
   "id": "6b440c62-3be5-4281-a9a1-3ad6914ab868",
   "metadata": {},
   "outputs": [
    {
     "name": "stdin",
     "output_type": "stream",
     "text": [
      "Digite o primeiro lado do triângulo 6\n",
      "Digite o segundo lado do triângulo 6\n",
      "Digite o terceiro lado do triângulo 2\n"
     ]
    },
    {
     "name": "stdout",
     "output_type": "stream",
     "text": [
      "As medidas A 6.0 cm, B 6.0 cm e C 2.0 cm formam um triângulo isóceles\n"
     ]
    }
   ],
   "source": [
    "lado1 = float(input(\"Digite o primeiro lado do triângulo\"))\n",
    "lado2 = float(input(\"Digite o segundo lado do triângulo\"))\n",
    "lado3 = float(input(\"Digite o terceiro lado do triângulo\"))\n",
    "\n",
    "if (lado1 + lado3 > lado2) and (lado2 + lado1 > lado3) and (lado3 + lado2 > lado1):\n",
    "    if (lado2 == lado1) and (lado2 == lado3):\n",
    "        print(\"As medidas A {} cm, B {} cm e C {} cm formam um triângulo equilátero\".format(lado1,lado2,lado3))\n",
    "    else:\n",
    "        if (lado2 == lado1) or (lado2 == lado3) or (lado1 == lado3):\n",
    "            print(\"As medidas A {} cm, B {} cm e C {} cm formam um triângulo isóceles\".format(lado1, lado2, lado3))\n",
    "        else:\n",
    "            print(\"As medidas A {} cm, B {} cm e C {} cm formam um triângulo escaleno\".format(lado1, lado2, lado3))\n",
    "else:\n",
    "    print(\"As medidas A {} cm, B {} cm e C {} cm não formam um triângulo\".format(lado1, lado2, lado3))"
   ]
  },
  {
   "cell_type": "code",
   "execution_count": 176,
   "id": "566062d5-dd1e-4163-b07e-49c379721a0a",
   "metadata": {},
   "outputs": [
    {
     "name": "stdin",
     "output_type": "stream",
     "text": [
      "Digite o primeiro lado do triângulo 6\n",
      "Digite o segundo lado do triângulo 7\n",
      "Digite o terceiro lado do triângulo 10\n"
     ]
    },
    {
     "name": "stdout",
     "output_type": "stream",
     "text": [
      "As medidas A 6.0 cm, B 7.0 cm e C 10.0 cm formam um triângulo escaleno\n"
     ]
    }
   ],
   "source": [
    "lado1 = float(input(\"Digite o primeiro lado do triângulo\"))\n",
    "lado2 = float(input(\"Digite o segundo lado do triângulo\"))\n",
    "lado3 = float(input(\"Digite o terceiro lado do triângulo\"))\n",
    "\n",
    "if (lado1 + lado3 > lado2) and (lado2 + lado1 > lado3) and (lado3 + lado2 > lado1):\n",
    "    if (lado2 == lado1) and (lado2 == lado3):\n",
    "        print(\"As medidas A {} cm, B {} cm e C {} cm formam um triângulo equilátero\".format(lado1,lado2,lado3))\n",
    "    elif (lado2 == lado1) or (lado2 == lado3) or (lado1 == lado3):\n",
    "            print(\"As medidas A {} cm, B {} cm e C {} cm formam um triângulo isóceles\".format(lado1, lado2, lado3))\n",
    "    else:\n",
    "            print(\"As medidas A {} cm, B {} cm e C {} cm formam um triângulo escaleno\".format(lado1, lado2, lado3))\n",
    "else:\n",
    "    print(\"As medidas A {} cm, B {} cm e C {} cm não formam um triângulo\".format(lado1, lado2, lado3))"
   ]
  },
  {
   "cell_type": "code",
   "execution_count": 182,
   "id": "f134f477-f6ca-4f1c-aa44-0e6bbfb5d2c6",
   "metadata": {},
   "outputs": [],
   "source": []
  },
  {
   "cell_type": "code",
   "execution_count": 197,
   "id": "244b4c6b-acaf-4688-8674-865b6d4808d3",
   "metadata": {},
   "outputs": [
    {
     "name": "stdin",
     "output_type": "stream",
     "text": [
      "Digite um nome:  Roberto\n",
      "Digite uma idade 40\n",
      "Digite um nome:  Jessica\n",
      "Digite uma idade 30\n",
      "Digite um nome:  Almerinda\n",
      "Digite uma idade 50\n",
      "Digite um nome:  FIM\n"
     ]
    },
    {
     "name": "stdout",
     "output_type": "stream",
     "text": [
      "\n",
      "\n",
      "Nomes digitados\n",
      "================\n",
      "['Roberto', 'Jessica', 'Almerinda']\n",
      "\n",
      "Idades\n",
      "===============\n",
      "[40, 30, 50]\n"
     ]
    }
   ],
   "source": [
    "lista_idades = []\n",
    "lista_pessoas = []\n",
    "\n",
    "nome = input(\"Digite um nome: \")\n",
    "while (nome.lower() !='fim'):\n",
    "    idade = int(input(\"Digite uma idade\"))\n",
    "    lista_idades.append(idade)\n",
    "    lista_pessoas.append(nome)\n",
    "    nome = input(\"Digite um nome: \")\n",
    "\n",
    "print(\"\\n\\nNomes digitados\\n================\")\n",
    "print(lista_pessoas)\n",
    "print(\"\\nIdades\\n===============\")\n",
    "print(lista_idades)"
   ]
  },
  {
   "cell_type": "code",
   "execution_count": 203,
   "id": "a2698cfd-b2f2-4f03-b30c-1ea26a9e3700",
   "metadata": {},
   "outputs": [
    {
     "name": "stdin",
     "output_type": "stream",
     "text": [
      "Digite um nome:  Carlos\n",
      "Digite uma idade 10\n",
      "Digite um nome:  Jessica\n",
      "Digite uma idade 20\n",
      "Digite um nome:  Carla\n",
      "Digite uma idade 80\n",
      "Digite um nome:  DominiqUE\n",
      "Digite uma idade 15\n",
      "Digite um nome:  Alfredo\n",
      "Digite uma idade 70\n"
     ]
    },
    {
     "name": "stdout",
     "output_type": "stream",
     "text": [
      "\n",
      "\n",
      "Nomes digitados\n",
      "================\n",
      "['Carlos', 'Jessica', 'Carla', 'DominiqUE', 'Alfredo']\n",
      "\n",
      "Idades\n",
      "===============\n",
      "[10, 20, 80, 15, 70]\n"
     ]
    }
   ],
   "source": [
    "lista_idades = []\n",
    "lista_pessoas = []\n",
    "\n",
    "cont = 0\n",
    "\n",
    "while (cont < 5):\n",
    "    nome = input(\"Digite um nome: \")\n",
    "    idade = int(input(\"Digite uma idade\"))\n",
    "    lista_idades.append(idade)\n",
    "    lista_pessoas.append(nome)\n",
    "    cont = cont + 1\n",
    "\n",
    "print(\"\\n\\nNomes digitados\\n================\")\n",
    "print(lista_pessoas)\n",
    "print(\"\\nIdades\\n===============\")\n",
    "print(lista_idades)"
   ]
  },
  {
   "cell_type": "code",
   "execution_count": 221,
   "id": "f61d2410-bce6-428a-9cef-ee13f2715d21",
   "metadata": {},
   "outputs": [
    {
     "name": "stdout",
     "output_type": "stream",
     "text": [
      "1º termo 1/1 = 1.0 \n",
      "2º termo 1/4 = 0.25 \n",
      "3º termo 1/9 = 0.1111111111111111 \n",
      "4º termo 1/16 = 0.0625 \n",
      "5º termo 1/25 = 0.04 \n",
      "6º termo 1/36 = 0.027777777777777776 \n",
      "7º termo 1/49 = 0.02040816326530612 \n",
      "8º termo 1/64 = 0.015625 \n",
      "9º termo 1/81 = 0.012345679012345678 \n",
      "10º termo 1/100 = 0.01 \n",
      "11º termo 1/121 = 0.008264462809917356 \n",
      "12º termo 1/144 = 0.006944444444444444 \n",
      "13º termo 1/169 = 0.005917159763313609 \n",
      "14º termo 1/196 = 0.00510204081632653 \n",
      "15º termo 1/225 = 0.0044444444444444444 \n",
      "16º termo 1/256 = 0.00390625 \n",
      "17º termo 1/289 = 0.0034602076124567475 \n",
      "18º termo 1/324 = 0.0030864197530864196 \n",
      "19º termo 1/361 = 0.002770083102493075 \n",
      "20º termo 1/400 = 0.0025 \n",
      "21º termo 1/441 = 0.0022675736961451248 \n",
      "22º termo 1/484 = 0.002066115702479339 \n",
      "23º termo 1/529 = 0.001890359168241966 \n",
      "24º termo 1/576 = 0.001736111111111111 \n",
      "25º termo 1/625 = 0.0016 \n",
      "26º termo 1/676 = 0.0014792899408284023 \n",
      "27º termo 1/729 = 0.0013717421124828531 \n",
      "28º termo 1/784 = 0.0012755102040816326 \n",
      "29º termo 1/841 = 0.0011890606420927466 \n",
      "30º termo 1/900 = 0.0011111111111111111 \n",
      "31º termo 1/961 = 0.001040582726326743 \n",
      "32º termo 1/1024 = 0.0009765625 \n",
      "33º termo 1/1089 = 0.0009182736455463728 \n",
      "34º termo 1/1156 = 0.0008650519031141869 \n",
      "35º termo 1/1225 = 0.0008163265306122449 \n",
      "36º termo 1/1296 = 0.0007716049382716049 \n",
      "37º termo 1/1369 = 0.0007304601899196494 \n",
      "38º termo 1/1444 = 0.0006925207756232687 \n",
      "39º termo 1/1521 = 0.0006574621959237344 \n",
      "40º termo 1/1600 = 0.000625 \n",
      "41º termo 1/1681 = 0.000594883997620464 \n",
      "42º termo 1/1764 = 0.0005668934240362812 \n",
      "43º termo 1/1849 = 0.0005408328826392645 \n",
      "44º termo 1/1936 = 0.0005165289256198347 \n",
      "45º termo 1/2025 = 0.0004938271604938272 \n",
      "46º termo 1/2116 = 0.0004725897920604915 \n",
      "47º termo 1/2209 = 0.0004526935264825713 \n",
      "48º termo 1/2304 = 0.00043402777777777775 \n",
      "49º termo 1/2401 = 0.00041649312786339027 \n",
      "50º termo 1/2500 = 0.0004 \n",
      "51º termo 1/2601 = 0.00038446751249519417 \n",
      "52º termo 1/2704 = 0.0003698224852071006 \n",
      "53º termo 1/2809 = 0.000355998576005696 \n",
      "54º termo 1/2916 = 0.0003429355281207133 \n",
      "55º termo 1/3025 = 0.00033057851239669424 \n",
      "56º termo 1/3136 = 0.00031887755102040814 \n",
      "57º termo 1/3249 = 0.0003077870113881194 \n",
      "58º termo 1/3364 = 0.00029726516052318666 \n",
      "59º termo 1/3481 = 0.0002872737719046251 \n",
      "60º termo 1/3600 = 0.0002777777777777778 \n",
      "61º termo 1/3721 = 0.0002687449610319806 \n",
      "62º termo 1/3844 = 0.00026014568158168577 \n",
      "63º termo 1/3969 = 0.0002519526329050139 \n",
      "64º termo 1/4096 = 0.000244140625 \n",
      "65º termo 1/4225 = 0.00023668639053254438 \n",
      "66º termo 1/4356 = 0.0002295684113865932 \n",
      "67º termo 1/4489 = 0.00022276676319893073 \n",
      "68º termo 1/4624 = 0.00021626297577854672 \n",
      "69º termo 1/4761 = 0.00021003990758244065 \n",
      "70º termo 1/4900 = 0.00020408163265306123 \n",
      "71º termo 1/5041 = 0.00019837333862328903 \n",
      "72º termo 1/5184 = 0.00019290123456790122 \n",
      "73º termo 1/5329 = 0.00018765246762994934 \n",
      "74º termo 1/5476 = 0.00018261504747991235 \n",
      "75º termo 1/5625 = 0.00017777777777777779 \n",
      "76º termo 1/5776 = 0.00017313019390581717 \n",
      "77º termo 1/5929 = 0.00016866250632484398 \n",
      "78º termo 1/6084 = 0.0001643655489809336 \n",
      "79º termo 1/6241 = 0.0001602307322544464 \n",
      "80º termo 1/6400 = 0.00015625 \n",
      "81º termo 1/6561 = 0.00015241579027587258 \n",
      "82º termo 1/6724 = 0.000148720999405116 \n",
      "83º termo 1/6889 = 0.00014515894904920887 \n",
      "84º termo 1/7056 = 0.0001417233560090703 \n",
      "85º termo 1/7225 = 0.0001384083044982699 \n",
      "86º termo 1/7396 = 0.00013520822065981613 \n",
      "87º termo 1/7569 = 0.0001321178491214163 \n",
      "88º termo 1/7744 = 0.00012913223140495868 \n",
      "89º termo 1/7921 = 0.00012624668602449185 \n",
      "90º termo 1/8100 = 0.0001234567901234568 \n",
      "91º termo 1/8281 = 0.00012075836251660427 \n",
      "92º termo 1/8464 = 0.00011814744801512288 \n",
      "93º termo 1/8649 = 0.00011562030292519366 \n",
      "94º termo 1/8836 = 0.00011317338162064282 \n",
      "95º termo 1/9025 = 0.00011080332409972299 \n",
      "96º termo 1/9216 = 0.00010850694444444444 \n",
      "97º termo 1/9409 = 0.00010628122010840685 \n",
      "98º termo 1/9604 = 0.00010412328196584757 \n",
      "99º termo 1/9801 = 0.00010203040506070809 \n",
      "100º termo 1/10000 = 0.0001 \n",
      "1.6349839001848923\n"
     ]
    }
   ],
   "source": [
    "soma = 0\n",
    "qtde = 0\n",
    "den = 0\n",
    "termo = 1\n",
    "\n",
    "while (termo > 0.0001):\n",
    "    qtde +=1\n",
    "    den = qtde ** 2\n",
    "    termo = 1/den\n",
    "    soma+= termo\n",
    "    print(\"{}º termo {}/{} = {} \".format(qtde,1,den,termo))\n",
    "\n",
    "print(soma)"
   ]
  },
  {
   "cell_type": "code",
   "execution_count": 225,
   "id": "f1d0d644-5a0f-4bad-b777-fcbcec916544",
   "metadata": {},
   "outputs": [
    {
     "name": "stdout",
     "output_type": "stream",
     "text": [
      "1\n",
      "19\n",
      "2\n",
      "15\n",
      "21\n",
      "12\n",
      "2\n"
     ]
    }
   ],
   "source": [
    "lista = [1,19,2,15,21,12,2]\n",
    "for num in lista:\n",
    "    print(num)"
   ]
  },
  {
   "cell_type": "code",
   "execution_count": 227,
   "id": "a0cba2e1-82c0-43d8-97b1-1d3e5a88f465",
   "metadata": {},
   "outputs": [
    {
     "name": "stdout",
     "output_type": "stream",
     "text": [
      "2\n"
     ]
    }
   ],
   "source": [
    "print(num)"
   ]
  },
  {
   "cell_type": "code",
   "execution_count": 239,
   "id": "01fbc154-ce0e-438f-8f10-f87b45dade6b",
   "metadata": {},
   "outputs": [
    {
     "name": "stdout",
     "output_type": "stream",
     "text": [
      "1 é impar.\n",
      "19 é impar.\n",
      "2 é par.\n",
      "15 é impar.\n",
      "21 é impar.\n",
      "12 é par.\n",
      "2 é par.\n"
     ]
    }
   ],
   "source": [
    "for num in lista:\n",
    "    if num % 2 == 0:\n",
    "        print(num, \"é par.\")\n",
    "    else:\n",
    "        print(num, \"é impar.\")"
   ]
  },
  {
   "cell_type": "code",
   "execution_count": 241,
   "id": "a0d68b09-66fa-43f1-a317-ccdb7ea7f1f7",
   "metadata": {},
   "outputs": [
    {
     "name": "stdout",
     "output_type": "stream",
     "text": [
      "A lista contém 3 números pares e 4 números impares.\n"
     ]
    }
   ],
   "source": [
    "cont_par = 0\n",
    "cont_impar = 0\n",
    "for num in lista:\n",
    "    if num % 2 == 0:\n",
    "        cont_par += 1\n",
    "    else:\n",
    "        cont_impar += 1\n",
    "print (\"A lista contém {} números pares e {} números impares.\".format(cont_par,cont_impar))"
   ]
  },
  {
   "cell_type": "code",
   "execution_count": 243,
   "id": "741784db-d024-4400-9094-fc2d203b2c2d",
   "metadata": {},
   "outputs": [
    {
     "name": "stdout",
     "output_type": "stream",
     "text": [
      "A soma dos elementos da lista é 72.\n"
     ]
    }
   ],
   "source": [
    "soma = 0\n",
    "for n in lista:\n",
    "    soma+=n\n",
    "print(\"A soma dos elementos da lista é {}.\".format(soma))\n",
    "    "
   ]
  },
  {
   "cell_type": "code",
   "execution_count": 257,
   "id": "ecc9fbab-29b7-4f61-833b-c643faf8a2df",
   "metadata": {},
   "outputs": [
    {
     "name": "stdout",
     "output_type": "stream",
     "text": [
      "A soma dos elementos da lista é 72\n"
     ]
    }
   ],
   "source": [
    "print(\"A soma dos elementos da lista é\",sum(lista))"
   ]
  },
  {
   "cell_type": "code",
   "execution_count": 263,
   "id": "40769d13-b3f9-460b-bf10-1f4ff15dbbc0",
   "metadata": {},
   "outputs": [
    {
     "name": "stdout",
     "output_type": "stream",
     "text": [
      "A soma dos elementos impáres da lista =  56\n"
     ]
    }
   ],
   "source": [
    "soma_impar = 0\n",
    "for n in lista:\n",
    "    if n % 2 == 1:\n",
    "        soma_impar = soma_impar + n\n",
    "print(\"A soma dos elementos impáres da lista = \", soma_impar)\n",
    "    "
   ]
  },
  {
   "cell_type": "code",
   "execution_count": 271,
   "id": "269fc312-832f-4690-881d-4c7a8b3609d6",
   "metadata": {},
   "outputs": [
    {
     "name": "stdout",
     "output_type": "stream",
     "text": [
      "0\n",
      "1\n",
      "2\n",
      "3\n",
      "4\n",
      "5\n",
      "6\n"
     ]
    }
   ],
   "source": [
    "for i in range(7):\n",
    "    print(i)"
   ]
  },
  {
   "cell_type": "code",
   "execution_count": 277,
   "id": "1ed23762-f49d-440a-a9d3-a550642dd1f4",
   "metadata": {},
   "outputs": [
    {
     "name": "stdout",
     "output_type": "stream",
     "text": [
      "1683\n"
     ]
    }
   ],
   "source": [
    "soma_mult_3 = 0\n",
    "for x in range(3,100,3):\n",
    "    soma_mult_3+=x\n",
    "print(soma_mult_3)"
   ]
  },
  {
   "cell_type": "code",
   "execution_count": 281,
   "id": "c9e4720e-27a0-4315-b68d-4e2bf7fb272a",
   "metadata": {},
   "outputs": [
    {
     "name": "stdin",
     "output_type": "stream",
     "text": [
      "Digite um número que seseja imprimir a taboada:  5\n"
     ]
    },
    {
     "name": "stdout",
     "output_type": "stream",
     "text": [
      "5 X 1 = 5\n",
      "5 X 2 = 10\n",
      "5 X 3 = 15\n",
      "5 X 4 = 20\n",
      "5 X 5 = 25\n",
      "5 X 6 = 30\n",
      "5 X 7 = 35\n",
      "5 X 8 = 40\n",
      "5 X 9 = 45\n",
      "5 X 10 = 50\n"
     ]
    }
   ],
   "source": [
    "num = int(input(\"Digite um número que seseja imprimir a taboada: \"))\n",
    "for mult in range (1,11):\n",
    "          print(\"{} X {} = {}\".format (num,mult,num*mult))"
   ]
  },
  {
   "cell_type": "code",
   "execution_count": 289,
   "id": "c3b9561e-b614-4534-8cbc-ac0a0bc13ae9",
   "metadata": {},
   "outputs": [
    {
     "name": "stdout",
     "output_type": "stream",
     "text": [
      "\n",
      "\n",
      "1 X 1 = 1\n",
      "1 X 2 = 2\n",
      "1 X 3 = 3\n",
      "1 X 4 = 4\n",
      "1 X 5 = 5\n",
      "1 X 6 = 6\n",
      "1 X 7 = 7\n",
      "1 X 8 = 8\n",
      "1 X 9 = 9\n",
      "1 X 10 = 10\n",
      "\n",
      "\n",
      "2 X 1 = 2\n",
      "2 X 2 = 4\n",
      "2 X 3 = 6\n",
      "2 X 4 = 8\n",
      "2 X 5 = 10\n",
      "2 X 6 = 12\n",
      "2 X 7 = 14\n",
      "2 X 8 = 16\n",
      "2 X 9 = 18\n",
      "2 X 10 = 20\n",
      "\n",
      "\n",
      "3 X 1 = 3\n",
      "3 X 2 = 6\n",
      "3 X 3 = 9\n",
      "3 X 4 = 12\n",
      "3 X 5 = 15\n",
      "3 X 6 = 18\n",
      "3 X 7 = 21\n",
      "3 X 8 = 24\n",
      "3 X 9 = 27\n",
      "3 X 10 = 30\n",
      "\n",
      "\n",
      "4 X 1 = 4\n",
      "4 X 2 = 8\n",
      "4 X 3 = 12\n",
      "4 X 4 = 16\n",
      "4 X 5 = 20\n",
      "4 X 6 = 24\n",
      "4 X 7 = 28\n",
      "4 X 8 = 32\n",
      "4 X 9 = 36\n",
      "4 X 10 = 40\n",
      "\n",
      "\n",
      "5 X 1 = 5\n",
      "5 X 2 = 10\n",
      "5 X 3 = 15\n",
      "5 X 4 = 20\n",
      "5 X 5 = 25\n",
      "5 X 6 = 30\n",
      "5 X 7 = 35\n",
      "5 X 8 = 40\n",
      "5 X 9 = 45\n",
      "5 X 10 = 50\n",
      "\n",
      "\n",
      "6 X 1 = 6\n",
      "6 X 2 = 12\n",
      "6 X 3 = 18\n",
      "6 X 4 = 24\n",
      "6 X 5 = 30\n",
      "6 X 6 = 36\n",
      "6 X 7 = 42\n",
      "6 X 8 = 48\n",
      "6 X 9 = 54\n",
      "6 X 10 = 60\n",
      "\n",
      "\n",
      "7 X 1 = 7\n",
      "7 X 2 = 14\n",
      "7 X 3 = 21\n",
      "7 X 4 = 28\n",
      "7 X 5 = 35\n",
      "7 X 6 = 42\n",
      "7 X 7 = 49\n",
      "7 X 8 = 56\n",
      "7 X 9 = 63\n",
      "7 X 10 = 70\n",
      "\n",
      "\n",
      "8 X 1 = 8\n",
      "8 X 2 = 16\n",
      "8 X 3 = 24\n",
      "8 X 4 = 32\n",
      "8 X 5 = 40\n",
      "8 X 6 = 48\n",
      "8 X 7 = 56\n",
      "8 X 8 = 64\n",
      "8 X 9 = 72\n",
      "8 X 10 = 80\n",
      "\n",
      "\n",
      "9 X 1 = 9\n",
      "9 X 2 = 18\n",
      "9 X 3 = 27\n",
      "9 X 4 = 36\n",
      "9 X 5 = 45\n",
      "9 X 6 = 54\n",
      "9 X 7 = 63\n",
      "9 X 8 = 72\n",
      "9 X 9 = 81\n",
      "9 X 10 = 90\n"
     ]
    }
   ],
   "source": [
    "for num in range(1,10):\n",
    "    print(\"\\n\")\n",
    "    for mult in range (1,11):\n",
    "        print(\"{} X {} = {}\".format(num,mult, num*mult))"
   ]
  },
  {
   "cell_type": "code",
   "execution_count": 295,
   "id": "c68814f2-c21f-4114-87e0-94f6592d053b",
   "metadata": {},
   "outputs": [
    {
     "name": "stdout",
     "output_type": "stream",
     "text": [
      "p\n",
      "n\n",
      "e\n",
      "u\n",
      "m\n",
      "o\n",
      "u\n",
      "l\n",
      "t\n",
      "r\n",
      "a\n",
      "m\n",
      "i\n",
      "c\n",
      "r\n",
      "o\n",
      "s\n",
      "c\n",
      "o\n",
      "p\n",
      "i\n",
      "c\n",
      "o\n",
      "s\n",
      "s\n",
      "i\n",
      "l\n",
      "i\n",
      "c\n",
      "o\n",
      "v\n",
      "u\n",
      "l\n",
      "c\n",
      "a\n",
      "n\n",
      "o\n",
      "c\n",
      "o\n",
      "n\n",
      "i\n",
      "ó\n",
      "t\n",
      "i\n",
      "c\n",
      "o\n"
     ]
    }
   ],
   "source": [
    "maiorpalavra = \"pneumoultramicroscopicossilicovulcanoconiótico\"\n",
    "for letra in maiorpalavra:\n",
    "    print(letra)"
   ]
  },
  {
   "cell_type": "code",
   "execution_count": 307,
   "id": "c0c2e717-0557-47e9-8024-d8dd6a5c9be3",
   "metadata": {},
   "outputs": [
    {
     "name": "stdout",
     "output_type": "stream",
     "text": [
      "1\n",
      "19\n",
      "5\n",
      "6\n",
      "12\n"
     ]
    }
   ],
   "source": [
    "tupla = {1,19,5,12,6}\n",
    "for ele in tupla:\n",
    "    print(ele)\n",
    "   "
   ]
  },
  {
   "cell_type": "code",
   "execution_count": 315,
   "id": "7f257bf1-3671-46d9-bf82-6a43894269fb",
   "metadata": {},
   "outputs": [
    {
     "name": "stdout",
     "output_type": "stream",
     "text": [
      "<class 'list'>\n",
      "<class 'tuple'>\n",
      "<class 'int'>\n"
     ]
    },
    {
     "data": {
      "text/plain": [
       "(4, 5, 6)"
      ]
     },
     "execution_count": 315,
     "metadata": {},
     "output_type": "execute_result"
    }
   ],
   "source": [
    "lista_tupla = [(1,2,3),(4,5,6),(7,8,9)]\n",
    "(t1,t2,t3) = lista_tupla[1]\n",
    "print(type(lista_tupla))\n",
    "print(type(lista_tupla[1]))\n",
    "print(type(t1))\n",
    "lista_tupla[1]"
   ]
  },
  {
   "cell_type": "code",
   "execution_count": 319,
   "id": "a1614fed-5182-4631-87dd-e9bcf7d19d54",
   "metadata": {},
   "outputs": [
    {
     "name": "stdout",
     "output_type": "stream",
     "text": [
      "A 3a nota = 15.\n",
      "A 3a nota = 25.\n",
      "A 3a nota = 21.\n",
      "A 3a nota = 18.\n"
     ]
    }
   ],
   "source": [
    "lista_tupla_notas = [(18,20,15,22),(10,15,25,19),(16,24,21,20),(10,13,18,13)]\n",
    "for (ele1,ele2,ele3,ele4) in lista_tupla_notas:\n",
    "    print(\"A 3a nota = {}.\".format(ele3))"
   ]
  },
  {
   "cell_type": "code",
   "execution_count": 321,
   "id": "45c35d91-606a-4098-bf61-f2ddf1b0f289",
   "metadata": {},
   "outputs": [
    {
     "name": "stdout",
     "output_type": "stream",
     "text": [
      "1\n",
      "2\n",
      "3\n",
      "4\n",
      "5\n",
      "6\n"
     ]
    }
   ],
   "source": [
    "conj1 = {1,5,2,6,3,4}\n",
    "for ele in conj1:\n",
    "    print(ele)"
   ]
  },
  {
   "cell_type": "code",
   "execution_count": 327,
   "id": "d5dca8db-9f8b-45fc-8f6d-c7296537b85c",
   "metadata": {},
   "outputs": [
    {
     "name": "stdout",
     "output_type": "stream",
     "text": [
      "O elemento 1 está contido no conj2.\n",
      "O elemento 2 está contido no conj2.\n",
      "O elemento 3 não está contido no conj2.\n",
      "O elemento 4 está contido no conj2.\n",
      "O elemento 5 não está contido no conj2.\n",
      "O elemento 6 não está contido no conj2.\n"
     ]
    }
   ],
   "source": [
    "conj2 = {1,17,12,4,2,20}\n",
    "for ele in conj1:\n",
    "    if ele in conj2:\n",
    "        print(\"O elemento {} está contido no conj2.\".format(ele))\n",
    "    else:\n",
    "         print(\"O elemento {} não está contido no conj2.\".format(ele))"
   ]
  },
  {
   "cell_type": "code",
   "execution_count": 1,
   "id": "2173f529-ea21-443c-9214-4282e4198591",
   "metadata": {},
   "outputs": [
    {
     "name": "stdout",
     "output_type": "stream",
     "text": [
      "MG\n",
      "PR\n",
      "BA\n",
      "RN\n",
      "AM\n"
     ]
    }
   ],
   "source": [
    "dic_estados  = {\"MG\":\"Minas Gerais\", \"PR\":\"Paraná\",\"BA\":\"Bahia\", \"RN\": \"Rio Grande do Norte\", \"AM\" : \"Amazonas\"}\n",
    "for est in dic_estados:\n",
    "    print(est)"
   ]
  },
  {
   "cell_type": "code",
   "execution_count": 335,
   "id": "3fdb846d-c38f-4f24-acf0-cd92e37bca8d",
   "metadata": {},
   "outputs": [
    {
     "name": "stdout",
     "output_type": "stream",
     "text": [
      "Minas Gerais\n",
      "Paraná\n",
      "Bahia\n",
      "Rio Grande do Norte\n",
      "Amazonas\n"
     ]
    }
   ],
   "source": [
    "for est in dic_estados.values():\n",
    "    print(est)"
   ]
  },
  {
   "cell_type": "code",
   "execution_count": 7,
   "id": "0942a700-f8d0-4fb8-9a7c-253d96dec0c7",
   "metadata": {},
   "outputs": [
    {
     "name": "stdout",
     "output_type": "stream",
     "text": [
      "A sigla para Minas Gerais é MG\n",
      "A sigla para Paraná é PR\n",
      "A sigla para Bahia é BA\n",
      "A sigla para Rio Grande do Norte é RN\n",
      "A sigla para Amazonas é AM\n"
     ]
    }
   ],
   "source": [
    "for (sig,est) in dic_estados.items():\n",
    "    print(\"A sigla para {} é {}\".format(est,sig))"
   ]
  },
  {
   "cell_type": "code",
   "execution_count": 341,
   "id": "59e630cd-ee66-4ad1-873c-24536d3c608e",
   "metadata": {},
   "outputs": [
    {
     "data": {
      "text/plain": [
       "[1, 19, 2, 15, 21, 12, 2]"
      ]
     },
     "execution_count": 341,
     "metadata": {},
     "output_type": "execute_result"
    }
   ],
   "source": [
    "lista"
   ]
  },
  {
   "cell_type": "code",
   "execution_count": 343,
   "id": "ee03fbd3-7acf-456a-9464-65b5d8c68c5e",
   "metadata": {},
   "outputs": [],
   "source": [
    "lista.clear()"
   ]
  },
  {
   "cell_type": "code",
   "execution_count": 345,
   "id": "c4ba63dc-1e95-49c7-a72b-ef16efcb2f64",
   "metadata": {},
   "outputs": [
    {
     "data": {
      "text/plain": [
       "[]"
      ]
     },
     "execution_count": 345,
     "metadata": {},
     "output_type": "execute_result"
    }
   ],
   "source": [
    "lista"
   ]
  },
  {
   "cell_type": "code",
   "execution_count": 347,
   "id": "0c8310e4-bf95-4585-8363-b303f62133d1",
   "metadata": {},
   "outputs": [],
   "source": [
    "lista = [i for i in range(1,21)]"
   ]
  },
  {
   "cell_type": "code",
   "execution_count": 349,
   "id": "35f04b8f-fefe-4e26-8289-6710e4da2e92",
   "metadata": {},
   "outputs": [
    {
     "data": {
      "text/plain": [
       "[1, 2, 3, 4, 5, 6, 7, 8, 9, 10, 11, 12, 13, 14, 15, 16, 17, 18, 19, 20]"
      ]
     },
     "execution_count": 349,
     "metadata": {},
     "output_type": "execute_result"
    }
   ],
   "source": [
    "lista"
   ]
  },
  {
   "cell_type": "code",
   "execution_count": 351,
   "id": "b250b46c-e798-4f31-9780-e217c1a70c21",
   "metadata": {},
   "outputs": [],
   "source": [
    "lista.clear()"
   ]
  },
  {
   "cell_type": "code",
   "execution_count": 353,
   "id": "3aff05cd-88d6-490d-9ae3-c13a8f6e2f99",
   "metadata": {},
   "outputs": [
    {
     "data": {
      "text/plain": [
       "[1, 2, 3, 4, 5, 6, 7, 8, 9, 10, 11, 12, 13, 14, 15, 16, 17, 18, 19, 20]"
      ]
     },
     "execution_count": 353,
     "metadata": {},
     "output_type": "execute_result"
    }
   ],
   "source": [
    "for i in range (1,21):\n",
    "    lista.append(i)\n",
    "lista"
   ]
  },
  {
   "cell_type": "code",
   "execution_count": 355,
   "id": "455cc119-8e73-4ab1-a109-694dcc66b811",
   "metadata": {},
   "outputs": [
    {
     "data": {
      "text/plain": [
       "[1, 2, 3, 4, 5, 6, 7, 8, 9, 10, 11, 12, 13, 14, 15, 16, 17, 18, 19, 20]"
      ]
     },
     "execution_count": 355,
     "metadata": {},
     "output_type": "execute_result"
    }
   ],
   "source": [
    "lista"
   ]
  },
  {
   "cell_type": "code",
   "execution_count": 357,
   "id": "37caa489-5f6d-4377-90c1-a38b0b89ccc1",
   "metadata": {},
   "outputs": [],
   "source": [
    "lista.clear()"
   ]
  },
  {
   "cell_type": "code",
   "execution_count": 359,
   "id": "95c259e4-933c-45d8-9056-deb0625ad5aa",
   "metadata": {},
   "outputs": [],
   "source": [
    "lista = list (range(1,21))"
   ]
  },
  {
   "cell_type": "code",
   "execution_count": 361,
   "id": "479799b7-df99-4241-a215-326a72333453",
   "metadata": {},
   "outputs": [
    {
     "data": {
      "text/plain": [
       "[1, 2, 3, 4, 5, 6, 7, 8, 9, 10, 11, 12, 13, 14, 15, 16, 17, 18, 19, 20]"
      ]
     },
     "execution_count": 361,
     "metadata": {},
     "output_type": "execute_result"
    }
   ],
   "source": [
    "lista"
   ]
  },
  {
   "cell_type": "code",
   "execution_count": 371,
   "id": "c0234442-ac1e-4a97-bac7-8f47eebecb01",
   "metadata": {},
   "outputs": [
    {
     "data": {
      "text/plain": [
       "[2,\n",
       " 4,\n",
       " 6,\n",
       " 8,\n",
       " 10,\n",
       " 12,\n",
       " 14,\n",
       " 16,\n",
       " 18,\n",
       " 20,\n",
       " 22,\n",
       " 24,\n",
       " 26,\n",
       " 28,\n",
       " 30,\n",
       " 32,\n",
       " 34,\n",
       " 36,\n",
       " 38,\n",
       " 40,\n",
       " 42,\n",
       " 44,\n",
       " 46,\n",
       " 48,\n",
       " 50]"
      ]
     },
     "execution_count": 371,
     "metadata": {},
     "output_type": "execute_result"
    }
   ],
   "source": [
    "pares = []\n",
    "for i in range(1,51):\n",
    "    if i%2 == 0:\n",
    "        pares.append(i)\n",
    "pares"
   ]
  },
  {
   "cell_type": "code",
   "execution_count": 375,
   "id": "4e9a7bc7-3055-4daa-9364-28e256b20fa5",
   "metadata": {},
   "outputs": [
    {
     "data": {
      "text/plain": [
       "[2,\n",
       " 4,\n",
       " 6,\n",
       " 8,\n",
       " 10,\n",
       " 12,\n",
       " 14,\n",
       " 16,\n",
       " 18,\n",
       " 20,\n",
       " 22,\n",
       " 24,\n",
       " 26,\n",
       " 28,\n",
       " 30,\n",
       " 32,\n",
       " 34,\n",
       " 36,\n",
       " 38,\n",
       " 40,\n",
       " 42,\n",
       " 44,\n",
       " 46,\n",
       " 48,\n",
       " 50]"
      ]
     },
     "execution_count": 375,
     "metadata": {},
     "output_type": "execute_result"
    }
   ],
   "source": [
    "pares2 = [num for num in range (1,51) if num % 2 == 0]\n",
    "pares2"
   ]
  },
  {
   "cell_type": "code",
   "execution_count": 377,
   "id": "86f9cf31-582f-4c43-874b-d417fb3540c7",
   "metadata": {},
   "outputs": [],
   "source": [
    "letras = [l.upper() for l in \"palavra\"]"
   ]
  },
  {
   "cell_type": "code",
   "execution_count": 379,
   "id": "fa9e0af1-7356-4def-b1c9-619e76c45301",
   "metadata": {},
   "outputs": [
    {
     "data": {
      "text/plain": [
       "['P', 'A', 'L', 'A', 'V', 'R', 'A']"
      ]
     },
     "execution_count": 379,
     "metadata": {},
     "output_type": "execute_result"
    }
   ],
   "source": [
    "letras"
   ]
  },
  {
   "cell_type": "code",
   "execution_count": null,
   "id": "9bf83071-23dd-4305-83c9-8ff7a247735c",
   "metadata": {},
   "outputs": [],
   "source": []
  }
 ],
 "metadata": {
  "kernelspec": {
   "display_name": "Python [conda env:base] *",
   "language": "python",
   "name": "conda-base-py"
  },
  "language_info": {
   "codemirror_mode": {
    "name": "ipython",
    "version": 3
   },
   "file_extension": ".py",
   "mimetype": "text/x-python",
   "name": "python",
   "nbconvert_exporter": "python",
   "pygments_lexer": "ipython3",
   "version": "3.12.7"
  }
 },
 "nbformat": 4,
 "nbformat_minor": 5
}
