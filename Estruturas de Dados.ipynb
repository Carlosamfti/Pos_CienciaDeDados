{
 "cells": [
  {
   "cell_type": "code",
   "execution_count": null,
   "id": "1788ea7c-4ab4-40f3-b6ff-91f41c7666eb",
   "metadata": {},
   "outputs": [],
   "source": []
  },
  {
   "cell_type": "code",
   "execution_count": 2,
   "id": "ae18c0ba-bd04-43c5-b127-934caf3288c6",
   "metadata": {},
   "outputs": [],
   "source": [
    "\"\"\"\n",
    "Métodos -  Listas\n",
    " \n",
    "append: Adiciona um elemento no final da lista                                                              lista.append(5)\n",
    "clear: Apaga todos os elementos de uma lista                                                                lista.clear()\n",
    "copy: Retorna uma cópia dos elementos da lista                                                              copia = lista.copy()\n",
    "count: Retorna a quantidade de ocorrências de um elemento na lista                                          qt = lista.count(5)\n",
    "extend: Adiciona os elementos de outra lista passada como parâmetro                                         lista.extend(outra-lista)\n",
    "index: Retorna o índice do elemento passado por parâmetro (caso ele se repita, fornece a primeira posição)  posição = lista.index(5)\n",
    "insert: Adiciona um elemento na posição passada por parâmetro (insere ao final caso a posição não exista)   lista.insert(3, \"João\")\n",
    "pop: Remove o elemento na posição passada por parâmetro (provoca erro caso a posição não exista)            elemento = lista.pop(0)\n",
    "remove: Remove o elemento passado por parâmetro (provoca erro caso o elemento não exista)                   elemento = lista.remove(\"João\")\n",
    "reverse: Inverte a ordem dos elementos de uma lista                                                         lista.reverse()\n",
    "sort: Ordena os objetos de uma lista                                                                        lista.sort()\n",
    "\n",
    "Funções\n",
    "\n",
    "len: Retorna a quantidade de elementos de uma lista                                                         len(lista)\n",
    "max: Retorna o maior elemento de uma lista                                                                  max(lista)\n",
    "min: Retorna o menor elementos de uma lista                                                                 min(lista)\n",
    "sum: Retorna o somatório dos elementos de uma lista                                                         sum(lista)\n",
    "type: Retorna o tipo de dados da estrutura criada                                                           type(lista)\n",
    "\n",
    "\n",
    "Forma de Criação de Listas, Tuplas e Dicionários\n",
    "lista  = []\n",
    "tupla = ()\n",
    "dicionário = {}\n",
    "\n",
    "Ou\n",
    "\n",
    "lista = list()\n",
    "tupla = tuple()\n",
    "dicionario = dict()\n",
    "\n"
   ]
  },
  {
   "cell_type": "code",
   "execution_count": null,
   "id": "fbfb860d-f363-4686-821e-69f808abcfa9",
   "metadata": {},
   "outputs": [],
   "source": [
    "#MANIPULANDO LISTAS E TUPLAS"
   ]
  },
  {
   "cell_type": "code",
   "execution_count": 12,
   "id": "a0992f28-55b3-457c-bf1e-04c209a09543",
   "metadata": {},
   "outputs": [],
   "source": [
    "lista = list()"
   ]
  },
  {
   "cell_type": "code",
   "execution_count": 13,
   "id": "a8a4c722-86fd-4683-86d1-c741c0a07e6d",
   "metadata": {},
   "outputs": [
    {
     "data": {
      "text/plain": [
       "[]"
      ]
     },
     "execution_count": 13,
     "metadata": {},
     "output_type": "execute_result"
    }
   ],
   "source": [
    "lista"
   ]
  },
  {
   "cell_type": "code",
   "execution_count": 20,
   "id": "dcea2894-d730-438f-9b2b-eb20071db645",
   "metadata": {},
   "outputs": [
    {
     "data": {
      "text/plain": [
       "list"
      ]
     },
     "execution_count": 20,
     "metadata": {},
     "output_type": "execute_result"
    }
   ],
   "source": [
    "type(lista)"
   ]
  },
  {
   "cell_type": "code",
   "execution_count": 14,
   "id": "3e2f194b-66a6-42bc-88df-e5f75e4b93b5",
   "metadata": {},
   "outputs": [],
   "source": [
    "lista = [1,2,3,4,5,6,0]"
   ]
  },
  {
   "cell_type": "code",
   "execution_count": 191,
   "id": "df004fb2-0308-419c-9914-f65d6789cef3",
   "metadata": {
    "scrolled": true
   },
   "outputs": [
    {
     "data": {
      "text/plain": [
       "[1, 2, 3, 4, 5, 6, 0]"
      ]
     },
     "execution_count": 191,
     "metadata": {},
     "output_type": "execute_result"
    }
   ],
   "source": [
    "lista"
   ]
  },
  {
   "cell_type": "code",
   "execution_count": 193,
   "id": "dcb4056d-ab49-4c07-8460-b2fb9d7e94dd",
   "metadata": {},
   "outputs": [],
   "source": [
    "lista.append(5) #Acrescido o elemento 5 no final da lista"
   ]
  },
  {
   "cell_type": "code",
   "execution_count": 195,
   "id": "9e8dffd3-1a62-4c8f-934b-4cde99af6d7f",
   "metadata": {},
   "outputs": [
    {
     "data": {
      "text/plain": [
       "[1, 2, 3, 4, 5, 6, 0, 5]"
      ]
     },
     "execution_count": 195,
     "metadata": {},
     "output_type": "execute_result"
    }
   ],
   "source": [
    "lista"
   ]
  },
  {
   "cell_type": "code",
   "execution_count": 199,
   "id": "e07e2a3e-4626-4c62-b759-06a3d2339ca6",
   "metadata": {},
   "outputs": [],
   "source": [
    "lista.append([5,5,5]) #Acrescido o elemento [5,5,5] no final da lista"
   ]
  },
  {
   "cell_type": "code",
   "execution_count": 203,
   "id": "07688cdc-56ef-4466-b176-e76249452d48",
   "metadata": {},
   "outputs": [
    {
     "data": {
      "text/plain": [
       "[1, 2, 3, 4, 5, 6, 0, 5, [5, 5, 5]]"
      ]
     },
     "execution_count": 203,
     "metadata": {},
     "output_type": "execute_result"
    }
   ],
   "source": [
    "lista"
   ]
  },
  {
   "cell_type": "code",
   "execution_count": 207,
   "id": "e92619fa-d51b-44fe-b5f4-0dac3d475e7f",
   "metadata": {},
   "outputs": [
    {
     "data": {
      "text/plain": [
       "[]"
      ]
     },
     "execution_count": 207,
     "metadata": {},
     "output_type": "execute_result"
    }
   ],
   "source": [
    "lista2"
   ]
  },
  {
   "cell_type": "code",
   "execution_count": 209,
   "id": "32e10675-eddc-46e1-b5c3-dbb4d57cd851",
   "metadata": {},
   "outputs": [],
   "source": [
    "lista2 = lista.copy() #Copiando lista contida na variável lista para a variável lista2"
   ]
  },
  {
   "cell_type": "code",
   "execution_count": 213,
   "id": "e66dea2c-9a51-49ce-b323-dcdc781e0aef",
   "metadata": {},
   "outputs": [
    {
     "data": {
      "text/plain": [
       "[1, 2, 3, 4, 5, 6, 0, 5, [5, 5, 5]]"
      ]
     },
     "execution_count": 213,
     "metadata": {},
     "output_type": "execute_result"
    }
   ],
   "source": [
    "lista2"
   ]
  },
  {
   "cell_type": "code",
   "execution_count": 215,
   "id": "64a3f3f7-a757-4f08-a8d2-4173f0570696",
   "metadata": {},
   "outputs": [],
   "source": [
    "Contador = lista.count([5,5,5]) #Gravando na variável contador quantas vezes o elemento [5,5,5] aparece na lista"
   ]
  },
  {
   "cell_type": "code",
   "execution_count": 217,
   "id": "f40efeac-fc4b-4c66-9a66-af6b27a69396",
   "metadata": {},
   "outputs": [
    {
     "data": {
      "text/plain": [
       "1"
      ]
     },
     "execution_count": 217,
     "metadata": {},
     "output_type": "execute_result"
    }
   ],
   "source": [
    "contador"
   ]
  },
  {
   "cell_type": "code",
   "execution_count": 219,
   "id": "d9ffe5f1-3d90-47a5-b2b6-f1b884234231",
   "metadata": {},
   "outputs": [],
   "source": [
    "lista.extend ([5,5,5]) #Acrescidos os elementos 5,5,5 no final da lista"
   ]
  },
  {
   "cell_type": "code",
   "execution_count": 221,
   "id": "6c8ed3c3-c172-4cb5-bfac-c3cdd35d9062",
   "metadata": {},
   "outputs": [
    {
     "data": {
      "text/plain": [
       "[1, 2, 3, 4, 5, 6, 0, 5, [5, 5, 5], 5, 5, 5]"
      ]
     },
     "execution_count": 221,
     "metadata": {},
     "output_type": "execute_result"
    }
   ],
   "source": [
    "lista"
   ]
  },
  {
   "cell_type": "code",
   "execution_count": 227,
   "id": "7374d248-7978-4d10-8da5-686c793f0059",
   "metadata": {},
   "outputs": [],
   "source": [
    "posicao = lista.index(5) #Gravando na variável posicao a primeira vez que o numero 5 aparece na lista"
   ]
  },
  {
   "cell_type": "code",
   "execution_count": 229,
   "id": "29ba3332-4854-4e7a-ac77-233783a1c4ad",
   "metadata": {},
   "outputs": [
    {
     "data": {
      "text/plain": [
       "4"
      ]
     },
     "execution_count": 229,
     "metadata": {},
     "output_type": "execute_result"
    }
   ],
   "source": [
    "posicao"
   ]
  },
  {
   "cell_type": "code",
   "execution_count": 231,
   "id": "8334c73c-e433-410f-9490-3f6dc05fe001",
   "metadata": {},
   "outputs": [],
   "source": [
    "lista.insert(0,[5,5,5]) #Acrescidos o elemento [5,5,5] no posicao indicada 0"
   ]
  },
  {
   "cell_type": "code",
   "execution_count": 235,
   "id": "42182fd3-d806-4e58-be08-fe25b1e7e082",
   "metadata": {},
   "outputs": [
    {
     "data": {
      "text/plain": [
       "[[5, 5, 5], 1, 2, 3, 4, 5, 6, 0, 5, [5, 5, 5], 5, 5, 5]"
      ]
     },
     "execution_count": 235,
     "metadata": {},
     "output_type": "execute_result"
    }
   ],
   "source": [
    "lista"
   ]
  },
  {
   "cell_type": "code",
   "execution_count": 237,
   "id": "7344304d-2651-489b-94b6-9141361b6c4c",
   "metadata": {},
   "outputs": [
    {
     "data": {
      "text/plain": [
       "[5, 5, 5]"
      ]
     },
     "execution_count": 237,
     "metadata": {},
     "output_type": "execute_result"
    }
   ],
   "source": [
    "lista.pop(0) #Remove o elemento na posição passada"
   ]
  },
  {
   "cell_type": "code",
   "execution_count": 239,
   "id": "1510b8d7-7836-48f6-96fc-7a6a750bd730",
   "metadata": {},
   "outputs": [
    {
     "data": {
      "text/plain": [
       "[1, 2, 3, 4, 5, 6, 0, 5, [5, 5, 5], 5, 5, 5]"
      ]
     },
     "execution_count": 239,
     "metadata": {},
     "output_type": "execute_result"
    }
   ],
   "source": [
    "lista"
   ]
  },
  {
   "cell_type": "code",
   "execution_count": 241,
   "id": "3a81b2f1-6372-468a-88db-b5718879fceb",
   "metadata": {},
   "outputs": [],
   "source": [
    "lista.remove(5) #Remove o elemento passado por parâmtro. Neste caso, como o 5 se repete a remoção ocorre no primeiro deles"
   ]
  },
  {
   "cell_type": "code",
   "execution_count": 243,
   "id": "d0ea1ada-3c32-4c15-8e68-f30540c35374",
   "metadata": {},
   "outputs": [
    {
     "data": {
      "text/plain": [
       "[1, 2, 3, 4, 6, 0, 5, [5, 5, 5], 5, 5, 5]"
      ]
     },
     "execution_count": 243,
     "metadata": {},
     "output_type": "execute_result"
    }
   ],
   "source": [
    "lista"
   ]
  },
  {
   "cell_type": "code",
   "execution_count": 245,
   "id": "2c8180b8-2882-4549-a191-47c3e6d02105",
   "metadata": {},
   "outputs": [],
   "source": [
    "lista.clear() # Limpa a lista"
   ]
  },
  {
   "cell_type": "code",
   "execution_count": 247,
   "id": "7a579622-d7c7-41b7-81cb-457ff86dfb2e",
   "metadata": {},
   "outputs": [],
   "source": [
    "lista = [1,2,3,4,5,6,0]"
   ]
  },
  {
   "cell_type": "code",
   "execution_count": 249,
   "id": "2fcb5a8a-8d4b-4706-b6ce-8ae6824566e7",
   "metadata": {},
   "outputs": [
    {
     "data": {
      "text/plain": [
       "[1, 2, 3, 4, 5, 6, 0]"
      ]
     },
     "execution_count": 249,
     "metadata": {},
     "output_type": "execute_result"
    }
   ],
   "source": [
    "lista"
   ]
  },
  {
   "cell_type": "code",
   "execution_count": 251,
   "id": "975ac491-4530-4214-b36e-c93b52ec46a5",
   "metadata": {},
   "outputs": [],
   "source": [
    "lista.reverse() #listagem decrescente"
   ]
  },
  {
   "cell_type": "code",
   "execution_count": 255,
   "id": "d8e020b2-2c57-4aa0-ba3c-e129140bc585",
   "metadata": {},
   "outputs": [
    {
     "data": {
      "text/plain": [
       "[0, 6, 5, 4, 3, 2, 1]"
      ]
     },
     "execution_count": 255,
     "metadata": {},
     "output_type": "execute_result"
    }
   ],
   "source": [
    "lista"
   ]
  },
  {
   "cell_type": "code",
   "execution_count": 257,
   "id": "f54d886a-7ba4-44ea-8048-914ce54600fb",
   "metadata": {},
   "outputs": [],
   "source": [
    "lista.sort() #listagem crescente"
   ]
  },
  {
   "cell_type": "code",
   "execution_count": 261,
   "id": "56fee0eb-f6cf-490f-b99f-b832e198de37",
   "metadata": {},
   "outputs": [
    {
     "data": {
      "text/plain": [
       "[0, 1, 2, 3, 4, 5, 6]"
      ]
     },
     "execution_count": 261,
     "metadata": {},
     "output_type": "execute_result"
    }
   ],
   "source": [
    "lista"
   ]
  },
  {
   "cell_type": "code",
   "execution_count": 263,
   "id": "8c27ad24-aa98-4406-a94a-3ad6d10dbeb9",
   "metadata": {},
   "outputs": [
    {
     "data": {
      "text/plain": [
       "7"
      ]
     },
     "execution_count": 263,
     "metadata": {},
     "output_type": "execute_result"
    }
   ],
   "source": [
    "len(lista) #Tamnanho da lista"
   ]
  },
  {
   "cell_type": "code",
   "execution_count": 265,
   "id": "908a40df-0322-4987-842f-42bae66d85de",
   "metadata": {},
   "outputs": [
    {
     "data": {
      "text/plain": [
       "6"
      ]
     },
     "execution_count": 265,
     "metadata": {},
     "output_type": "execute_result"
    }
   ],
   "source": [
    "max(lista) #Maior elemento da lista"
   ]
  },
  {
   "cell_type": "code",
   "execution_count": 267,
   "id": "69117681-c23f-4a40-a392-fe79cef97430",
   "metadata": {},
   "outputs": [
    {
     "data": {
      "text/plain": [
       "0"
      ]
     },
     "execution_count": 267,
     "metadata": {},
     "output_type": "execute_result"
    }
   ],
   "source": [
    "min(lista)# Menor elemento da lista"
   ]
  },
  {
   "cell_type": "code",
   "execution_count": 269,
   "id": "75818c9c-5a54-4c03-b240-ab2b46a39c21",
   "metadata": {},
   "outputs": [
    {
     "data": {
      "text/plain": [
       "21"
      ]
     },
     "execution_count": 269,
     "metadata": {},
     "output_type": "execute_result"
    }
   ],
   "source": [
    "sum(lista) # Soma dos elementos da lista"
   ]
  },
  {
   "cell_type": "code",
   "execution_count": 16,
   "id": "7fc9703e-5135-4658-9c6d-863e75df3795",
   "metadata": {},
   "outputs": [
    {
     "data": {
      "text/plain": [
       "[1, 2, 3, 4, 5, 6, 0]"
      ]
     },
     "execution_count": 16,
     "metadata": {},
     "output_type": "execute_result"
    }
   ],
   "source": [
    "lista"
   ]
  },
  {
   "cell_type": "code",
   "execution_count": 18,
   "id": "005970aa-e8fd-4249-bb54-301ac2cbea16",
   "metadata": {},
   "outputs": [],
   "source": [
    "lista[0] = bool(lista[0]) #conversao do primeiro item da lista para bool e gravando na primeira posição. Qualquer diferente de 0 é True"
   ]
  },
  {
   "cell_type": "code",
   "execution_count": 20,
   "id": "46560801-dfdd-48b2-aa0c-5ee11e0b3044",
   "metadata": {},
   "outputs": [
    {
     "data": {
      "text/plain": [
       "[True, 2, 3, 4, 5, 6, 0]"
      ]
     },
     "execution_count": 20,
     "metadata": {},
     "output_type": "execute_result"
    }
   ],
   "source": [
    "lista"
   ]
  },
  {
   "cell_type": "code",
   "execution_count": 26,
   "id": "f8deb8b1-324e-4564-a7b0-f374a3a3171f",
   "metadata": {},
   "outputs": [],
   "source": [
    "tupla = (1,2,3,4,5,6)"
   ]
  },
  {
   "cell_type": "code",
   "execution_count": 28,
   "id": "988ecfdb-40f7-4664-a21b-b038af6a5894",
   "metadata": {},
   "outputs": [
    {
     "data": {
      "text/plain": [
       "(1, 2, 3, 4, 5, 6)"
      ]
     },
     "execution_count": 28,
     "metadata": {},
     "output_type": "execute_result"
    }
   ],
   "source": [
    "tupla"
   ]
  },
  {
   "cell_type": "code",
   "execution_count": 30,
   "id": "c6447f71-4974-489c-8455-66c2061c8608",
   "metadata": {},
   "outputs": [
    {
     "ename": "AttributeError",
     "evalue": "'tuple' object has no attribute 'append'",
     "output_type": "error",
     "traceback": [
      "\u001b[1;31m---------------------------------------------------------------------------\u001b[0m",
      "\u001b[1;31mAttributeError\u001b[0m                            Traceback (most recent call last)",
      "Cell \u001b[1;32mIn[30], line 1\u001b[0m\n\u001b[1;32m----> 1\u001b[0m tupla\u001b[38;5;241m.\u001b[39mappend([\u001b[38;5;241m5\u001b[39m,\u001b[38;5;241m5\u001b[39m,\u001b[38;5;241m5\u001b[39m])\n",
      "\u001b[1;31mAttributeError\u001b[0m: 'tuple' object has no attribute 'append'"
     ]
    }
   ],
   "source": [
    "tupla.append([5,5,5]) #NÃO É POSSÍVEL ALTERAR OS ELEMENTOS DA TUPLA. PORTANTO, A INCLUSÃO DO ELEMENTO [5,5,5] FOI VETADA"
   ]
  },
  {
   "cell_type": "code",
   "execution_count": 32,
   "id": "e4b16513-3687-4868-ad58-685d88b2bc4a",
   "metadata": {},
   "outputs": [
    {
     "ename": "AttributeError",
     "evalue": "'tuple' object has no attribute 'pop'",
     "output_type": "error",
     "traceback": [
      "\u001b[1;31m---------------------------------------------------------------------------\u001b[0m",
      "\u001b[1;31mAttributeError\u001b[0m                            Traceback (most recent call last)",
      "Cell \u001b[1;32mIn[32], line 1\u001b[0m\n\u001b[1;32m----> 1\u001b[0m tupla\u001b[38;5;241m.\u001b[39mpop(\u001b[38;5;241m2\u001b[39m)\n",
      "\u001b[1;31mAttributeError\u001b[0m: 'tuple' object has no attribute 'pop'"
     ]
    }
   ],
   "source": [
    "tupla.pop(2) #DA MESMA FORMA, NÃO É POSSÍVEL EXCLUIR O ELEMENTO USANDO POP"
   ]
  },
  {
   "cell_type": "code",
   "execution_count": 34,
   "id": "8853b6a1-c246-427b-ae67-6ee8cb67934e",
   "metadata": {},
   "outputs": [
    {
     "ename": "AttributeError",
     "evalue": "'tuple' object has no attribute 'remove'",
     "output_type": "error",
     "traceback": [
      "\u001b[1;31m---------------------------------------------------------------------------\u001b[0m",
      "\u001b[1;31mAttributeError\u001b[0m                            Traceback (most recent call last)",
      "Cell \u001b[1;32mIn[34], line 1\u001b[0m\n\u001b[1;32m----> 1\u001b[0m tupla\u001b[38;5;241m.\u001b[39mremove(\u001b[38;5;241m2\u001b[39m)\n",
      "\u001b[1;31mAttributeError\u001b[0m: 'tuple' object has no attribute 'remove'"
     ]
    }
   ],
   "source": [
    "tupla.remove(2)"
   ]
  },
  {
   "cell_type": "code",
   "execution_count": 36,
   "id": "a1714e64-020e-4a99-a1c6-29e04b8179fe",
   "metadata": {},
   "outputs": [
    {
     "data": {
      "text/plain": [
       "tuple"
      ]
     },
     "execution_count": 36,
     "metadata": {},
     "output_type": "execute_result"
    }
   ],
   "source": [
    "type(tupla)"
   ]
  },
  {
   "cell_type": "code",
   "execution_count": 44,
   "id": "4d7107c0-2f6b-41bd-8ec5-efae48869118",
   "metadata": {},
   "outputs": [],
   "source": [
    "tupla2 = tuple(tupla2) # COMO IDENTIFIQUEI QUE A TUPLA2 FOI USADA COMO TIPO LISTA, REALIZEI A CONVERSÃO"
   ]
  },
  {
   "cell_type": "code",
   "execution_count": 46,
   "id": "7a787166-79bc-4fd7-bebe-d4c896238395",
   "metadata": {},
   "outputs": [
    {
     "data": {
      "text/plain": [
       "tuple"
      ]
     },
     "execution_count": 46,
     "metadata": {},
     "output_type": "execute_result"
    }
   ],
   "source": [
    "type(tupla2)"
   ]
  },
  {
   "cell_type": "code",
   "execution_count": 48,
   "id": "fc032b69-fe30-4e1c-bde9-d1ce2280797f",
   "metadata": {},
   "outputs": [],
   "source": [
    "tupla2 = [1, 2, 3, 4, 5, 6, 0, 5, [5, 5, 5]]"
   ]
  },
  {
   "cell_type": "code",
   "execution_count": 50,
   "id": "0e24b2cd-3041-43d3-9abd-f7cca1f82716",
   "metadata": {},
   "outputs": [
    {
     "data": {
      "text/plain": [
       "[1, 2, 3, 4, 5, 6, 0, 5, [5, 5, 5]]"
      ]
     },
     "execution_count": 50,
     "metadata": {},
     "output_type": "execute_result"
    }
   ],
   "source": [
    "tupla2"
   ]
  },
  {
   "cell_type": "code",
   "execution_count": 68,
   "id": "22df4c25-fa69-4af4-9c41-a421b8856add",
   "metadata": {},
   "outputs": [],
   "source": [
    "tupla2[8].insert(2,6) #COMO A TUPLA2 CONTÉM UMA LISTA É POSSÍVEL ALTERAR A LISTA SEM INFRINGIR A IMUTABILIDADE DA TUPLA"
   ]
  },
  {
   "cell_type": "code",
   "execution_count": 70,
   "id": "90460573-72fd-4d26-b6cb-d1905fcbf049",
   "metadata": {},
   "outputs": [
    {
     "data": {
      "text/plain": [
       "[1, 2, 3, 4, 5, 6, 0, 5, [5, 5, 6, 6, 4, 4, 4, 5]]"
      ]
     },
     "execution_count": 70,
     "metadata": {},
     "output_type": "execute_result"
    }
   ],
   "source": [
    "tupla2"
   ]
  },
  {
   "cell_type": "code",
   "execution_count": null,
   "id": "4aeec0b8-4f0a-4e6c-8b1a-cc90f8e21124",
   "metadata": {},
   "outputs": [],
   "source": [
    "#MANIPUALAÇÃO DICIONÁRIOS"
   ]
  },
  {
   "cell_type": "code",
   "execution_count": 72,
   "id": "0753a47b-8dd8-452f-995e-1649eaa539c4",
   "metadata": {},
   "outputs": [],
   "source": [
    "dic_alunos = {}"
   ]
  },
  {
   "cell_type": "code",
   "execution_count": 74,
   "id": "556af47c-609b-4790-9447-00cfe9b77f50",
   "metadata": {},
   "outputs": [
    {
     "data": {
      "text/plain": [
       "{}"
      ]
     },
     "execution_count": 74,
     "metadata": {},
     "output_type": "execute_result"
    }
   ],
   "source": [
    "dic_alunos"
   ]
  },
  {
   "cell_type": "code",
   "execution_count": 76,
   "id": "eca9973a-7d07-4120-bd3c-8ca96bd37e3c",
   "metadata": {},
   "outputs": [
    {
     "data": {
      "text/plain": [
       "dict"
      ]
     },
     "execution_count": 76,
     "metadata": {},
     "output_type": "execute_result"
    }
   ],
   "source": [
    "type(dic_alunos)"
   ]
  },
  {
   "cell_type": "code",
   "execution_count": 78,
   "id": "66dc94c7-3e34-4b0e-b4b9-82fde554d489",
   "metadata": {},
   "outputs": [],
   "source": [
    "dic_alunos = {1: \"Rafael\", 2: \"Lucas\", 3: \"Domenico\", 4: \"Raquel\"}"
   ]
  },
  {
   "cell_type": "code",
   "execution_count": 80,
   "id": "05a31b30-08b0-48d0-9ad7-8686aedf1a7a",
   "metadata": {},
   "outputs": [
    {
     "data": {
      "text/plain": [
       "{1: 'Rafael', 2: 'Lucas', 3: 'Domenico', 4: 'Raquel'}"
      ]
     },
     "execution_count": 80,
     "metadata": {},
     "output_type": "execute_result"
    }
   ],
   "source": [
    "dic_alunos"
   ]
  },
  {
   "cell_type": "code",
   "execution_count": 82,
   "id": "a30d92b7-051b-43ca-9f9f-74583a49ecaa",
   "metadata": {},
   "outputs": [
    {
     "data": {
      "text/plain": [
       "True"
      ]
     },
     "execution_count": 82,
     "metadata": {},
     "output_type": "execute_result"
    }
   ],
   "source": [
    "isinstance(dic_alunos, dict)"
   ]
  },
  {
   "cell_type": "code",
   "execution_count": 84,
   "id": "0088e35c-30ba-4a0d-a21c-724b65072d8f",
   "metadata": {},
   "outputs": [],
   "source": [
    "dic_alunos[1] = \"Bernardo\""
   ]
  },
  {
   "cell_type": "code",
   "execution_count": 86,
   "id": "edf0550d-730c-49c7-9ac9-a9e738e98964",
   "metadata": {},
   "outputs": [
    {
     "data": {
      "text/plain": [
       "{1: 'Bernardo', 2: 'Lucas', 3: 'Domenico', 4: 'Raquel'}"
      ]
     },
     "execution_count": 86,
     "metadata": {},
     "output_type": "execute_result"
    }
   ],
   "source": [
    "dic_alunos\n"
   ]
  },
  {
   "cell_type": "code",
   "execution_count": 369,
   "id": "56763690-e7d6-4aca-ac67-4d37cd7e04d6",
   "metadata": {},
   "outputs": [],
   "source": [
    "dic_alunos2 = {}"
   ]
  },
  {
   "cell_type": "code",
   "execution_count": 88,
   "id": "9d0c770f-16ae-4731-ae70-130b992cc41d",
   "metadata": {},
   "outputs": [],
   "source": [
    "dic_alunos2 = {\"Bernardo\":{\"nota 1\": 10,\"nota 2\": 20,\"nota 3\": 30}, # NESTE MODELO AS CHAVES SÃO BERNARDO, HELENA E JULIANA. ENTRETANTO, \n",
    "               \"Helena\": {\"nota 1\": 30,\"nota 2\": 40,\"nota 3\": 10},  # CRIAMOS OUTROS DICIONÁRIO E PARA CADA CHAVE (NOTA), TEMOS UM VALOR  PAR CHAVE VALOR\n",
    "               \"Juliana\": {\"nota 1\": 10,\"nota 2\": 20,\"nota 3\": 30}}\n",
    "\n"
   ]
  },
  {
   "cell_type": "code",
   "execution_count": 90,
   "id": "b9731060-74e5-4144-9411-fedfcd7472e9",
   "metadata": {},
   "outputs": [
    {
     "data": {
      "text/plain": [
       "{'Bernardo': {'nota 1': 10, 'nota 2': 20, 'nota 3': 30},\n",
       " 'Helena': {'nota 1': 30, 'nota 2': 40, 'nota 3': 10},\n",
       " 'Juliana': {'nota 1': 10, 'nota 2': 20, 'nota 3': 30}}"
      ]
     },
     "execution_count": 90,
     "metadata": {},
     "output_type": "execute_result"
    }
   ],
   "source": [
    "dic_alunos2"
   ]
  },
  {
   "cell_type": "code",
   "execution_count": 114,
   "id": "6cd9b8f7-d9ce-4901-ac8f-52823fe962b6",
   "metadata": {},
   "outputs": [
    {
     "data": {
      "text/plain": [
       "40"
      ]
     },
     "execution_count": 114,
     "metadata": {},
     "output_type": "execute_result"
    }
   ],
   "source": [
    "dic_alunos2[\"Bernardo\"][\"nota 1\"] = 50\n",
    "dic_alunos2[\"Bernardo\"].pop(\"nota1\") #REMOÇÃO DE ITEM COM INFORMAÇÃO DO PAR CHAVE VALOR"
   ]
  },
  {
   "cell_type": "code",
   "execution_count": 116,
   "id": "d0cffc0a-f9ea-41c3-8228-2721d4ba12dd",
   "metadata": {},
   "outputs": [
    {
     "data": {
      "text/plain": [
       "{'Bernardo': {'nota 1': 50, 'nota 2': 20, 'nota 3': 30},\n",
       " 'Helena': {'nota 1': 30, 'nota 2': 40, 'nota 3': 10},\n",
       " 'Juliana': {'nota 1': 10, 'nota 2': 20, 'nota 3': 30}}"
      ]
     },
     "execution_count": 116,
     "metadata": {},
     "output_type": "execute_result"
    }
   ],
   "source": [
    "dic_alunos2"
   ]
  },
  {
   "cell_type": "code",
   "execution_count": 118,
   "id": "06c72a6e-152a-4bb2-8ee2-66662f07f079",
   "metadata": {},
   "outputs": [
    {
     "data": {
      "text/plain": [
       "{'nota 1': 50, 'nota 2': 20, 'nota 3': 30}"
      ]
     },
     "execution_count": 118,
     "metadata": {},
     "output_type": "execute_result"
    }
   ],
   "source": [
    "dic_alunos2.setdefault(\"Bernardo\") # setdefault verifiCA a chave passada por porâmetro"
   ]
  },
  {
   "cell_type": "code",
   "execution_count": 120,
   "id": "8c79e9f3-f325-4c42-adc4-e784f77097c5",
   "metadata": {},
   "outputs": [
    {
     "data": {
      "text/plain": [
       "50"
      ]
     },
     "execution_count": 120,
     "metadata": {},
     "output_type": "execute_result"
    }
   ],
   "source": [
    "dic_alunos2[\"Bernardo\"].setdefault(\"nota4\",50) #Após identificar a chave, criei novo par chave valor atribuindo 50"
   ]
  },
  {
   "cell_type": "code",
   "execution_count": 124,
   "id": "d62dd9fa-5e1c-4c62-9470-59c811473ad2",
   "metadata": {},
   "outputs": [
    {
     "data": {
      "text/plain": [
       "{'Bernardo': {'nota 1': 50, 'nota 2': 20, 'nota 3': 30, 'nota4': 50},\n",
       " 'Helena': {'nota 1': 30, 'nota 2': 40, 'nota 3': 10},\n",
       " 'Juliana': {'nota 1': 10, 'nota 2': 20, 'nota 3': 30}}"
      ]
     },
     "execution_count": 124,
     "metadata": {},
     "output_type": "execute_result"
    }
   ],
   "source": [
    "dic_alunos2"
   ]
  },
  {
   "cell_type": "code",
   "execution_count": 126,
   "id": "0c0b2f42-04d0-4e65-9c57-d144f0880846",
   "metadata": {},
   "outputs": [
    {
     "data": {
      "text/plain": [
       "{'nota 1': 50, 'nota 2': 20, 'nota 3': 30, 'nota4': 50}"
      ]
     },
     "execution_count": 126,
     "metadata": {},
     "output_type": "execute_result"
    }
   ],
   "source": [
    "dic_alunos2[\"Bernardo\"]"
   ]
  },
  {
   "cell_type": "code",
   "execution_count": 130,
   "id": "e434877e-00da-4a2a-bfc8-0358aa68f752",
   "metadata": {},
   "outputs": [],
   "source": [
    "dic_alunos3 = {\"Bernardo\":[40,50,60],\"Valeria\":[23,45,67],\"Henrique\":[45,23,10]}"
   ]
  },
  {
   "cell_type": "code",
   "execution_count": 132,
   "id": "31bbc1f7-b700-4fb4-8552-eb695c3c3a5b",
   "metadata": {},
   "outputs": [
    {
     "data": {
      "text/plain": [
       "{'Bernardo': [40, 50, 60], 'Valeria': [23, 45, 67], 'Henrique': [45, 23, 10]}"
      ]
     },
     "execution_count": 132,
     "metadata": {},
     "output_type": "execute_result"
    }
   ],
   "source": [
    "dic_alunos3"
   ]
  },
  {
   "cell_type": "code",
   "execution_count": 134,
   "id": "b1375d91-424e-4d93-aa71-e6bdf2b364b3",
   "metadata": {},
   "outputs": [],
   "source": [
    "dic_alunos3[\"Bernardo\"][1] = 30 #COMO TEMOS PARES CHAVE VALOR COM LISTA, USAMOS INDICE PARA PERCORRER A LISTA E ALTERAR"
   ]
  },
  {
   "cell_type": "code",
   "execution_count": 136,
   "id": "f25b2a76-cbde-4583-9134-148fadd4fe11",
   "metadata": {},
   "outputs": [
    {
     "data": {
      "text/plain": [
       "{'Bernardo': [40, 30, 60], 'Valeria': [23, 45, 67], 'Henrique': [45, 23, 10]}"
      ]
     },
     "execution_count": 136,
     "metadata": {},
     "output_type": "execute_result"
    }
   ],
   "source": [
    "dic_alunos3"
   ]
  },
  {
   "cell_type": "code",
   "execution_count": 406,
   "id": "426c68ec-5150-4e51-9bee-37c7531ad790",
   "metadata": {},
   "outputs": [
    {
     "data": {
      "text/plain": [
       "{'Bernardo': {'nota 1': 10, 'nota 2': 20, 'nota 3': 30},\n",
       " 'Helena': {'nota 1': 30, 'nota 2': 40, 'nota 3': 10},\n",
       " 'Juliana': {'nota 1': 10, 'nota 2': 20, 'nota 3': 30}}"
      ]
     },
     "execution_count": 406,
     "metadata": {},
     "output_type": "execute_result"
    }
   ],
   "source": [
    "dic_alunos2"
   ]
  },
  {
   "cell_type": "code",
   "execution_count": 182,
   "id": "4f240fd3-3438-4810-bb17-89c608e2cfea",
   "metadata": {},
   "outputs": [
    {
     "name": "stdout",
     "output_type": "stream",
     "text": [
      "O aluno Helena teve o somatório de notas igual a 80\n",
      "O aluno Valeria teve o somatório de notas igual a 135\n"
     ]
    }
   ],
   "source": [
    "aluno = \"Helena\"\n",
    "aluno2 = \"Valeria\"\n",
    "\n",
    "Soma_notas= 0\n",
    "Soma_notas += dic_alunos2[aluno][\"nota 1\"]\n",
    "Soma_notas += dic_alunos2[aluno][\"nota 2\"]\n",
    "Soma_notas += dic_alunos2[aluno][\"nota 3\"]\n",
    "print('O aluno {} teve o somatório de notas igual a {}'.format(aluno,Soma_notas)) \n",
    "\n",
    "Soma_notas2= 0\n",
    "Soma_notas2+= dic_alunos3[aluno2][0]\n",
    "Soma_notas2+= dic_alunos3[aluno2][1]\n",
    "Soma_notas2+= dic_alunos3[aluno2][2]\n",
    "print('O aluno {} teve o somatório de notas igual a {}'.format(aluno2,Soma_notas2)) \n"
   ]
  },
  {
   "cell_type": "code",
   "execution_count": 186,
   "id": "45c4c822-9065-4daa-b931-34da3d2d9f5b",
   "metadata": {},
   "outputs": [],
   "source": [
    "dic_alunos4 = dict.fromkeys([\"Bernardo\", \"Alex\", \"Godofredo\", \"Valeria\"])"
   ]
  },
  {
   "cell_type": "code",
   "execution_count": 188,
   "id": "25f84fb2-e393-4103-894e-58700e9fd912",
   "metadata": {},
   "outputs": [
    {
     "data": {
      "text/plain": [
       "{'Bernardo': None, 'Alex': None, 'Godofredo': None, 'Valeria': None}"
      ]
     },
     "execution_count": 188,
     "metadata": {},
     "output_type": "execute_result"
    }
   ],
   "source": [
    "dic_alunos4"
   ]
  },
  {
   "cell_type": "code",
   "execution_count": 190,
   "id": "8da7bfb3-4c1f-4db3-bc26-c8abbac4d4eb",
   "metadata": {},
   "outputs": [],
   "source": [
    "dic_alunos4[\"Bernardo\"] = 1\n",
    "dic_alunos4[\"Alex\"] = 2\n",
    "dic_alunos4[\"Godofredo\"] = 3\n",
    "dic_alunos4[\"Valeria\"] = 4"
   ]
  },
  {
   "cell_type": "code",
   "execution_count": 192,
   "id": "529467b7-d806-4c32-95d2-f754ec54d009",
   "metadata": {},
   "outputs": [
    {
     "data": {
      "text/plain": [
       "{'Bernardo': 1, 'Alex': 2, 'Godofredo': 3, 'Valeria': 4}"
      ]
     },
     "execution_count": 192,
     "metadata": {},
     "output_type": "execute_result"
    }
   ],
   "source": [
    "dic_alunos4"
   ]
  },
  {
   "cell_type": "code",
   "execution_count": 194,
   "id": "71ded096-138b-4604-875a-38b2a5605b5b",
   "metadata": {},
   "outputs": [
    {
     "data": {
      "text/plain": [
       "4"
      ]
     },
     "execution_count": 194,
     "metadata": {},
     "output_type": "execute_result"
    }
   ],
   "source": [
    "dic_alunos4.get(\"Valeria\")"
   ]
  },
  {
   "cell_type": "code",
   "execution_count": 196,
   "id": "2abc14cb-8ad9-4ee1-b7c0-0ca61870c3a8",
   "metadata": {},
   "outputs": [
    {
     "data": {
      "text/plain": [
       "('Valeria', 4)"
      ]
     },
     "execution_count": 196,
     "metadata": {},
     "output_type": "execute_result"
    }
   ],
   "source": [
    "dic_alunos4.popitem()"
   ]
  },
  {
   "cell_type": "code",
   "execution_count": 198,
   "id": "673a480a-cb96-4612-979f-4f1dc50ea37a",
   "metadata": {},
   "outputs": [
    {
     "data": {
      "text/plain": [
       "{'Bernardo': 1, 'Alex': 2, 'Godofredo': 3}"
      ]
     },
     "execution_count": 198,
     "metadata": {},
     "output_type": "execute_result"
    }
   ],
   "source": [
    "dic_alunos4"
   ]
  },
  {
   "cell_type": "code",
   "execution_count": 200,
   "id": "cde7cc92-3214-42dc-808c-9b91f9281215",
   "metadata": {},
   "outputs": [
    {
     "data": {
      "text/plain": [
       "5"
      ]
     },
     "execution_count": 200,
     "metadata": {},
     "output_type": "execute_result"
    }
   ],
   "source": [
    "dic_alunos4.setdefault(\"Vera\",5)"
   ]
  },
  {
   "cell_type": "code",
   "execution_count": 202,
   "id": "bdec6f34-f12f-4ff3-90b8-52cdea6d8751",
   "metadata": {},
   "outputs": [
    {
     "data": {
      "text/plain": [
       "{'Bernardo': 1, 'Alex': 2, 'Godofredo': 3, 'Vera': 5}"
      ]
     },
     "execution_count": 202,
     "metadata": {},
     "output_type": "execute_result"
    }
   ],
   "source": [
    "dic_alunos4"
   ]
  },
  {
   "cell_type": "code",
   "execution_count": 450,
   "id": "6acd639f-612b-4179-b516-c27ab39e765e",
   "metadata": {},
   "outputs": [
    {
     "ename": "AttributeError",
     "evalue": "'dict' object has no attribute 'remove'",
     "output_type": "error",
     "traceback": [
      "\u001b[1;31m---------------------------------------------------------------------------\u001b[0m",
      "\u001b[1;31mAttributeError\u001b[0m                            Traceback (most recent call last)",
      "Cell \u001b[1;32mIn[450], line 1\u001b[0m\n\u001b[1;32m----> 1\u001b[0m dic_alunos4\u001b[38;5;241m.\u001b[39mremove(\u001b[38;5;241m1\u001b[39m)\n",
      "\u001b[1;31mAttributeError\u001b[0m: 'dict' object has no attribute 'remove'"
     ]
    }
   ],
   "source": [
    "dic_alunos4.remove(1)"
   ]
  },
  {
   "cell_type": "code",
   "execution_count": 204,
   "id": "7545b9db-cd34-47e0-9be1-65fd75165247",
   "metadata": {},
   "outputs": [],
   "source": [
    "dic_alunos5 = {\"Eduardo\":4,\"Henrique\":10} # CRIANDO NOVO DICIONÁRIO PARA ATUALIZAÇÃO DO dic_alunos4"
   ]
  },
  {
   "cell_type": "code",
   "execution_count": 206,
   "id": "a91a19c5-4d69-43aa-a13c-3cae38ae4cb1",
   "metadata": {},
   "outputs": [
    {
     "data": {
      "text/plain": [
       "{'Eduardo': 4, 'Henrique': 10}"
      ]
     },
     "execution_count": 206,
     "metadata": {},
     "output_type": "execute_result"
    }
   ],
   "source": [
    "dic_alunos5"
   ]
  },
  {
   "cell_type": "code",
   "execution_count": 208,
   "id": "cab88f0b-56dd-4af0-8d4f-1286d0a696b1",
   "metadata": {},
   "outputs": [
    {
     "data": {
      "text/plain": [
       "{'Bernardo': 1, 'Alex': 2, 'Godofredo': 3, 'Vera': 5}"
      ]
     },
     "execution_count": 208,
     "metadata": {},
     "output_type": "execute_result"
    }
   ],
   "source": [
    "dic_alunos4"
   ]
  },
  {
   "cell_type": "code",
   "execution_count": 216,
   "id": "e44d7316-bea2-4b84-938d-f9f70338f8d5",
   "metadata": {},
   "outputs": [],
   "source": [
    "dic_alunos4.update(dic_alunos5) #ATUALIZAÇÃO DO dic_alunos4"
   ]
  },
  {
   "cell_type": "code",
   "execution_count": 212,
   "id": "c9cef47b-8038-47b1-a437-7467d090d819",
   "metadata": {},
   "outputs": [
    {
     "data": {
      "text/plain": [
       "{'Bernardo': 1,\n",
       " 'Alex': 2,\n",
       " 'Godofredo': 3,\n",
       " 'Vera': 5,\n",
       " 'Eduardo': 4,\n",
       " 'Henrique': 10}"
      ]
     },
     "execution_count": 212,
     "metadata": {},
     "output_type": "execute_result"
    }
   ],
   "source": [
    "dic_alunos4"
   ]
  },
  {
   "cell_type": "code",
   "execution_count": 271,
   "id": "64904f2f-e0ab-46d3-b10c-eac9f6be26dc",
   "metadata": {},
   "outputs": [],
   "source": [
    "dic_alunos6 = {\"Bernardo Albuquerque\":[40,50,60],\"Bernardo Fernandes\":[40,50,60],\"Henrique\":[45,23,10]}"
   ]
  },
  {
   "cell_type": "code",
   "execution_count": 273,
   "id": "162cecf6-5608-42eb-b3f3-6e4eaf9918f2",
   "metadata": {},
   "outputs": [
    {
     "data": {
      "text/plain": [
       "{'Bernardo Albuquerque': [40, 50, 60],\n",
       " 'Bernardo Fernandes': [40, 50, 60],\n",
       " 'Henrique': [45, 23, 10]}"
      ]
     },
     "execution_count": 273,
     "metadata": {},
     "output_type": "execute_result"
    }
   ],
   "source": [
    "dic_alunos6"
   ]
  },
  {
   "cell_type": "code",
   "execution_count": 267,
   "id": "edae5d56-6425-4d76-8876-e40af2031602",
   "metadata": {},
   "outputs": [],
   "source": [
    "#MANIPULAÇÃO CONJUNTOS"
   ]
  },
  {
   "cell_type": "code",
   "execution_count": 218,
   "id": "26e32ed7-20cb-473f-932d-ccf980780263",
   "metadata": {},
   "outputs": [],
   "source": [
    "conj_vazio = set()\n",
    "conj_vazio2 = {}"
   ]
  },
  {
   "cell_type": "code",
   "execution_count": 220,
   "id": "88ff1dcf-ddde-4fd9-aebc-780f7737eaef",
   "metadata": {},
   "outputs": [
    {
     "data": {
      "text/plain": [
       "dict"
      ]
     },
     "execution_count": 220,
     "metadata": {},
     "output_type": "execute_result"
    }
   ],
   "source": [
    "type(conj_vazio2)"
   ]
  },
  {
   "cell_type": "code",
   "execution_count": 222,
   "id": "efe37916-877a-4b65-9ca4-c578416cd367",
   "metadata": {},
   "outputs": [
    {
     "data": {
      "text/plain": [
       "set"
      ]
     },
     "execution_count": 222,
     "metadata": {},
     "output_type": "execute_result"
    }
   ],
   "source": [
    "type(conj_vazio)"
   ]
  },
  {
   "cell_type": "code",
   "execution_count": 246,
   "id": "a9f19b55-de15-48af-998c-01853927e083",
   "metadata": {},
   "outputs": [],
   "source": [
    "conj1 = {1,2,3,4,5}"
   ]
  },
  {
   "cell_type": "code",
   "execution_count": 275,
   "id": "3d0d7345-bc9f-485b-908d-f1ddf9278b94",
   "metadata": {},
   "outputs": [
    {
     "data": {
      "text/plain": [
       "{1, 2, 3, 4, 5}"
      ]
     },
     "execution_count": 275,
     "metadata": {},
     "output_type": "execute_result"
    }
   ],
   "source": [
    "conj1"
   ]
  },
  {
   "cell_type": "code",
   "execution_count": 254,
   "id": "1663b0c0-4bda-4c7f-9c54-4b7f904b3e8a",
   "metadata": {},
   "outputs": [
    {
     "ename": "TypeError",
     "evalue": "'set' object is not subscriptable",
     "output_type": "error",
     "traceback": [
      "\u001b[1;31m---------------------------------------------------------------------------\u001b[0m",
      "\u001b[1;31mTypeError\u001b[0m                                 Traceback (most recent call last)",
      "Cell \u001b[1;32mIn[254], line 1\u001b[0m\n\u001b[1;32m----> 1\u001b[0m conj1[\u001b[38;5;241m0\u001b[39m]\n",
      "\u001b[1;31mTypeError\u001b[0m: 'set' object is not subscriptable"
     ]
    }
   ],
   "source": [
    "conj1[0] # NÃO É POSSÍVEL ACESSAR OS ELEMENTOS DO CONJUNTO DESSA FORMA"
   ]
  },
  {
   "cell_type": "code",
   "execution_count": 299,
   "id": "6e653205-3e8c-4218-83c3-2d52c3cd65f8",
   "metadata": {},
   "outputs": [
    {
     "name": "stdout",
     "output_type": "stream",
     "text": [
      "1\n",
      "2\n",
      "3\n",
      "4\n",
      "5\n"
     ]
    }
   ],
   "source": [
    "for elen in conj1: # DESSA FORMA É POSSÍVEL LISTAR OS ELEMENTOS. O PRINT DEVE SER ESPAÇADO EM RELAÇÃO AO FOR\n",
    " print(elen)"
   ]
  },
  {
   "cell_type": "code",
   "execution_count": 301,
   "id": "33f94611-2271-4415-a2de-92ed5580cdf5",
   "metadata": {},
   "outputs": [],
   "source": [
    "s1 = {1,2,3,4,5}\n",
    "s2 = {4,5,6,7}"
   ]
  },
  {
   "cell_type": "code",
   "execution_count": 303,
   "id": "03f3c9f9-b4b0-4427-8ab7-d2382a18d647",
   "metadata": {},
   "outputs": [],
   "source": [
    "s3 = s1.difference(s2) # Possui em s1 e não possui em s2"
   ]
  },
  {
   "cell_type": "code",
   "execution_count": 305,
   "id": "0854eddc-433e-4234-aeeb-09b2b9fdcd15",
   "metadata": {},
   "outputs": [
    {
     "data": {
      "text/plain": [
       "{1, 2, 3}"
      ]
     },
     "execution_count": 305,
     "metadata": {},
     "output_type": "execute_result"
    }
   ],
   "source": [
    "s3"
   ]
  },
  {
   "cell_type": "code",
   "execution_count": 307,
   "id": "05d57102-852e-4fd9-bf04-41c8b20a4e10",
   "metadata": {},
   "outputs": [],
   "source": [
    "s4 = s2.difference(s1) # Possui em s2 e não possui em s1"
   ]
  },
  {
   "cell_type": "code",
   "execution_count": 309,
   "id": "b594e482-aeb0-4f5a-9919-64b434e54c11",
   "metadata": {},
   "outputs": [
    {
     "data": {
      "text/plain": [
       "{6, 7}"
      ]
     },
     "execution_count": 309,
     "metadata": {},
     "output_type": "execute_result"
    }
   ],
   "source": [
    "s4"
   ]
  },
  {
   "cell_type": "code",
   "execution_count": 311,
   "id": "c5139e65-5a08-4536-9026-73b9c8fa2238",
   "metadata": {},
   "outputs": [],
   "source": [
    "s5 = s1.intersection(s2) # Elementos em comum"
   ]
  },
  {
   "cell_type": "code",
   "execution_count": 313,
   "id": "a89abc2e-ac70-41ce-8c96-ae32062bb903",
   "metadata": {},
   "outputs": [
    {
     "data": {
      "text/plain": [
       "{4, 5}"
      ]
     },
     "execution_count": 313,
     "metadata": {},
     "output_type": "execute_result"
    }
   ],
   "source": [
    "s5"
   ]
  },
  {
   "cell_type": "code",
   "execution_count": 315,
   "id": "00327234-9f44-4bcd-a5a8-a4d5727bc35e",
   "metadata": {},
   "outputs": [
    {
     "data": {
      "text/plain": [
       "False"
      ]
     },
     "execution_count": 315,
     "metadata": {},
     "output_type": "execute_result"
    }
   ],
   "source": [
    "s1.isdisjoint(s2) #Boolean que informa se eles não possuem valores em comum"
   ]
  },
  {
   "cell_type": "code",
   "execution_count": 317,
   "id": "ad7c584a-b9bb-4a53-a122-56a4438eb48c",
   "metadata": {},
   "outputs": [
    {
     "data": {
      "text/plain": [
       "True"
      ]
     },
     "execution_count": 317,
     "metadata": {},
     "output_type": "execute_result"
    }
   ],
   "source": [
    "s3.isdisjoint(s4) #Boolean que informa se eles não possuem valores em comum"
   ]
  },
  {
   "cell_type": "code",
   "execution_count": 319,
   "id": "d9550304-f60e-45e6-8751-291a6e751161",
   "metadata": {},
   "outputs": [
    {
     "data": {
      "text/plain": [
       "False"
      ]
     },
     "execution_count": 319,
     "metadata": {},
     "output_type": "execute_result"
    }
   ],
   "source": [
    "s1.issubset(s2) #Boolean que informa se s1 é um subconjunto de s2"
   ]
  },
  {
   "cell_type": "code",
   "execution_count": 321,
   "id": "d9850d32-e3cb-4003-b6e9-5eca0876d5c3",
   "metadata": {},
   "outputs": [
    {
     "data": {
      "text/plain": [
       "False"
      ]
     },
     "execution_count": 321,
     "metadata": {},
     "output_type": "execute_result"
    }
   ],
   "source": [
    "s2.issubset(s1) #Boolean que informa se s2 é um subconjunto de s1"
   ]
  },
  {
   "cell_type": "code",
   "execution_count": 323,
   "id": "b9d2e30b-82e3-4cd1-a1ec-9a3a6ed1df70",
   "metadata": {},
   "outputs": [
    {
     "data": {
      "text/plain": [
       "True"
      ]
     },
     "execution_count": 323,
     "metadata": {},
     "output_type": "execute_result"
    }
   ],
   "source": [
    "s3.issubset(s1)"
   ]
  },
  {
   "cell_type": "code",
   "execution_count": 325,
   "id": "4139fa9d-15ba-4644-9347-249f707c27ba",
   "metadata": {},
   "outputs": [
    {
     "data": {
      "text/plain": [
       "False"
      ]
     },
     "execution_count": 325,
     "metadata": {},
     "output_type": "execute_result"
    }
   ],
   "source": [
    "s1.issuperset(s2)"
   ]
  },
  {
   "cell_type": "code",
   "execution_count": 327,
   "id": "a40c6704-3c2d-48f9-af36-50417304abd1",
   "metadata": {},
   "outputs": [
    {
     "data": {
      "text/plain": [
       "True"
      ]
     },
     "execution_count": 327,
     "metadata": {},
     "output_type": "execute_result"
    }
   ],
   "source": [
    "s1.issuperset(s3)"
   ]
  },
  {
   "cell_type": "code",
   "execution_count": 331,
   "id": "a33e1653-b338-4e02-a4c7-a1a7cbfd43a8",
   "metadata": {},
   "outputs": [],
   "source": [
    "s3.remove(1)"
   ]
  },
  {
   "cell_type": "code",
   "execution_count": 333,
   "id": "bf8fcad4-d50b-4ccc-8cf6-daf43abb352e",
   "metadata": {},
   "outputs": [
    {
     "data": {
      "text/plain": [
       "{2, 3}"
      ]
     },
     "execution_count": 333,
     "metadata": {},
     "output_type": "execute_result"
    }
   ],
   "source": [
    "s3"
   ]
  },
  {
   "cell_type": "code",
   "execution_count": 335,
   "id": "7220a5d7-4cb8-4be6-9376-6ea26a25389e",
   "metadata": {},
   "outputs": [],
   "source": [
    "s3.discard(2)"
   ]
  },
  {
   "cell_type": "code",
   "execution_count": 337,
   "id": "4168b435-08b7-4b4c-ac61-c0227b082b8b",
   "metadata": {},
   "outputs": [
    {
     "data": {
      "text/plain": [
       "{3}"
      ]
     },
     "execution_count": 337,
     "metadata": {},
     "output_type": "execute_result"
    }
   ],
   "source": [
    "s3"
   ]
  },
  {
   "cell_type": "code",
   "execution_count": 339,
   "id": "0e01a5e8-ddee-4639-bbbb-8fb41b8cedc0",
   "metadata": {},
   "outputs": [],
   "source": [
    "s3.add(5)"
   ]
  },
  {
   "cell_type": "code",
   "execution_count": 341,
   "id": "1f5afc2b-ceeb-4ace-adc6-b82bda511885",
   "metadata": {},
   "outputs": [
    {
     "data": {
      "text/plain": [
       "{3, 5}"
      ]
     },
     "execution_count": 341,
     "metadata": {},
     "output_type": "execute_result"
    }
   ],
   "source": [
    "s3"
   ]
  },
  {
   "cell_type": "code",
   "execution_count": 343,
   "id": "cd70a321-423b-483d-a16f-9b79b8ffff76",
   "metadata": {},
   "outputs": [],
   "source": [
    "s5 = s1.symmetric_difference(s2)"
   ]
  },
  {
   "cell_type": "code",
   "execution_count": 345,
   "id": "fab21b8c-985a-463c-bf62-03ac9eb3bd1e",
   "metadata": {},
   "outputs": [
    {
     "data": {
      "text/plain": [
       "{1, 2, 3, 6, 7}"
      ]
     },
     "execution_count": 345,
     "metadata": {},
     "output_type": "execute_result"
    }
   ],
   "source": [
    "s5"
   ]
  },
  {
   "cell_type": "code",
   "execution_count": 347,
   "id": "95a1b2c5-bb48-4a79-a3d0-b3736ed9333c",
   "metadata": {},
   "outputs": [],
   "source": [
    "s6 = s1.union(s2)"
   ]
  },
  {
   "cell_type": "code",
   "execution_count": 349,
   "id": "24151b22-af79-427c-8dab-47d3bf2cb537",
   "metadata": {},
   "outputs": [
    {
     "data": {
      "text/plain": [
       "{1, 2, 3, 4, 5, 6, 7}"
      ]
     },
     "execution_count": 349,
     "metadata": {},
     "output_type": "execute_result"
    }
   ],
   "source": [
    "s6"
   ]
  },
  {
   "cell_type": "code",
   "execution_count": null,
   "id": "d4abfb80-2225-49b7-99a1-b22c4986304c",
   "metadata": {},
   "outputs": [],
   "source": []
  }
 ],
 "metadata": {
  "kernelspec": {
   "display_name": "Python [conda env:base] *",
   "language": "python",
   "name": "conda-base-py"
  },
  "language_info": {
   "codemirror_mode": {
    "name": "ipython",
    "version": 3
   },
   "file_extension": ".py",
   "mimetype": "text/x-python",
   "name": "python",
   "nbconvert_exporter": "python",
   "pygments_lexer": "ipython3",
   "version": "3.12.7"
  }
 },
 "nbformat": 4,
 "nbformat_minor": 5
}
